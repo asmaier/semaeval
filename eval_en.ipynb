{
 "cells": [
  {
   "cell_type": "code",
   "execution_count": 1,
   "metadata": {},
   "outputs": [
    {
     "name": "stdout",
     "output_type": "stream",
     "text": [
      "Deleting: input/en\n"
     ]
    }
   ],
   "source": [
    "import semaeval.util as util\n",
    "util.clean_storage()"
   ]
  },
  {
   "cell_type": "code",
   "execution_count": 2,
   "metadata": {},
   "outputs": [],
   "source": [
    "import semaeval.source.syndication as synd"
   ]
  },
  {
   "cell_type": "code",
   "execution_count": 3,
   "metadata": {},
   "outputs": [
    {
     "name": "stdout",
     "output_type": "stream",
     "text": [
      "Help on module semaeval.source.syndication in semaeval.source:\n",
      "\n",
      "NAME\n",
      "    semaeval.source.syndication - # -*- coding: utf-8 -*-\n",
      "\n",
      "FILE\n",
      "    /Users/amaier1/git/semaeval/semaeval/source/syndication.py\n",
      "\n",
      "FUNCTIONS\n",
      "    article_from_path(path)\n",
      "    \n",
      "    articles_from_dir(dir)\n",
      "    \n",
      "    load_articles(prefix)\n",
      "    \n",
      "    store_articles(articles, prefix)\n",
      "\n",
      "DATA\n",
      "    store_dir = 'input/'\n",
      "    url_regex = <_sre.SRE_Pattern object>\n",
      "\n",
      "\n"
     ]
    }
   ],
   "source": [
    "help(synd)"
   ]
  },
  {
   "cell_type": "code",
   "execution_count": 4,
   "metadata": {},
   "outputs": [],
   "source": [
    "bild = synd.articles_from_dir(\"/Users/amaier1/Documents/semeval/bicotest\")"
   ]
  },
  {
   "cell_type": "code",
   "execution_count": 5,
   "metadata": {},
   "outputs": [],
   "source": [
    "welt = synd.articles_from_dir(\"/Users/amaier1/Documents/semeval/weonetest\")"
   ]
  },
  {
   "cell_type": "code",
   "execution_count": 6,
   "metadata": {},
   "outputs": [],
   "source": [
    "wild = bild + welt"
   ]
  },
  {
   "cell_type": "code",
   "execution_count": 7,
   "metadata": {},
   "outputs": [],
   "source": [
    "import random\n",
    "articles = random.sample(wild,50)"
   ]
  },
  {
   "cell_type": "code",
   "execution_count": 8,
   "metadata": {},
   "outputs": [
    {
     "name": "stdout",
     "output_type": "stream",
     "text": [
      "Storing file:  input/en/weonetest_543.yml\n",
      "Storing file:  input/en/bicotest_084.yml\n",
      "Storing file:  input/en/bicotest_154.yml\n",
      "Storing file:  input/en/bicotest_460.yml\n",
      "Storing file:  input/en/bicotest_298.yml\n",
      "Storing file:  input/en/bicotest_136.yml\n",
      "Storing file:  input/en/bicotest_527.yml\n",
      "Storing file:  input/en/weonetest_502.yml\n",
      "Storing file:  input/en/weonetest_967.yml\n",
      "Storing file:  input/en/weonetest_626.yml\n",
      "Storing file:  input/en/weonetest_412.yml\n",
      "Storing file:  input/en/weonetest_274.yml\n",
      "Storing file:  input/en/weonetest_1009.yml\n",
      "Storing file:  input/en/weonetest_1089.yml\n",
      "Storing file:  input/en/bicotest_166.yml\n",
      "Storing file:  input/en/bicotest_307.yml\n",
      "Storing file:  input/en/weonetest_844.yml\n",
      "Storing file:  input/en/bicotest_406.yml\n",
      "Storing file:  input/en/weonetest_789.yml\n",
      "Storing file:  input/en/weonetest_048.yml\n",
      "Storing file:  input/en/weonetest_076.yml\n",
      "Storing file:  input/en/bicotest_454.yml\n",
      "Storing file:  input/en/weonetest_087.yml\n",
      "Storing file:  input/en/weonetest_230.yml\n",
      "Storing file:  input/en/bicotest_153.yml\n",
      "Storing file:  input/en/bicotest_304.yml\n",
      "Storing file:  input/en/weonetest_150.yml\n",
      "Storing file:  input/en/weonetest_050.yml\n",
      "Storing file:  input/en/bicotest_329.yml\n",
      "Storing file:  input/en/weonetest_993.yml\n",
      "Storing file:  input/en/weonetest_887.yml\n",
      "Storing file:  input/en/bicotest_156.yml\n",
      "Storing file:  input/en/weonetest_877.yml\n",
      "Storing file:  input/en/bicotest_178.yml\n",
      "Storing file:  input/en/weonetest_210.yml\n",
      "Storing file:  input/en/weonetest_1170.yml\n",
      "Storing file:  input/en/weonetest_173.yml\n",
      "Storing file:  input/en/weonetest_052.yml\n",
      "Storing file:  input/en/bicotest_434.yml\n",
      "Storing file:  input/en/bicotest_269.yml\n",
      "Storing file:  input/en/weonetest_978.yml\n",
      "Storing file:  input/en/weonetest_511.yml\n",
      "Storing file:  input/en/weonetest_1023.yml\n",
      "Storing file:  input/en/bicotest_097.yml\n",
      "Storing file:  input/en/bicotest_582.yml\n",
      "Storing file:  input/en/weonetest_722.yml\n",
      "Storing file:  input/en/weonetest_1058.yml\n",
      "Storing file:  input/en/weonetest_568.yml\n",
      "Storing file:  input/en/weonetest_1012.yml\n",
      "Storing file:  input/en/weonetest_009.yml\n"
     ]
    }
   ],
   "source": [
    "synd.store_articles(articles,\"en\")"
   ]
  },
  {
   "cell_type": "code",
   "execution_count": 9,
   "metadata": {},
   "outputs": [],
   "source": [
    "import semaeval.evaluate as eval"
   ]
  },
  {
   "cell_type": "code",
   "execution_count": 10,
   "metadata": {},
   "outputs": [
    {
     "name": "stdout",
     "output_type": "stream",
     "text": [
      "\n",
      "semaeval.engine.meaningcloud\n",
      "semaeval.engine.txtrazor\n",
      "semaeval.engine.semant\n",
      "semaeval.engine.alchemy\n",
      "semaeval.engine.retresco\n",
      "semaeval.engine.simple\n",
      "http://www.bild.de/BILD/news/bild-english/celebrity-gossip/2010/03/31/jesse-james/sandra-bullock-husband-in-rehab-for-sex-addiction.html\n",
      "semaeval.engine.meaningcloud\n",
      "semaeval.engine.txtrazor\n",
      "semaeval.engine.semant\n",
      "semaeval.engine.alchemy\n",
      "alchemy:"
     ]
    },
    {
     "name": "stderr",
     "output_type": "stream",
     "text": [
      "/usr/local/lib/python2.7/site-packages/requests/packages/urllib3/connectionpool.py:769: InsecureRequestWarning: Unverified HTTPS request is being made. Adding certificate verification is strongly advised. See: https://urllib3.readthedocs.org/en/latest/security.html\n",
      "  InsecureRequestWarning)\n",
      "/usr/local/lib/python2.7/site-packages/requests/packages/urllib3/connectionpool.py:769: InsecureRequestWarning: Unverified HTTPS request is being made. Adding certificate verification is strongly advised. See: https://urllib3.readthedocs.org/en/latest/security.html\n",
      "  InsecureRequestWarning)\n"
     ]
    },
    {
     "name": "stdout",
     "output_type": "stream",
     "text": [
      " TelevisionStation\n",
      "semaeval.engine.retresco\n",
      "semaeval.engine.simple\n",
      "http://www.bild.de/BILD/news/bild-english/world-news/2010/04/22/debt-spiral-swallowing-greece/shock-figures-reveal-greek-budget-deficit-increase.html\n",
      "semaeval.engine.meaningcloud\n",
      "semaeval.engine.txtrazor\n",
      "semaeval.engine.semant\n",
      "semaeval.engine.alchemy\n",
      "semaeval.engine.retresco\n",
      "semaeval.engine.simple\n",
      "http://www.bild.de/BILD/news/bild-english/sport-news/football/world-cup-2010-south-africa/07/08/crazy-party-scenes-in-madrid/naked-joy-as-spain-celebrates-world-cup-fiesta.html\n",
      "semaeval.engine.meaningcloud\n",
      "semaeval.engine.txtrazor\n",
      "semaeval.engine.semant\n",
      "semaeval.engine.alchemy\n",
      "semaeval.engine.retresco"
     ]
    },
    {
     "name": "stderr",
     "output_type": "stream",
     "text": [
      "/usr/local/lib/python2.7/site-packages/requests/packages/urllib3/connectionpool.py:769: InsecureRequestWarning: Unverified HTTPS request is being made. Adding certificate verification is strongly advised. See: https://urllib3.readthedocs.org/en/latest/security.html\n",
      "  InsecureRequestWarning)\n",
      "/usr/local/lib/python2.7/site-packages/requests/packages/urllib3/connectionpool.py:769: InsecureRequestWarning: Unverified HTTPS request is being made. Adding certificate verification is strongly advised. See: https://urllib3.readthedocs.org/en/latest/security.html\n",
      "  InsecureRequestWarning)\n"
     ]
    },
    {
     "name": "stdout",
     "output_type": "stream",
     "text": [
      "\n",
      "semaeval.engine.simple\n",
      "http://www.bild.de/BILD/news/bild-english/world-news/2010/06/08/angry-outburst-over-oil-spill-response/barack-obama-i-want-to-know-whose-ass-i-should-kick.html\n",
      "semaeval.engine.meaningcloud\n",
      "meaningcloud: Top>Event>NaturalPhenomena\n",
      "semaeval.engine.txtrazor\n",
      "semaeval.engine.semant\n",
      "semaeval.engine.alchemy\n",
      "alchemy: GeographicFeature\n",
      "alchemy: NaturalDisaster\n",
      "semaeval.engine.retresco\n",
      "semaeval.engine.simple\n",
      "http://www.bild.de/BILD/news/bild-english/world-news/2010/04/19/iceland-volcano-eruption-chaos/no-respite-for-passengers-stranded-by-europe-ash-cloud.html\n",
      "semaeval.engine.meaningcloud\n",
      "semaeval.engine.txtrazor\n",
      "semaeval.engine.semant\n",
      "semaeval.engine.alchemy\n",
      "alchemy:"
     ]
    },
    {
     "name": "stderr",
     "output_type": "stream",
     "text": [
      "/usr/local/lib/python2.7/site-packages/requests/packages/urllib3/connectionpool.py:769: InsecureRequestWarning: Unverified HTTPS request is being made. Adding certificate verification is strongly advised. See: https://urllib3.readthedocs.org/en/latest/security.html\n",
      "  InsecureRequestWarning)\n",
      "/usr/local/lib/python2.7/site-packages/requests/packages/urllib3/connectionpool.py:769: InsecureRequestWarning: Unverified HTTPS request is being made. Adding certificate verification is strongly advised. See: https://urllib3.readthedocs.org/en/latest/security.html\n",
      "  InsecureRequestWarning)\n"
     ]
    },
    {
     "name": "stdout",
     "output_type": "stream",
     "text": [
      " GeographicFeature\n",
      "alchemy: GeographicFeature\n",
      "semaeval.engine.retresco\n",
      "semaeval.engine.simple\n",
      "http://www.bild.de/BILD/news/bild-english/sport-news/football/world-football/2010/07/22/rummenigge/bayern-very-worried-by-ribery-sex-scandal-case.html\n",
      "semaeval.engine.meaningcloud\n",
      "semaeval.engine.txtrazor\n",
      "semaeval.engine.semant\n",
      "semaeval.engine.alchemy\n",
      "alchemy: GeographicFeature\n",
      "alchemy: Crime\n",
      "semaeval.engine.retresco\n",
      "semaeval.engine.simple\n",
      "\n",
      "semaeval.engine.meaningcloud\n",
      "meaningcloud: Top>Product>Machine>Vehicle\n",
      "semaeval.engine.txtrazor\n",
      "textrazor: [u'MeanOfTransportation', u'Aircraft']\n",
      "semaeval.engine.semant\n",
      "semaeval.engine.alchemy\n",
      "alchemy:"
     ]
    },
    {
     "name": "stderr",
     "output_type": "stream",
     "text": [
      "/usr/local/lib/python2.7/site-packages/requests/packages/urllib3/connectionpool.py:769: InsecureRequestWarning: Unverified HTTPS request is being made. Adding certificate verification is strongly advised. See: https://urllib3.readthedocs.org/en/latest/security.html\n",
      "  InsecureRequestWarning)\n",
      "/usr/local/lib/python2.7/site-packages/requests/packages/urllib3/connectionpool.py:769: InsecureRequestWarning: Unverified HTTPS request is being made. Adding certificate verification is strongly advised. See: https://urllib3.readthedocs.org/en/latest/security.html\n",
      "  InsecureRequestWarning)\n"
     ]
    },
    {
     "name": "stdout",
     "output_type": "stream",
     "text": [
      " GeographicFeature\n",
      "alchemy: GeographicFeature\n",
      "alchemy: GeographicFeature\n",
      "semaeval.engine.retresco\n",
      "semaeval.engine.simple\n",
      "\n",
      "semaeval.engine.meaningcloud\n",
      "semaeval.engine.txtrazor\n",
      "semaeval.engine.semant\n",
      "semaeval.engine.alchemy\n",
      "semaeval.engine.retresco\n",
      "semaeval.engine.simple\n",
      "\n",
      "semaeval.engine.meaningcloud\n",
      "semaeval.engine.txtrazor\n",
      "semaeval.engine.semant\n",
      "semantria: vehicle\n",
      "semaeval.engine.alchemy\n",
      "semaeval.engine.retresco"
     ]
    },
    {
     "name": "stderr",
     "output_type": "stream",
     "text": [
      "/usr/local/lib/python2.7/site-packages/requests/packages/urllib3/connectionpool.py:769: InsecureRequestWarning: Unverified HTTPS request is being made. Adding certificate verification is strongly advised. See: https://urllib3.readthedocs.org/en/latest/security.html\n",
      "  InsecureRequestWarning)\n",
      "/usr/local/lib/python2.7/site-packages/requests/packages/urllib3/connectionpool.py:769: InsecureRequestWarning: Unverified HTTPS request is being made. Adding certificate verification is strongly advised. See: https://urllib3.readthedocs.org/en/latest/security.html\n",
      "  InsecureRequestWarning)\n"
     ]
    },
    {
     "name": "stdout",
     "output_type": "stream",
     "text": [
      "\n",
      "semaeval.engine.simple\n",
      "\n",
      "semaeval.engine.meaningcloud\n",
      "meaningcloud: Top>Timex>Date\n",
      "semaeval.engine.txtrazor\n",
      "semaeval.engine.semant\n",
      "semaeval.engine.alchemy\n",
      "alchemy: GeographicFeature\n",
      "alchemy: Crime\n",
      "semaeval.engine.retresco\n",
      "semaeval.engine.simple\n",
      "\n",
      "semaeval.engine.meaningcloud\n",
      "semaeval.engine.txtrazor\n",
      "semaeval.engine.semant\n",
      "semantria: List\n",
      "semaeval.engine.alchemy\n",
      "semaeval.engine.retresco"
     ]
    },
    {
     "name": "stderr",
     "output_type": "stream",
     "text": [
      "/usr/local/lib/python2.7/site-packages/requests/packages/urllib3/connectionpool.py:769: InsecureRequestWarning: Unverified HTTPS request is being made. Adding certificate verification is strongly advised. See: https://urllib3.readthedocs.org/en/latest/security.html\n",
      "  InsecureRequestWarning)\n",
      "/usr/local/lib/python2.7/site-packages/requests/packages/urllib3/connectionpool.py:769: InsecureRequestWarning: Unverified HTTPS request is being made. Adding certificate verification is strongly advised. See: https://urllib3.readthedocs.org/en/latest/security.html\n",
      "  InsecureRequestWarning)\n"
     ]
    },
    {
     "name": "stdout",
     "output_type": "stream",
     "text": [
      "\n",
      "semaeval.engine.simple\n",
      "http://www.welt.de/international/article3882703/North-Korea-sentences-U-S-reporters-to-hard-labor.html#reqRSS\n",
      "semaeval.engine.meaningcloud\n",
      "semaeval.engine.txtrazor\n",
      "semaeval.engine.semant\n",
      "semaeval.engine.alchemy\n",
      "semaeval.engine.retresco\n",
      "semaeval.engine.simple\n",
      "http://www.welt.de/international/article4003708/Michael-Jackson-album-sales-soar.html#reqRSS\n",
      "semaeval.engine.meaningcloud\n",
      "semaeval.engine.txtrazor\n",
      "semaeval.engine.semant\n",
      "semaeval.engine.alchemy\n",
      "alchemy:"
     ]
    },
    {
     "name": "stderr",
     "output_type": "stream",
     "text": [
      "/usr/local/lib/python2.7/site-packages/requests/packages/urllib3/connectionpool.py:769: InsecureRequestWarning: Unverified HTTPS request is being made. Adding certificate verification is strongly advised. See: https://urllib3.readthedocs.org/en/latest/security.html\n",
      "  InsecureRequestWarning)\n",
      "/usr/local/lib/python2.7/site-packages/requests/packages/urllib3/connectionpool.py:769: InsecureRequestWarning: Unverified HTTPS request is being made. Adding certificate verification is strongly advised. See: https://urllib3.readthedocs.org/en/latest/security.html\n",
      "  InsecureRequestWarning)\n"
     ]
    },
    {
     "name": "stdout",
     "output_type": "stream",
     "text": [
      " Movie\n",
      "semaeval.engine.retresco\n",
      "semaeval.engine.simple\n",
      "http://www.bild.de/BILD/news/bild-english/celebrity-gossip/2010/04/27/madeleine-of-sweden/and-jonas-bergstroem-fairytale-of-a-sad-princess.html\n",
      "semaeval.engine.meaningcloud\n",
      "semaeval.engine.txtrazor\n",
      "semaeval.engine.semant\n",
      "semaeval.engine.alchemy\n",
      "semaeval.engine.retresco\n",
      "semaeval.engine.simple\n",
      "http://www.bild.de/BILD/news/bild-english/sport-news/football/world-cup-2010-south-africa/06/10/topless-fans/heating-up-south-africa-as-world-cup-fever-breaks-out.html\n",
      "semaeval.engine.meaningcloud\n",
      "meaningcloud: Top>Process>Motion\n",
      "semaeval.engine.txtrazor\n",
      "semaeval.engine.semant\n",
      "semaeval.engine.alchemy\n",
      "semaeval.engine.retresco"
     ]
    },
    {
     "name": "stderr",
     "output_type": "stream",
     "text": [
      "/usr/local/lib/python2.7/site-packages/requests/packages/urllib3/connectionpool.py:769: InsecureRequestWarning: Unverified HTTPS request is being made. Adding certificate verification is strongly advised. See: https://urllib3.readthedocs.org/en/latest/security.html\n",
      "  InsecureRequestWarning)\n",
      "/usr/local/lib/python2.7/site-packages/requests/packages/urllib3/connectionpool.py:769: InsecureRequestWarning: Unverified HTTPS request is being made. Adding certificate verification is strongly advised. See: https://urllib3.readthedocs.org/en/latest/security.html\n",
      "  InsecureRequestWarning)\n"
     ]
    },
    {
     "name": "stdout",
     "output_type": "stream",
     "text": [
      "\n",
      "semaeval.engine.simple\n",
      "http://www.welt.de/english-news/article3783245/Four-arrested-suspects-wanted-to-wage-a-holy-war.html#reqRSS\n",
      "semaeval.engine.meaningcloud\n",
      "meaningcloud: Top>Process>Motion\n",
      "meaningcloud: Top>Timex>Date\n",
      "semaeval.engine.txtrazor\n",
      "textrazor: [u'Device', u'Weapon']\n",
      "textrazor: [u'Device', u'Weapon']\n",
      "semaeval.engine.semant\n",
      "semaeval.engine.alchemy\n",
      "semaeval.engine.retresco\n",
      "semaeval.engine.simple\n",
      "http://www.bild.de/BILD/news/bild-english/sport-news/football/world-cup-2010-south-africa/06/29/samba-boys-talking-of-final/can-anyone-stop-brazil-winning-world-cup.html\n",
      "semaeval.engine.meaningcloud\n",
      "semaeval.engine.txtrazor\n",
      "semaeval.engine.semant\n",
      "semaeval.engine.alchemy\n",
      "semaeval.engine.retresco"
     ]
    },
    {
     "name": "stderr",
     "output_type": "stream",
     "text": [
      "/usr/local/lib/python2.7/site-packages/requests/packages/urllib3/connectionpool.py:769: InsecureRequestWarning: Unverified HTTPS request is being made. Adding certificate verification is strongly advised. See: https://urllib3.readthedocs.org/en/latest/security.html\n",
      "  InsecureRequestWarning)\n",
      "/usr/local/lib/python2.7/site-packages/requests/packages/urllib3/connectionpool.py:769: InsecureRequestWarning: Unverified HTTPS request is being made. Adding certificate verification is strongly advised. See: https://urllib3.readthedocs.org/en/latest/security.html\n",
      "  InsecureRequestWarning)\n"
     ]
    },
    {
     "name": "stdout",
     "output_type": "stream",
     "text": [
      "\n",
      "semaeval.engine.simple\n",
      "\n",
      "semaeval.engine.meaningcloud\n",
      "semaeval.engine.txtrazor\n",
      "semaeval.engine.semant\n",
      "semaeval.engine.alchemy\n",
      "semaeval.engine.retresco\n",
      "semaeval.engine.simple\n",
      "\n",
      "semaeval.engine.meaningcloud\n",
      "semaeval.engine.txtrazor\n",
      "textrazor: [u'Award']\n",
      "textrazor: [u'Award']\n",
      "textrazor: [u'Award']\n",
      "semaeval.engine.semant\n",
      "semaeval.engine.alchemy\n",
      "alchemy:"
     ]
    },
    {
     "name": "stderr",
     "output_type": "stream",
     "text": [
      "/usr/local/lib/python2.7/site-packages/requests/packages/urllib3/connectionpool.py:769: InsecureRequestWarning: Unverified HTTPS request is being made. Adding certificate verification is strongly advised. See: https://urllib3.readthedocs.org/en/latest/security.html\n",
      "  InsecureRequestWarning)\n",
      "/usr/local/lib/python2.7/site-packages/requests/packages/urllib3/connectionpool.py:769: InsecureRequestWarning: Unverified HTTPS request is being made. Adding certificate verification is strongly advised. See: https://urllib3.readthedocs.org/en/latest/security.html\n",
      "  InsecureRequestWarning)\n"
     ]
    },
    {
     "name": "stdout",
     "output_type": "stream",
     "text": [
      " Movie\n",
      "alchemy: Movie\n",
      "alchemy: Movie\n",
      "semaeval.engine.retresco\n",
      "semaeval.engine.simple\n",
      "\n",
      "semaeval.engine.meaningcloud\n",
      "semaeval.engine.txtrazor\n",
      "semaeval.engine.semant\n",
      "semaeval.engine.alchemy\n",
      "alchemy: GeographicFeature\n",
      "semaeval.engine.retresco\n",
      "semaeval.engine.simple\n",
      "http://www.bild.de/BILD/news/bild-english/world-news/2010/07/08/moscows-hottest-spy/sexy-anna-chapman-in-swap-for-us-agents.html\n",
      "semaeval.engine.meaningcloud\n",
      "semaeval.engine.txtrazor\n",
      "semaeval.engine.semant\n",
      "semaeval.engine.alchemy\n",
      "semaeval.engine.retresco"
     ]
    },
    {
     "name": "stderr",
     "output_type": "stream",
     "text": [
      "/usr/local/lib/python2.7/site-packages/requests/packages/urllib3/connectionpool.py:769: InsecureRequestWarning: Unverified HTTPS request is being made. Adding certificate verification is strongly advised. See: https://urllib3.readthedocs.org/en/latest/security.html\n",
      "  InsecureRequestWarning)\n",
      "/usr/local/lib/python2.7/site-packages/requests/packages/urllib3/connectionpool.py:769: InsecureRequestWarning: Unverified HTTPS request is being made. Adding certificate verification is strongly advised. See: https://urllib3.readthedocs.org/en/latest/security.html\n",
      "  InsecureRequestWarning)\n"
     ]
    },
    {
     "name": "stdout",
     "output_type": "stream",
     "text": [
      "\n",
      "semaeval.engine.simple\n",
      "\n",
      "semaeval.engine.meaningcloud\n",
      "semaeval.engine.txtrazor\n",
      "semaeval.engine.semant\n",
      "semaeval.engine.alchemy\n",
      "semaeval.engine.retresco\n",
      "semaeval.engine.simple\n",
      "\n",
      "semaeval.engine.meaningcloud\n",
      "semaeval.engine.txtrazor\n",
      "textrazor: [u'Award']\n",
      "textrazor: [u'Award']\n",
      "semaeval.engine.semant\n",
      "semaeval.engine.alchemy\n",
      "alchemy:"
     ]
    },
    {
     "name": "stderr",
     "output_type": "stream",
     "text": [
      "/usr/local/lib/python2.7/site-packages/requests/packages/urllib3/connectionpool.py:769: InsecureRequestWarning: Unverified HTTPS request is being made. Adding certificate verification is strongly advised. See: https://urllib3.readthedocs.org/en/latest/security.html\n",
      "  InsecureRequestWarning)\n",
      "/usr/local/lib/python2.7/site-packages/requests/packages/urllib3/connectionpool.py:769: InsecureRequestWarning: Unverified HTTPS request is being made. Adding certificate verification is strongly advised. See: https://urllib3.readthedocs.org/en/latest/security.html\n",
      "  InsecureRequestWarning)\n"
     ]
    },
    {
     "name": "stdout",
     "output_type": "stream",
     "text": [
      " GeographicFeature\n",
      "semaeval.engine.retresco\n",
      "semaeval.engine.simple\n",
      "http://www.bild.de/BILD/news/bild-english/celebrity-gossip/2010/04/22/david-hasselhoff-autobiography/hoff-first-sex-we-were-drunk-she-fell-asleep.html\n",
      "semaeval.engine.meaningcloud\n",
      "semaeval.engine.txtrazor\n",
      "semaeval.engine.semant\n",
      "semaeval.engine.alchemy\n",
      "semaeval.engine.retresco\n",
      "semaeval.engine.simple\n",
      "http://www.bild.de/BILD/news/bild-english/world-news/2010/06/10/sex-attacker-on-the-run/young-girl-8-raped-in-germany-school-toilet.html\n",
      "semaeval.engine.meaningcloud\n",
      "semaeval.engine.txtrazor\n",
      "semaeval.engine.semant\n",
      "semaeval.engine.alchemy\n",
      "semaeval.engine.retresco"
     ]
    },
    {
     "name": "stderr",
     "output_type": "stream",
     "text": [
      "/usr/local/lib/python2.7/site-packages/requests/packages/urllib3/connectionpool.py:769: InsecureRequestWarning: Unverified HTTPS request is being made. Adding certificate verification is strongly advised. See: https://urllib3.readthedocs.org/en/latest/security.html\n",
      "  InsecureRequestWarning)\n",
      "/usr/local/lib/python2.7/site-packages/requests/packages/urllib3/connectionpool.py:769: InsecureRequestWarning: Unverified HTTPS request is being made. Adding certificate verification is strongly advised. See: https://urllib3.readthedocs.org/en/latest/security.html\n",
      "  InsecureRequestWarning)\n"
     ]
    },
    {
     "name": "stdout",
     "output_type": "stream",
     "text": [
      "\n",
      "semaeval.engine.simple\n",
      "\n",
      "semaeval.engine.meaningcloud\n",
      "semaeval.engine.txtrazor\n",
      "semaeval.engine.semant\n",
      "semaeval.engine.alchemy\n",
      "alchemy: Crime\n",
      "alchemy: OperatingSystem\n",
      "alchemy: Crime\n",
      "semaeval.engine.retresco\n",
      "semaeval.engine.simple\n",
      "\n",
      "semaeval.engine.meaningcloud\n",
      "semaeval.engine.txtrazor\n",
      "semaeval.engine.semant\n",
      "semaeval.engine.alchemy\n",
      "semaeval.engine.retresco"
     ]
    },
    {
     "name": "stderr",
     "output_type": "stream",
     "text": [
      "/usr/local/lib/python2.7/site-packages/requests/packages/urllib3/connectionpool.py:769: InsecureRequestWarning: Unverified HTTPS request is being made. Adding certificate verification is strongly advised. See: https://urllib3.readthedocs.org/en/latest/security.html\n",
      "  InsecureRequestWarning)\n",
      "/usr/local/lib/python2.7/site-packages/requests/packages/urllib3/connectionpool.py:769: InsecureRequestWarning: Unverified HTTPS request is being made. Adding certificate verification is strongly advised. See: https://urllib3.readthedocs.org/en/latest/security.html\n",
      "  InsecureRequestWarning)\n"
     ]
    },
    {
     "name": "stdout",
     "output_type": "stream",
     "text": [
      "\n",
      "semaeval.engine.simple\n",
      "http://www.bild.de/BILD/news/bild-english/sport-news/football/world-cup-2010-south-africa/06/15/ivory-coast-0-0-portugal/still-no-goal-and-no-win-for-ronaldo.html\n",
      "semaeval.engine.meaningcloud\n",
      "semaeval.engine.txtrazor\n",
      "semaeval.engine.semant\n",
      "semantria: Sports\n",
      "semaeval.engine.alchemy\n",
      "alchemy: GeographicFeature\n",
      "semaeval.engine.retresco\n",
      "semaeval.engine.simple\n",
      "http://www.welt.de/international/article3851859/Madagascars-former-leader-sentenced-in-absentia.html#reqRSS\n",
      "semaeval.engine.meaningcloud\n",
      "semaeval.engine.txtrazor\n",
      "semaeval.engine.semant\n",
      "semaeval.engine.alchemy\n",
      "alchemy:"
     ]
    },
    {
     "name": "stderr",
     "output_type": "stream",
     "text": [
      "/usr/local/lib/python2.7/site-packages/requests/packages/urllib3/connectionpool.py:769: InsecureRequestWarning: Unverified HTTPS request is being made. Adding certificate verification is strongly advised. See: https://urllib3.readthedocs.org/en/latest/security.html\n",
      "  InsecureRequestWarning)\n",
      "/usr/local/lib/python2.7/site-packages/requests/packages/urllib3/connectionpool.py:769: InsecureRequestWarning: Unverified HTTPS request is being made. Adding certificate verification is strongly advised. See: https://urllib3.readthedocs.org/en/latest/security.html\n",
      "  InsecureRequestWarning)\n"
     ]
    },
    {
     "name": "stdout",
     "output_type": "stream",
     "text": [
      " GeographicFeature\n",
      "alchemy: GeographicFeature\n",
      "semaeval.engine.retresco\n",
      "semaeval.engine.simple\n",
      "\n",
      "semaeval.engine.meaningcloud\n",
      "semaeval.engine.txtrazor\n",
      "semaeval.engine.semant\n",
      "semaeval.engine.alchemy\n",
      "alchemy: GeographicFeature\n",
      "semaeval.engine.retresco\n",
      "semaeval.engine.simple\n",
      "http://www.bild.de/BILD/news/bild-english/world-news/2010/04/23/plastinator-gunther-von-hagens/dr-death-opening-gruesome-body-parts-supermarket.html\n",
      "semaeval.engine.meaningcloud\n",
      "semaeval.engine.txtrazor\n",
      "semaeval.engine.semant\n",
      "semaeval.engine.alchemy\n",
      "alchemy:"
     ]
    },
    {
     "name": "stderr",
     "output_type": "stream",
     "text": [
      "/usr/local/lib/python2.7/site-packages/requests/packages/urllib3/connectionpool.py:769: InsecureRequestWarning: Unverified HTTPS request is being made. Adding certificate verification is strongly advised. See: https://urllib3.readthedocs.org/en/latest/security.html\n",
      "  InsecureRequestWarning)\n",
      "/usr/local/lib/python2.7/site-packages/requests/packages/urllib3/connectionpool.py:769: InsecureRequestWarning: Unverified HTTPS request is being made. Adding certificate verification is strongly advised. See: https://urllib3.readthedocs.org/en/latest/security.html\n",
      "  InsecureRequestWarning)\n"
     ]
    },
    {
     "name": "stdout",
     "output_type": "stream",
     "text": [
      " GeographicFeature\n",
      "semaeval.engine.retresco\n",
      "semaeval.engine.simple\n",
      "http://www.welt.de/english-news/article3797685/Michael-Haneke-wins-the-Palme-dOr-at-Cannes.html#reqRSS\n",
      "semaeval.engine.meaningcloud\n",
      "meaningcloud: Top>Event\n",
      "semaeval.engine.txtrazor\n",
      "textrazor: [u'Award']\n",
      "textrazor: [u'Award']\n",
      "textrazor: [u'Instrument']\n",
      "textrazor: [u'Award']\n",
      "textrazor: [u'Award']\n",
      "textrazor: [u'Award']\n",
      "semaeval.engine.semant\n",
      "semaeval.engine.alchemy\n",
      "alchemy: GeographicFeature\n",
      "alchemy: Movie\n",
      "semaeval.engine.retresco\n",
      "semaeval.engine.simple\n",
      "http://www.bild.de/BILD/news/bild-english/world-news/2010/04/29/oil-rig-disaster/gulf-of-mexico-burns-as-coast-guard-sets-fire-to-slick.html\n",
      "semaeval.engine.meaningcloud\n",
      "semaeval.engine.txtrazor\n",
      "semaeval.engine.semant\n",
      "semaeval.engine.alchemy\n",
      "alchemy:"
     ]
    },
    {
     "name": "stderr",
     "output_type": "stream",
     "text": [
      "/usr/local/lib/python2.7/site-packages/requests/packages/urllib3/connectionpool.py:769: InsecureRequestWarning: Unverified HTTPS request is being made. Adding certificate verification is strongly advised. See: https://urllib3.readthedocs.org/en/latest/security.html\n",
      "  InsecureRequestWarning)\n",
      "/usr/local/lib/python2.7/site-packages/requests/packages/urllib3/connectionpool.py:769: InsecureRequestWarning: Unverified HTTPS request is being made. Adding certificate verification is strongly advised. See: https://urllib3.readthedocs.org/en/latest/security.html\n",
      "  InsecureRequestWarning)\n"
     ]
    },
    {
     "name": "stdout",
     "output_type": "stream",
     "text": [
      " GeographicFeature\n",
      "semaeval.engine.retresco\n",
      "semaeval.engine.simple\n",
      "\n",
      "semaeval.engine.meaningcloud\n",
      "semaeval.engine.txtrazor\n",
      "semaeval.engine.semant\n",
      "semaeval.engine.alchemy\n",
      "alchemy: GeographicFeature\n",
      "semaeval.engine.retresco\n",
      "semaeval.engine.simple\n",
      "http://www.welt.de/international/article4087942/More-cyber-attacks-in-the-pipeline.html#reqRSS\n",
      "semaeval.engine.meaningcloud\n",
      "meaningcloud: Top>OtherEntity>MethodSystem\n",
      "meaningcloud: Top>OtherEntity>MethodSystem\n",
      "semaeval.engine.txtrazor\n",
      "semaeval.engine.semant\n",
      "semaeval.engine.alchemy\n",
      "semaeval.engine.retresco"
     ]
    },
    {
     "name": "stderr",
     "output_type": "stream",
     "text": [
      "/usr/local/lib/python2.7/site-packages/requests/packages/urllib3/connectionpool.py:769: InsecureRequestWarning: Unverified HTTPS request is being made. Adding certificate verification is strongly advised. See: https://urllib3.readthedocs.org/en/latest/security.html\n",
      "  InsecureRequestWarning)\n",
      "/usr/local/lib/python2.7/site-packages/requests/packages/urllib3/connectionpool.py:769: InsecureRequestWarning: Unverified HTTPS request is being made. Adding certificate verification is strongly advised. See: https://urllib3.readthedocs.org/en/latest/security.html\n",
      "  InsecureRequestWarning)\n"
     ]
    },
    {
     "name": "stdout",
     "output_type": "stream",
     "text": [
      "\n",
      "semaeval.engine.simple\n",
      "\n",
      "semaeval.engine.meaningcloud\n",
      "meaningcloud: Top>Timex>Date\n",
      "semaeval.engine.txtrazor\n",
      "semaeval.engine.semant\n",
      "semaeval.engine.alchemy\n",
      "alchemy: GeographicFeature\n",
      "semaeval.engine.retresco\n",
      "semaeval.engine.simple\n",
      "\n",
      "semaeval.engine.meaningcloud\n",
      "semaeval.engine.txtrazor\n",
      "semaeval.engine.semant\n",
      "semaeval.engine.alchemy\n",
      "semaeval.engine.retresco"
     ]
    },
    {
     "name": "stderr",
     "output_type": "stream",
     "text": [
      "/usr/local/lib/python2.7/site-packages/requests/packages/urllib3/connectionpool.py:769: InsecureRequestWarning: Unverified HTTPS request is being made. Adding certificate verification is strongly advised. See: https://urllib3.readthedocs.org/en/latest/security.html\n",
      "  InsecureRequestWarning)\n",
      "/usr/local/lib/python2.7/site-packages/requests/packages/urllib3/connectionpool.py:769: InsecureRequestWarning: Unverified HTTPS request is being made. Adding certificate verification is strongly advised. See: https://urllib3.readthedocs.org/en/latest/security.html\n",
      "  InsecureRequestWarning)\n"
     ]
    },
    {
     "name": "stdout",
     "output_type": "stream",
     "text": [
      "\n",
      "semaeval.engine.simple\n",
      "http://www.bild.de/BILD/news/bild-english/celebrity-gossip/2010/07/05/leonardo-dicaprio-charlize-theron/stars-enjoying-the-world-cup-in-the-stadium.html\n",
      "semaeval.engine.meaningcloud\n",
      "semaeval.engine.txtrazor\n",
      "textrazor: [u'Instrument']\n",
      "semaeval.engine.semant\n",
      "semaeval.engine.alchemy\n",
      "alchemy: GeographicFeature\n",
      "alchemy: Product\n",
      "semaeval.engine.retresco\n",
      "semaeval.engine.simple\n",
      "http://www.bild.de/BILD/news/bild-english/celebrity-gossip/2010/06/01/world-of-lena-meyer-landrut/germanys-bright-eurovision-winning-star.html\n",
      "semaeval.engine.meaningcloud\n",
      "semaeval.engine.txtrazor\n",
      "textrazor: [u'MeanOfTransportation', u'SpaceStation']\n",
      "textrazor: [u'Instrument']\n",
      "semaeval.engine.semant\n",
      "semantria: Beverage\n",
      "semantria: Beverage\n",
      "semaeval.engine.alchemy\n",
      "alchemy:"
     ]
    },
    {
     "name": "stderr",
     "output_type": "stream",
     "text": [
      "/usr/local/lib/python2.7/site-packages/requests/packages/urllib3/connectionpool.py:769: InsecureRequestWarning: Unverified HTTPS request is being made. Adding certificate verification is strongly advised. See: https://urllib3.readthedocs.org/en/latest/security.html\n",
      "  InsecureRequestWarning)\n",
      "/usr/local/lib/python2.7/site-packages/requests/packages/urllib3/connectionpool.py:769: InsecureRequestWarning: Unverified HTTPS request is being made. Adding certificate verification is strongly advised. See: https://urllib3.readthedocs.org/en/latest/security.html\n",
      "  InsecureRequestWarning)\n"
     ]
    },
    {
     "name": "stdout",
     "output_type": "stream",
     "text": [
      " Degree\n",
      "semaeval.engine.retresco\n",
      "semaeval.engine.simple\n",
      "http://www.welt.de/english-news/article3844058/Kim-Jong-il-to-anoint-youngest-son-as-heir.html#reqRSS\n",
      "semaeval.engine.meaningcloud\n",
      "meaningcloud: Top>Process>IntentionalProcess\n",
      "semaeval.engine.txtrazor\n",
      "semaeval.engine.semant\n",
      "semaeval.engine.alchemy\n",
      "alchemy: FinancialMarketIndex\n",
      "alchemy: GeographicFeature\n",
      "semaeval.engine.retresco\n",
      "semaeval.engine.simple\n",
      "\n",
      "semaeval.engine.meaningcloud\n",
      "semaeval.engine.txtrazor\n",
      "semaeval.engine.semant\n",
      "semaeval.engine.alchemy\n",
      "semaeval.engine.retresco"
     ]
    },
    {
     "name": "stderr",
     "output_type": "stream",
     "text": [
      "/usr/local/lib/python2.7/site-packages/requests/packages/urllib3/connectionpool.py:769: InsecureRequestWarning: Unverified HTTPS request is being made. Adding certificate verification is strongly advised. See: https://urllib3.readthedocs.org/en/latest/security.html\n",
      "  InsecureRequestWarning)\n",
      "/usr/local/lib/python2.7/site-packages/requests/packages/urllib3/connectionpool.py:769: InsecureRequestWarning: Unverified HTTPS request is being made. Adding certificate verification is strongly advised. See: https://urllib3.readthedocs.org/en/latest/security.html\n",
      "  InsecureRequestWarning)\n"
     ]
    },
    {
     "name": "stdout",
     "output_type": "stream",
     "text": [
      "\n",
      "semaeval.engine.simple\n",
      "http://www.welt.de/international/article3896850/Many-dead-after-attack-on-five-star-hotel-in-Pakistan.html#reqRSS\n",
      "semaeval.engine.meaningcloud\n",
      "semaeval.engine.txtrazor\n",
      "semaeval.engine.semant\n",
      "semaeval.engine.alchemy\n",
      "alchemy: OperatingSystem\n",
      "semaeval.engine.retresco\n",
      "semaeval.engine.simple\n",
      "http://www.bild.de/BILD/news/bild-english/sport-news/more-sport/2010/04/06/tiger-woods-ex-lover/joslyn-james-slams-golfers-press-conference-as-big-malarkey.html\n",
      "semaeval.engine.meaningcloud\n",
      "semaeval.engine.txtrazor\n",
      "semaeval.engine.semant\n",
      "semaeval.engine.alchemy\n",
      "semaeval.engine.retresco"
     ]
    },
    {
     "name": "stderr",
     "output_type": "stream",
     "text": [
      "/usr/local/lib/python2.7/site-packages/requests/packages/urllib3/connectionpool.py:769: InsecureRequestWarning: Unverified HTTPS request is being made. Adding certificate verification is strongly advised. See: https://urllib3.readthedocs.org/en/latest/security.html\n",
      "  InsecureRequestWarning)\n",
      "/usr/local/lib/python2.7/site-packages/requests/packages/urllib3/connectionpool.py:769: InsecureRequestWarning: Unverified HTTPS request is being made. Adding certificate verification is strongly advised. See: https://urllib3.readthedocs.org/en/latest/security.html\n",
      "  InsecureRequestWarning)\n"
     ]
    },
    {
     "name": "stdout",
     "output_type": "stream",
     "text": [
      "\n",
      "semaeval.engine.simple\n",
      "http://www.bild.de/BILD/news/bild-english/world-news/2010/08/09/brit-naturists-set-new-mark/naked-rollercoaster-of-a-ride-for-world-record.html\n",
      "semaeval.engine.meaningcloud\n",
      "semaeval.engine.txtrazor\n",
      "semaeval.engine.semant\n",
      "semaeval.engine.alchemy\n",
      "semaeval.engine.retresco\n",
      "semaeval.engine.simple\n",
      "\n",
      "semaeval.engine.meaningcloud\n",
      "semaeval.engine.txtrazor\n",
      "semaeval.engine.semant\n",
      "semaeval.engine.alchemy\n",
      "alchemy:"
     ]
    },
    {
     "name": "stderr",
     "output_type": "stream",
     "text": [
      "/usr/local/lib/python2.7/site-packages/requests/packages/urllib3/connectionpool.py:769: InsecureRequestWarning: Unverified HTTPS request is being made. Adding certificate verification is strongly advised. See: https://urllib3.readthedocs.org/en/latest/security.html\n",
      "  InsecureRequestWarning)\n",
      "/usr/local/lib/python2.7/site-packages/requests/packages/urllib3/connectionpool.py:769: InsecureRequestWarning: Unverified HTTPS request is being made. Adding certificate verification is strongly advised. See: https://urllib3.readthedocs.org/en/latest/security.html\n",
      "  InsecureRequestWarning)\n"
     ]
    },
    {
     "name": "stdout",
     "output_type": "stream",
     "text": [
      " Crime\n",
      "semaeval.engine.retresco\n",
      "semaeval.engine.simple\n",
      "http://www.welt.de/international/article3947577/EU-to-launch-revamp-of-bank-rules-backs-Barroso.html#reqRSS\n",
      "semaeval.engine.meaningcloud\n",
      "meaningcloud: Top>OtherEntity>Rule>Treaty\n",
      "semaeval.engine.txtrazor\n",
      "semaeval.engine.semant\n",
      "semaeval.engine.alchemy\n",
      "semaeval.engine.retresco\n",
      "semaeval.engine.simple\n",
      "\n",
      "semaeval.engine.meaningcloud\n",
      "semaeval.engine.txtrazor\n",
      "semaeval.engine.semant\n",
      "semaeval.engine.alchemy\n",
      "alchemy:"
     ]
    },
    {
     "name": "stderr",
     "output_type": "stream",
     "text": [
      "/usr/local/lib/python2.7/site-packages/requests/packages/urllib3/connectionpool.py:769: InsecureRequestWarning: Unverified HTTPS request is being made. Adding certificate verification is strongly advised. See: https://urllib3.readthedocs.org/en/latest/security.html\n",
      "  InsecureRequestWarning)\n",
      "/usr/local/lib/python2.7/site-packages/requests/packages/urllib3/connectionpool.py:769: InsecureRequestWarning: Unverified HTTPS request is being made. Adding certificate verification is strongly advised. See: https://urllib3.readthedocs.org/en/latest/security.html\n",
      "  InsecureRequestWarning)\n"
     ]
    },
    {
     "name": "stdout",
     "output_type": "stream",
     "text": [
      " Crime\n",
      "semaeval.engine.retresco\n",
      "semaeval.engine.simple\n",
      "http://www.welt.de/international/article3883068/British-Labour-loses-out-in-European-elections.html#reqRSS\n",
      "semaeval.engine.meaningcloud\n",
      "semaeval.engine.txtrazor\n",
      "semaeval.engine.semant\n",
      "semaeval.engine.alchemy\n",
      "alchemy: TelevisionStation\n",
      "alchemy: TelevisionShow\n",
      "alchemy: OperatingSystem\n",
      "semaeval.engine.retresco\n",
      "semaeval.engine.simple\n",
      "http://www.welt.de/english-news/article3062636/Barack-Obama-and-a-great-moment-for-America.html#reqRSS\n",
      "semaeval.engine.meaningcloud\n",
      "semaeval.engine.txtrazor\n",
      "semaeval.engine.semant\n",
      "semantria: List\n",
      "semaeval.engine.alchemy\n",
      "semaeval.engine.retresco"
     ]
    },
    {
     "name": "stderr",
     "output_type": "stream",
     "text": [
      "/usr/local/lib/python2.7/site-packages/requests/packages/urllib3/connectionpool.py:769: InsecureRequestWarning: Unverified HTTPS request is being made. Adding certificate verification is strongly advised. See: https://urllib3.readthedocs.org/en/latest/security.html\n",
      "  InsecureRequestWarning)\n",
      "/usr/local/lib/python2.7/site-packages/requests/packages/urllib3/connectionpool.py:769: InsecureRequestWarning: Unverified HTTPS request is being made. Adding certificate verification is strongly advised. See: https://urllib3.readthedocs.org/en/latest/security.html\n",
      "  InsecureRequestWarning)\n"
     ]
    },
    {
     "name": "stdout",
     "output_type": "stream",
     "text": [
      "\n",
      "semaeval.engine.simple\n"
     ]
    }
   ],
   "source": [
    "articles_enriched = eval.detect_entities(articles,\"en\")"
   ]
  },
  {
   "cell_type": "code",
   "execution_count": 11,
   "metadata": {},
   "outputs": [
    {
     "name": "stdout",
     "output_type": "stream",
     "text": [
      "Storing file:  output/en/weonetest_543_alchemy.yml\n",
      "Storing file:  output/en/weonetest_543_simple.yml\n",
      "Storing file:  output/en/weonetest_543_txtrazor.yml\n",
      "Storing file:  output/en/weonetest_543_semant.yml\n",
      "Storing file:  output/en/weonetest_543_retresco.yml\n",
      "Storing file:  output/en/weonetest_543_meaningcloud.yml\n",
      "Storing file:  output/en/bicotest_084_alchemy.yml\n",
      "Storing file:  output/en/bicotest_084_simple.yml\n",
      "Storing file:  output/en/bicotest_084_txtrazor.yml\n",
      "Storing file:  output/en/bicotest_084_semant.yml\n",
      "Storing file:  output/en/bicotest_084_retresco.yml\n",
      "Storing file:  output/en/bicotest_084_meaningcloud.yml\n",
      "Storing file:  output/en/bicotest_154_alchemy.yml\n",
      "Storing file:  output/en/bicotest_154_simple.yml\n",
      "Storing file:  output/en/bicotest_154_txtrazor.yml\n",
      "Storing file:  output/en/bicotest_154_semant.yml\n",
      "Storing file:  output/en/bicotest_154_retresco.yml\n",
      "Storing file:  output/en/bicotest_154_meaningcloud.yml\n",
      "Storing file:  output/en/bicotest_460_alchemy.yml\n",
      "Storing file:  output/en/bicotest_460_simple.yml\n",
      "Storing file:  output/en/bicotest_460_txtrazor.yml\n",
      "Storing file:  output/en/bicotest_460_semant.yml\n",
      "Storing file:  output/en/bicotest_460_retresco.yml\n",
      "Storing file:  output/en/bicotest_460_meaningcloud.yml\n",
      "Storing file:  output/en/bicotest_298_alchemy.yml\n",
      "Storing file:  output/en/bicotest_298_simple.yml\n",
      "Storing file:  output/en/bicotest_298_txtrazor.yml\n",
      "Storing file:  output/en/bicotest_298_semant.yml\n",
      "Storing file:  output/en/bicotest_298_retresco.yml\n",
      "Storing file:  output/en/bicotest_298_meaningcloud.yml\n",
      "Storing file:  output/en/bicotest_136_alchemy.yml\n",
      "Storing file:  output/en/bicotest_136_simple.yml\n",
      "Storing file:  output/en/bicotest_136_txtrazor.yml\n",
      "Storing file:  output/en/bicotest_136_semant.yml\n",
      "Storing file:  output/en/bicotest_136_retresco.yml\n",
      "Storing file:  output/en/bicotest_136_meaningcloud.yml\n",
      "Storing file:  output/en/bicotest_527_alchemy.yml\n",
      "Storing file:  output/en/bicotest_527_simple.yml\n",
      "Storing file:  output/en/bicotest_527_txtrazor.yml\n",
      "Storing file:  output/en/bicotest_527_semant.yml\n",
      "Storing file:  output/en/bicotest_527_retresco.yml\n",
      "Storing file:  output/en/bicotest_527_meaningcloud.yml\n",
      "Storing file:  output/en/weonetest_502_alchemy.yml\n",
      "Storing file:  output/en/weonetest_502_simple.yml\n",
      "Storing file:  output/en/weonetest_502_txtrazor.yml\n",
      "Storing file:  output/en/weonetest_502_semant.yml\n",
      "Storing file:  output/en/weonetest_502_retresco.yml\n",
      "Storing file:  output/en/weonetest_502_meaningcloud.yml\n",
      "Storing file:  output/en/weonetest_967_alchemy.yml\n",
      "Storing file:  output/en/weonetest_967_simple.yml\n",
      "Storing file:  output/en/weonetest_967_txtrazor.yml\n",
      "Storing file:  output/en/weonetest_967_semant.yml\n",
      "Storing file:  output/en/weonetest_967_retresco.yml\n",
      "Storing file:  output/en/weonetest_967_meaningcloud.yml\n",
      "Storing file:  output/en/weonetest_626_alchemy.yml\n",
      "Storing file:  output/en/weonetest_626_simple.yml\n",
      "Storing file:  output/en/weonetest_626_txtrazor.yml\n",
      "Storing file:  output/en/weonetest_626_semant.yml\n",
      "Storing file:  output/en/weonetest_626_retresco.yml\n",
      "Storing file:  output/en/weonetest_626_meaningcloud.yml\n",
      "Storing file:  output/en/weonetest_412_alchemy.yml\n",
      "Storing file:  output/en/weonetest_412_simple.yml\n",
      "Storing file:  output/en/weonetest_412_txtrazor.yml\n",
      "Storing file:  output/en/weonetest_412_semant.yml\n",
      "Storing file:  output/en/weonetest_412_retresco.yml\n",
      "Storing file:  output/en/weonetest_412_meaningcloud.yml\n",
      "Storing file:  output/en/weonetest_274_alchemy.yml\n",
      "Storing file:  output/en/weonetest_274_simple.yml\n",
      "Storing file:  output/en/weonetest_274_txtrazor.yml\n",
      "Storing file:  output/en/weonetest_274_semant.yml\n",
      "Storing file:  output/en/weonetest_274_retresco.yml\n",
      "Storing file:  output/en/weonetest_274_meaningcloud.yml\n",
      "Storing file:  output/en/weonetest_1009_alchemy.yml\n",
      "Storing file:  output/en/weonetest_1009_simple.yml\n",
      "Storing file:  output/en/weonetest_1009_txtrazor.yml\n",
      "Storing file:  output/en/weonetest_1009_semant.yml\n",
      "Storing file:  output/en/weonetest_1009_retresco.yml\n",
      "Storing file:  output/en/weonetest_1009_meaningcloud.yml\n",
      "Storing file:  output/en/weonetest_1089_alchemy.yml\n",
      "Storing file:  output/en/weonetest_1089_simple.yml\n",
      "Storing file:  output/en/weonetest_1089_txtrazor.yml\n",
      "Storing file:  output/en/weonetest_1089_semant.yml\n",
      "Storing file:  output/en/weonetest_1089_retresco.yml\n",
      "Storing file:  output/en/weonetest_1089_meaningcloud.yml\n",
      "Storing file:  output/en/bicotest_166_alchemy.yml\n",
      "Storing file:  output/en/bicotest_166_simple.yml\n",
      "Storing file:  output/en/bicotest_166_txtrazor.yml\n",
      "Storing file:  output/en/bicotest_166_semant.yml\n",
      "Storing file:  output/en/bicotest_166_retresco.yml\n",
      "Storing file:  output/en/bicotest_166_meaningcloud.yml\n",
      "Storing file:  output/en/bicotest_307_alchemy.yml\n",
      "Storing file:  output/en/bicotest_307_simple.yml\n",
      "Storing file:  output/en/bicotest_307_txtrazor.yml\n",
      "Storing file:  output/en/bicotest_307_semant.yml\n",
      "Storing file:  output/en/bicotest_307_retresco.yml\n",
      "Storing file:  output/en/bicotest_307_meaningcloud.yml\n",
      "Storing file:  output/en/weonetest_844_alchemy.yml\n",
      "Storing file:  output/en/weonetest_844_simple.yml\n",
      "Storing file:  output/en/weonetest_844_txtrazor.yml\n",
      "Storing file:  output/en/weonetest_844_semant.yml\n",
      "Storing file:  output/en/weonetest_844_retresco.yml\n",
      "Storing file:  output/en/weonetest_844_meaningcloud.yml\n",
      "Storing file:  output/en/bicotest_406_alchemy.yml\n",
      "Storing file:  output/en/bicotest_406_simple.yml\n",
      "Storing file:  output/en/bicotest_406_txtrazor.yml\n",
      "Storing file:  output/en/bicotest_406_semant.yml\n",
      "Storing file:  output/en/bicotest_406_retresco.yml\n",
      "Storing file:  output/en/bicotest_406_meaningcloud.yml\n",
      "Storing file:  output/en/weonetest_789_alchemy.yml\n",
      "Storing file:  output/en/weonetest_789_simple.yml\n",
      "Storing file:  output/en/weonetest_789_txtrazor.yml\n",
      "Storing file:  output/en/weonetest_789_semant.yml\n",
      "Storing file:  output/en/weonetest_789_retresco.yml\n",
      "Storing file:  output/en/weonetest_789_meaningcloud.yml\n",
      "Storing file:  output/en/weonetest_048_alchemy.yml\n",
      "Storing file:  output/en/weonetest_048_simple.yml\n",
      "Storing file:  output/en/weonetest_048_txtrazor.yml\n",
      "Storing file:  output/en/weonetest_048_semant.yml\n",
      "Storing file:  output/en/weonetest_048_retresco.yml\n",
      "Storing file:  output/en/weonetest_048_meaningcloud.yml\n",
      "Storing file:  output/en/weonetest_076_alchemy.yml\n",
      "Storing file:  output/en/weonetest_076_simple.yml\n",
      "Storing file:  output/en/weonetest_076_txtrazor.yml\n",
      "Storing file:  output/en/weonetest_076_semant.yml\n",
      "Storing file:  output/en/weonetest_076_retresco.yml\n",
      "Storing file:  output/en/weonetest_076_meaningcloud.yml\n",
      "Storing file:  output/en/bicotest_454_alchemy.yml\n",
      "Storing file:  output/en/bicotest_454_simple.yml\n",
      "Storing file:  output/en/bicotest_454_txtrazor.yml\n",
      "Storing file:  output/en/bicotest_454_semant.yml\n",
      "Storing file:  output/en/bicotest_454_retresco.yml\n",
      "Storing file:  output/en/bicotest_454_meaningcloud.yml\n",
      "Storing file:  output/en/weonetest_087_alchemy.yml\n",
      "Storing file:  output/en/weonetest_087_simple.yml\n",
      "Storing file:  output/en/weonetest_087_txtrazor.yml\n",
      "Storing file:  output/en/weonetest_087_semant.yml\n",
      "Storing file:  output/en/weonetest_087_retresco.yml\n",
      "Storing file:  output/en/weonetest_087_meaningcloud.yml\n",
      "Storing file:  output/en/weonetest_230_alchemy.yml\n",
      "Storing file:  output/en/weonetest_230_simple.yml\n",
      "Storing file:  output/en/weonetest_230_txtrazor.yml\n",
      "Storing file:  output/en/weonetest_230_semant.yml\n",
      "Storing file:  output/en/weonetest_230_retresco.yml\n",
      "Storing file:  output/en/weonetest_230_meaningcloud.yml\n",
      "Storing file:  output/en/bicotest_153_alchemy.yml\n",
      "Storing file:  output/en/bicotest_153_simple.yml\n",
      "Storing file:  output/en/bicotest_153_txtrazor.yml\n",
      "Storing file:  output/en/bicotest_153_semant.yml\n",
      "Storing file:  output/en/bicotest_153_retresco.yml\n",
      "Storing file:  output/en/bicotest_153_meaningcloud.yml\n",
      "Storing file:  output/en/bicotest_304_alchemy.yml\n",
      "Storing file:  output/en/bicotest_304_simple.yml\n",
      "Storing file:  output/en/bicotest_304_txtrazor.yml\n",
      "Storing file:  output/en/bicotest_304_semant.yml\n",
      "Storing file:  output/en/bicotest_304_retresco.yml\n",
      "Storing file:  output/en/bicotest_304_meaningcloud.yml\n",
      "Storing file:  output/en/weonetest_150_alchemy.yml\n",
      "Storing file:  output/en/weonetest_150_simple.yml\n",
      "Storing file:  output/en/weonetest_150_txtrazor.yml\n",
      "Storing file:  output/en/weonetest_150_semant.yml\n",
      "Storing file:  output/en/weonetest_150_retresco.yml\n",
      "Storing file:  output/en/weonetest_150_meaningcloud.yml\n",
      "Storing file:  output/en/weonetest_050_alchemy.yml\n",
      "Storing file:  output/en/weonetest_050_simple.yml\n",
      "Storing file:  output/en/weonetest_050_txtrazor.yml\n",
      "Storing file:  output/en/weonetest_050_semant.yml\n",
      "Storing file:  output/en/weonetest_050_retresco.yml\n",
      "Storing file:  output/en/weonetest_050_meaningcloud.yml\n",
      "Storing file:  output/en/bicotest_329_alchemy.yml\n",
      "Storing file:  output/en/bicotest_329_simple.yml\n",
      "Storing file:  output/en/bicotest_329_txtrazor.yml\n",
      "Storing file:  output/en/bicotest_329_semant.yml\n",
      "Storing file:  output/en/bicotest_329_retresco.yml\n",
      "Storing file:  output/en/bicotest_329_meaningcloud.yml\n",
      "Storing file:  output/en/weonetest_993_alchemy.yml\n",
      "Storing file:  output/en/weonetest_993_simple.yml\n",
      "Storing file:  output/en/weonetest_993_txtrazor.yml\n",
      "Storing file:  output/en/weonetest_993_semant.yml\n",
      "Storing file:  output/en/weonetest_993_retresco.yml\n",
      "Storing file:  output/en/weonetest_993_meaningcloud.yml\n",
      "Storing file:  output/en/weonetest_887_alchemy.yml\n",
      "Storing file:  output/en/weonetest_887_simple.yml\n",
      "Storing file:  output/en/weonetest_887_txtrazor.yml\n",
      "Storing file:  output/en/weonetest_887_semant.yml\n",
      "Storing file:  output/en/weonetest_887_retresco.yml\n",
      "Storing file:  output/en/weonetest_887_meaningcloud.yml\n",
      "Storing file:  output/en/bicotest_156_alchemy.yml\n",
      "Storing file:  output/en/bicotest_156_simple.yml\n",
      "Storing file:  output/en/bicotest_156_txtrazor.yml\n",
      "Storing file:  output/en/bicotest_156_semant.yml\n",
      "Storing file:  output/en/bicotest_156_retresco.yml\n",
      "Storing file:  output/en/bicotest_156_meaningcloud.yml\n",
      "Storing file:  output/en/weonetest_877_alchemy.yml\n",
      "Storing file:  output/en/weonetest_877_simple.yml\n",
      "Storing file:  output/en/weonetest_877_txtrazor.yml\n",
      "Storing file:  output/en/weonetest_877_semant.yml\n",
      "Storing file:  output/en/weonetest_877_retresco.yml\n",
      "Storing file:  output/en/weonetest_877_meaningcloud.yml\n",
      "Storing file:  output/en/bicotest_178_alchemy.yml\n",
      "Storing file:  output/en/bicotest_178_simple.yml\n",
      "Storing file:  output/en/bicotest_178_txtrazor.yml\n",
      "Storing file:  output/en/bicotest_178_semant.yml\n",
      "Storing file:  output/en/bicotest_178_retresco.yml\n",
      "Storing file:  output/en/bicotest_178_meaningcloud.yml\n",
      "Storing file:  output/en/weonetest_210_alchemy.yml\n",
      "Storing file:  output/en/weonetest_210_simple.yml\n",
      "Storing file:  output/en/weonetest_210_txtrazor.yml\n",
      "Storing file:  output/en/weonetest_210_semant.yml\n",
      "Storing file:  output/en/weonetest_210_retresco.yml\n",
      "Storing file:  output/en/weonetest_210_meaningcloud.yml\n",
      "Storing file:  output/en/weonetest_1170_alchemy.yml\n",
      "Storing file:  output/en/weonetest_1170_simple.yml\n",
      "Storing file:  output/en/weonetest_1170_txtrazor.yml\n",
      "Storing file:  output/en/weonetest_1170_semant.yml\n",
      "Storing file:  output/en/weonetest_1170_retresco.yml\n",
      "Storing file:  output/en/weonetest_1170_meaningcloud.yml\n",
      "Storing file:  output/en/weonetest_173_alchemy.yml\n",
      "Storing file:  output/en/weonetest_173_simple.yml\n",
      "Storing file:  output/en/weonetest_173_txtrazor.yml\n",
      "Storing file:  output/en/weonetest_173_semant.yml\n",
      "Storing file:  output/en/weonetest_173_retresco.yml\n",
      "Storing file:  output/en/weonetest_173_meaningcloud.yml\n",
      "Storing file:  output/en/weonetest_052_alchemy.yml\n",
      "Storing file:  output/en/weonetest_052_simple.yml\n",
      "Storing file:  output/en/weonetest_052_txtrazor.yml\n",
      "Storing file:  output/en/weonetest_052_semant.yml\n",
      "Storing file:  output/en/weonetest_052_retresco.yml\n",
      "Storing file:  output/en/weonetest_052_meaningcloud.yml\n",
      "Storing file:  output/en/bicotest_434_alchemy.yml\n",
      "Storing file:  output/en/bicotest_434_simple.yml\n",
      "Storing file:  output/en/bicotest_434_txtrazor.yml\n",
      "Storing file:  output/en/bicotest_434_semant.yml\n",
      "Storing file:  output/en/bicotest_434_retresco.yml\n",
      "Storing file:  output/en/bicotest_434_meaningcloud.yml\n",
      "Storing file:  output/en/bicotest_269_alchemy.yml\n",
      "Storing file:  output/en/bicotest_269_simple.yml\n",
      "Storing file:  output/en/bicotest_269_txtrazor.yml\n",
      "Storing file:  output/en/bicotest_269_semant.yml\n",
      "Storing file:  output/en/bicotest_269_retresco.yml\n",
      "Storing file:  output/en/bicotest_269_meaningcloud.yml\n",
      "Storing file:  output/en/weonetest_978_alchemy.yml\n",
      "Storing file:  output/en/weonetest_978_simple.yml\n",
      "Storing file:  output/en/weonetest_978_txtrazor.yml\n",
      "Storing file:  output/en/weonetest_978_semant.yml\n",
      "Storing file:  output/en/weonetest_978_retresco.yml\n",
      "Storing file:  output/en/weonetest_978_meaningcloud.yml\n",
      "Storing file:  output/en/weonetest_511_alchemy.yml\n",
      "Storing file:  output/en/weonetest_511_simple.yml\n",
      "Storing file:  output/en/weonetest_511_txtrazor.yml\n",
      "Storing file:  output/en/weonetest_511_semant.yml\n",
      "Storing file:  output/en/weonetest_511_retresco.yml\n",
      "Storing file:  output/en/weonetest_511_meaningcloud.yml\n",
      "Storing file:  output/en/weonetest_1023_alchemy.yml\n",
      "Storing file:  output/en/weonetest_1023_simple.yml\n",
      "Storing file:  output/en/weonetest_1023_txtrazor.yml\n",
      "Storing file:  output/en/weonetest_1023_semant.yml\n",
      "Storing file:  output/en/weonetest_1023_retresco.yml\n",
      "Storing file:  output/en/weonetest_1023_meaningcloud.yml\n",
      "Storing file:  output/en/bicotest_097_alchemy.yml\n",
      "Storing file:  output/en/bicotest_097_simple.yml\n",
      "Storing file:  output/en/bicotest_097_txtrazor.yml\n",
      "Storing file:  output/en/bicotest_097_semant.yml\n",
      "Storing file:  output/en/bicotest_097_retresco.yml\n",
      "Storing file:  output/en/bicotest_097_meaningcloud.yml\n",
      "Storing file:  output/en/bicotest_582_alchemy.yml\n",
      "Storing file:  output/en/bicotest_582_simple.yml\n",
      "Storing file:  output/en/bicotest_582_txtrazor.yml\n",
      "Storing file:  output/en/bicotest_582_semant.yml\n",
      "Storing file:  output/en/bicotest_582_retresco.yml\n",
      "Storing file:  output/en/bicotest_582_meaningcloud.yml\n",
      "Storing file:  output/en/weonetest_722_alchemy.yml\n",
      "Storing file:  output/en/weonetest_722_simple.yml\n",
      "Storing file:  output/en/weonetest_722_txtrazor.yml\n",
      "Storing file:  output/en/weonetest_722_semant.yml\n",
      "Storing file:  output/en/weonetest_722_retresco.yml\n",
      "Storing file:  output/en/weonetest_722_meaningcloud.yml\n",
      "Storing file:  output/en/weonetest_1058_alchemy.yml\n",
      "Storing file:  output/en/weonetest_1058_simple.yml\n",
      "Storing file:  output/en/weonetest_1058_txtrazor.yml\n",
      "Storing file:  output/en/weonetest_1058_semant.yml\n",
      "Storing file:  output/en/weonetest_1058_retresco.yml\n",
      "Storing file:  output/en/weonetest_1058_meaningcloud.yml\n",
      "Storing file:  output/en/weonetest_568_alchemy.yml\n",
      "Storing file:  output/en/weonetest_568_simple.yml\n",
      "Storing file:  output/en/weonetest_568_txtrazor.yml\n",
      "Storing file:  output/en/weonetest_568_semant.yml\n",
      "Storing file:  output/en/weonetest_568_retresco.yml\n",
      "Storing file:  output/en/weonetest_568_meaningcloud.yml\n",
      "Storing file:  output/en/weonetest_1012_alchemy.yml\n",
      "Storing file:  output/en/weonetest_1012_simple.yml\n",
      "Storing file:  output/en/weonetest_1012_txtrazor.yml\n",
      "Storing file:  output/en/weonetest_1012_semant.yml\n",
      "Storing file:  output/en/weonetest_1012_retresco.yml\n",
      "Storing file:  output/en/weonetest_1012_meaningcloud.yml\n",
      "Storing file:  output/en/weonetest_009_alchemy.yml\n",
      "Storing file:  output/en/weonetest_009_simple.yml\n",
      "Storing file:  output/en/weonetest_009_txtrazor.yml\n",
      "Storing file:  output/en/weonetest_009_semant.yml\n",
      "Storing file:  output/en/weonetest_009_retresco.yml\n",
      "Storing file:  output/en/weonetest_009_meaningcloud.yml\n"
     ]
    }
   ],
   "source": [
    "eval.store_articles(articles_enriched,\"en\")"
   ]
  },
  {
   "cell_type": "code",
   "execution_count": 12,
   "metadata": {},
   "outputs": [],
   "source": [
    "import semaeval.statistics as stats"
   ]
  },
  {
   "cell_type": "code",
   "execution_count": 13,
   "metadata": {},
   "outputs": [],
   "source": [
    "data=stats.collect_data(articles_enriched)"
   ]
  },
  {
   "cell_type": "code",
   "execution_count": 14,
   "metadata": {},
   "outputs": [],
   "source": [
    "results=stats.aggregate_result(data)"
   ]
  },
  {
   "cell_type": "code",
   "execution_count": 15,
   "metadata": {},
   "outputs": [],
   "source": [
    "results.extend(stats.compute_total(results))"
   ]
  },
  {
   "cell_type": "code",
   "execution_count": 16,
   "metadata": {},
   "outputs": [],
   "source": [
    "%matplotlib inline"
   ]
  },
  {
   "cell_type": "code",
   "execution_count": 17,
   "metadata": {},
   "outputs": [
    {
     "data": {
      "image/png": "[encoded data removed]"
     },
     "output_type": "display_data",
     "metadata": {}
    }
   ],
   "source": [
    "stats.plot_results(results)"
   ]
  }
 ],
 "metadata": {
  "kernelspec": {
   "display_name": "Python 2",
   "language": "python",
   "name": "python2"
  },
  "language_info": {
   "codemirror_mode": {
    "name": "ipython",
    "version": 2.0
   },
   "file_extension": ".py",
   "mimetype": "text/x-python",
   "name": "python",
   "nbconvert_exporter": "python",
   "pygments_lexer": "ipython2",
   "version": "2.7.9"
  }
 },
 "nbformat": 4,
 "nbformat_minor": 0
}