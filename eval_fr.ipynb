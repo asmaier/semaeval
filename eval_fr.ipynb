{
 "cells": [
  {
   "cell_type": "code",
   "execution_count": 1,
   "metadata": {},
   "outputs": [
    {
     "name": "stdout",
     "output_type": "stream",
     "text": [
      "Deleting: input/fr/de\n",
      "Deleting: input/fr/en\n",
      "Deleting: output/fr/de\n",
      "Deleting: output/fr/en\n"
     ]
    }
   ],
   "source": [
    "import semaeval.util as util\n",
    "util.clean_storage(\"fr\")"
   ]
  },
  {
   "cell_type": "code",
   "execution_count": 2,
   "metadata": {},
   "outputs": [],
   "source": [
    "import semaeval.source.syndication as synd"
   ]
  },
  {
   "cell_type": "code",
   "execution_count": 3,
   "metadata": {},
   "outputs": [
    {
     "name": "stdout",
     "output_type": "stream",
     "text": [
      "Help on module semaeval.source.syndication in semaeval.source:\n",
      "\n",
      "NAME\n",
      "    semaeval.source.syndication - # -*- coding: utf-8 -*-\n",
      "\n",
      "FILE\n",
      "    /Users/amaier1/git/semaeval/semaeval/source/syndication.py\n",
      "\n",
      "FUNCTIONS\n",
      "    article_from_path(path)\n",
      "    \n",
      "    articles_from_dir(dir)\n",
      "    \n",
      "    load_articles(prefix)\n",
      "    \n",
      "    store_articles(articles, prefix)\n",
      "\n",
      "DATA\n",
      "    store_dir = 'input/'\n",
      "    url_regex = <_sre.SRE_Pattern object>\n",
      "\n",
      "\n"
     ]
    }
   ],
   "source": [
    "help(synd)"
   ]
  },
  {
   "cell_type": "code",
   "execution_count": 4,
   "metadata": {},
   "outputs": [],
   "source": [
    "pme = synd.articles_from_dir(\"/Users/amaier1/Documents/semeval/pmematest\")"
   ]
  },
  {
   "cell_type": "code",
   "execution_count": 5,
   "metadata": {},
   "outputs": [],
   "source": [
    "import random\n",
    "articles = random.sample(pme,50)"
   ]
  },
  {
   "cell_type": "code",
   "execution_count": 6,
   "metadata": {},
   "outputs": [
    {
     "name": "stdout",
     "output_type": "stream",
     "text": [
      "Storing file:  input/fr/pmematest_2415.yml\n",
      "Storing file:  input/fr/pmematest_1794.yml\n",
      "Storing file:  input/fr/pmematest_1609.yml\n",
      "Storing file:  input/fr/pmematest_451.yml\n",
      "Storing file:  input/fr/pmematest_2569.yml\n",
      "Storing file:  input/fr/pmematest_359.yml\n",
      "Storing file:  input/fr/pmematest_2528.yml\n",
      "Storing file:  input/fr/pmematest_2429.yml\n",
      "Storing file:  input/fr/pmematest_3469.yml\n",
      "Storing file:  input/fr/pmematest_1971.yml\n",
      "Storing file:  input/fr/pmematest_630.yml\n",
      "Storing file:  input/fr/pmematest_2294.yml\n",
      "Storing file:  input/fr/pmematest_511.yml\n",
      "Storing file:  input/fr/pmematest_140.yml\n",
      "Storing file:  input/fr/pmematest_2605.yml\n",
      "Storing file:  input/fr/pmematest_1625.yml\n",
      "Storing file:  input/fr/pmematest_1747.yml\n",
      "Storing file:  input/fr/pmematest_494.yml\n",
      "Storing file:  input/fr/pmematest_1185.yml\n",
      "Storing file:  input/fr/pmematest_2372.yml\n",
      "Storing file:  input/fr/pmematest_1405.yml\n",
      "Storing file:  input/fr/pmematest_2772.yml\n",
      "Storing file:  input/fr/pmematest_3099.yml\n",
      "Storing file:  input/fr/pmematest_2635.yml\n",
      "Storing file:  input/fr/pmematest_1716.yml\n",
      "Storing file:  input/fr/pmematest_3374.yml\n",
      "Storing file:  input/fr/pmematest_3391.yml\n",
      "Storing file:  input/fr/pmematest_1583.yml\n",
      "Storing file:  input/fr/pmematest_1113.yml\n",
      "Storing file:  input/fr/pmematest_1539.yml\n",
      "Storing file:  input/fr/pmematest_3077.yml\n",
      "Storing file:  input/fr/pmematest_1165.yml\n",
      "Storing file:  input/fr/pmematest_2777.yml\n",
      "Storing file:  input/fr/pmematest_2869.yml\n",
      "Storing file:  input/fr/pmematest_2513.yml\n",
      "Storing file:  input/fr/pmematest_2633.yml\n",
      "Storing file:  input/fr/pmematest_3375.yml\n",
      "Storing file:  input/fr/pmematest_1854.yml\n",
      "Storing file:  input/fr/pmematest_399.yml\n",
      "Storing file:  input/fr/pmematest_1372.yml\n",
      "Storing file:  input/fr/pmematest_1212.yml\n",
      "Storing file:  input/fr/pmematest_637.yml\n",
      "Storing file:  input/fr/pmematest_652.yml\n",
      "Storing file:  input/fr/pmematest_2877.yml\n",
      "Storing file:  input/fr/pmematest_3185.yml\n",
      "Storing file:  input/fr/pmematest_2902.yml\n",
      "Storing file:  input/fr/pmematest_1890.yml\n",
      "Storing file:  input/fr/pmematest_3354.yml\n",
      "Storing file:  input/fr/pmematest_886.yml\n",
      "Storing file:  input/fr/pmematest_891.yml\n"
     ]
    }
   ],
   "source": [
    "synd.store_articles(articles,\"fr\")"
   ]
  },
  {
   "cell_type": "code",
   "execution_count": 7,
   "metadata": {},
   "outputs": [],
   "source": [
    "import semaeval.evaluate as eval"
   ]
  },
  {
   "cell_type": "code",
   "execution_count": 8,
   "metadata": {},
   "outputs": [
    {
     "name": "stdout",
     "output_type": "stream",
     "text": [
      "\n",
      "semaeval.engine.meaningcloud\n",
      "semaeval.engine.txtrazor\n",
      "semaeval.engine.semant\n",
      "semaeval.engine.alchemy\n",
      "semaeval.engine.retresco\n",
      "semaeval.engine.simple\n",
      "\n",
      "semaeval.engine.meaningcloud\n",
      "semaeval.engine.txtrazor\n",
      "semaeval.engine.semant\n",
      "semaeval.engine.alchemy\n",
      "semaeval.engine.retresco"
     ]
    },
    {
     "name": "stderr",
     "output_type": "stream",
     "text": [
      "/usr/local/lib/python2.7/site-packages/requests/packages/urllib3/connectionpool.py:769: InsecureRequestWarning: Unverified HTTPS request is being made. Adding certificate verification is strongly advised. See: https://urllib3.readthedocs.org/en/latest/security.html\n",
      "  InsecureRequestWarning)\n",
      "/usr/local/lib/python2.7/site-packages/requests/packages/urllib3/connectionpool.py:769: InsecureRequestWarning: Unverified HTTPS request is being made. Adding certificate verification is strongly advised. See: https://urllib3.readthedocs.org/en/latest/security.html\n",
      "  InsecureRequestWarning)\n"
     ]
    },
    {
     "name": "stdout",
     "output_type": "stream",
     "text": [
      "\n",
      "semaeval.engine.simple\n",
      "\n",
      "semaeval.engine.meaningcloud\n",
      "semaeval.engine.txtrazor\n",
      "textrazor: [u'MeanOfTransportation', u'Aircraft']\n",
      "semaeval.engine.semant\n",
      "semantria: Regex\n",
      "semaeval.engine.alchemy\n",
      "semaeval.engine.retresco\n",
      "semaeval.engine.simple\n",
      "\n",
      "semaeval.engine.meaningcloud\n",
      "semaeval.engine.txtrazor\n",
      "semaeval.engine.semant\n",
      "semaeval.engine.alchemy\n",
      "semaeval.engine.retresco"
     ]
    },
    {
     "name": "stderr",
     "output_type": "stream",
     "text": [
      "/usr/local/lib/python2.7/site-packages/requests/packages/urllib3/connectionpool.py:769: InsecureRequestWarning: Unverified HTTPS request is being made. Adding certificate verification is strongly advised. See: https://urllib3.readthedocs.org/en/latest/security.html\n",
      "  InsecureRequestWarning)\n",
      "/usr/local/lib/python2.7/site-packages/requests/packages/urllib3/connectionpool.py:769: InsecureRequestWarning: Unverified HTTPS request is being made. Adding certificate verification is strongly advised. See: https://urllib3.readthedocs.org/en/latest/security.html\n",
      "  InsecureRequestWarning)\n"
     ]
    },
    {
     "name": "stdout",
     "output_type": "stream",
     "text": [
      "\n",
      "semaeval.engine.simple\n",
      "\n",
      "semaeval.engine.meaningcloud\n",
      "semaeval.engine.txtrazor\n",
      "semaeval.engine.semant\n",
      "semaeval.engine.alchemy\n",
      "semaeval.engine.retresco\n",
      "semaeval.engine.simple\n",
      "\n",
      "semaeval.engine.meaningcloud\n",
      "semaeval.engine.txtrazor\n",
      "semaeval.engine.semant\n",
      "semaeval.engine.alchemy\n",
      "semaeval.engine.retresco"
     ]
    },
    {
     "name": "stderr",
     "output_type": "stream",
     "text": [
      "/usr/local/lib/python2.7/site-packages/requests/packages/urllib3/connectionpool.py:769: InsecureRequestWarning: Unverified HTTPS request is being made. Adding certificate verification is strongly advised. See: https://urllib3.readthedocs.org/en/latest/security.html\n",
      "  InsecureRequestWarning)\n",
      "/usr/local/lib/python2.7/site-packages/requests/packages/urllib3/connectionpool.py:769: InsecureRequestWarning: Unverified HTTPS request is being made. Adding certificate verification is strongly advised. See: https://urllib3.readthedocs.org/en/latest/security.html\n",
      "  InsecureRequestWarning)\n"
     ]
    },
    {
     "name": "stdout",
     "output_type": "stream",
     "text": [
      "\n",
      "semaeval.engine.simple\n",
      "\n",
      "semaeval.engine.meaningcloud\n",
      "meaningcloud: Top>Product>CulturalProduct>Broadcast\n",
      "semaeval.engine.txtrazor\n",
      "textrazor: [u'Device', u'InformationAppliance']\n",
      "semaeval.engine.semant\n",
      "semaeval.engine.alchemy\n",
      "semaeval.engine.retresco\n",
      "semaeval.engine.simple\n",
      "\n",
      "semaeval.engine.meaningcloud\n",
      "semaeval.engine.txtrazor\n",
      "textrazor: [u'MeanOfTransportation', u'Rocket']\n",
      "semaeval.engine.semant\n",
      "semaeval.engine.alchemy\n",
      "semaeval.engine.retresco"
     ]
    },
    {
     "name": "stderr",
     "output_type": "stream",
     "text": [
      "/usr/local/lib/python2.7/site-packages/requests/packages/urllib3/connectionpool.py:769: InsecureRequestWarning: Unverified HTTPS request is being made. Adding certificate verification is strongly advised. See: https://urllib3.readthedocs.org/en/latest/security.html\n",
      "  InsecureRequestWarning)\n",
      "/usr/local/lib/python2.7/site-packages/requests/packages/urllib3/connectionpool.py:769: InsecureRequestWarning: Unverified HTTPS request is being made. Adding certificate verification is strongly advised. See: https://urllib3.readthedocs.org/en/latest/security.html\n",
      "  InsecureRequestWarning)\n"
     ]
    },
    {
     "name": "stdout",
     "output_type": "stream",
     "text": [
      "\n",
      "semaeval.engine.simple\n",
      "\n",
      "semaeval.engine.meaningcloud\n",
      "semaeval.engine.txtrazor\n",
      "semaeval.engine.semant\n",
      "semaeval.engine.alchemy\n",
      "semaeval.engine.retresco\n",
      "semaeval.engine.simple\n",
      "\n",
      "semaeval.engine.meaningcloud\n",
      "semaeval.engine.txtrazor\n",
      "semaeval.engine.semant\n",
      "semaeval.engine.alchemy\n",
      "semaeval.engine.retresco"
     ]
    },
    {
     "name": "stderr",
     "output_type": "stream",
     "text": [
      "/usr/local/lib/python2.7/site-packages/requests/packages/urllib3/connectionpool.py:769: InsecureRequestWarning: Unverified HTTPS request is being made. Adding certificate verification is strongly advised. See: https://urllib3.readthedocs.org/en/latest/security.html\n",
      "  InsecureRequestWarning)\n",
      "/usr/local/lib/python2.7/site-packages/requests/packages/urllib3/connectionpool.py:769: InsecureRequestWarning: Unverified HTTPS request is being made. Adding certificate verification is strongly advised. See: https://urllib3.readthedocs.org/en/latest/security.html\n",
      "  InsecureRequestWarning)\n"
     ]
    },
    {
     "name": "stdout",
     "output_type": "stream",
     "text": [
      "\n",
      "semaeval.engine.simple\n",
      "\n",
      "semaeval.engine.meaningcloud\n",
      "semaeval.engine.txtrazor\n",
      "semaeval.engine.semant\n",
      "semaeval.engine.alchemy\n",
      "semaeval.engine.retresco\n",
      "semaeval.engine.simple\n",
      "\n",
      "semaeval.engine.meaningcloud\n",
      "semaeval.engine.txtrazor\n",
      "semaeval.engine.semant\n",
      "semaeval.engine.alchemy\n",
      "semaeval.engine.retresco"
     ]
    },
    {
     "name": "stderr",
     "output_type": "stream",
     "text": [
      "/usr/local/lib/python2.7/site-packages/requests/packages/urllib3/connectionpool.py:769: InsecureRequestWarning: Unverified HTTPS request is being made. Adding certificate verification is strongly advised. See: https://urllib3.readthedocs.org/en/latest/security.html\n",
      "  InsecureRequestWarning)\n",
      "/usr/local/lib/python2.7/site-packages/requests/packages/urllib3/connectionpool.py:769: InsecureRequestWarning: Unverified HTTPS request is being made. Adding certificate verification is strongly advised. See: https://urllib3.readthedocs.org/en/latest/security.html\n",
      "  InsecureRequestWarning)\n"
     ]
    },
    {
     "name": "stdout",
     "output_type": "stream",
     "text": [
      "\n",
      "semaeval.engine.simple\n",
      "\n",
      "semaeval.engine.meaningcloud\n",
      "semaeval.engine.txtrazor\n",
      "semaeval.engine.semant\n",
      "semaeval.engine.alchemy\n",
      "semaeval.engine.retresco\n",
      "semaeval.engine.simple\n",
      "\n",
      "semaeval.engine.meaningcloud\n",
      "semaeval.engine.txtrazor\n",
      "semaeval.engine.semant\n",
      "semantria: Regex\n",
      "semaeval.engine.alchemy\n",
      "semaeval.engine.retresco"
     ]
    },
    {
     "name": "stderr",
     "output_type": "stream",
     "text": [
      "/usr/local/lib/python2.7/site-packages/requests/packages/urllib3/connectionpool.py:769: InsecureRequestWarning: Unverified HTTPS request is being made. Adding certificate verification is strongly advised. See: https://urllib3.readthedocs.org/en/latest/security.html\n",
      "  InsecureRequestWarning)\n",
      "/usr/local/lib/python2.7/site-packages/requests/packages/urllib3/connectionpool.py:769: InsecureRequestWarning: Unverified HTTPS request is being made. Adding certificate verification is strongly advised. See: https://urllib3.readthedocs.org/en/latest/security.html\n",
      "  InsecureRequestWarning)\n"
     ]
    },
    {
     "name": "stdout",
     "output_type": "stream",
     "text": [
      "\n",
      "semaeval.engine.simple\n",
      "\n",
      "semaeval.engine.meaningcloud\n",
      "semaeval.engine.txtrazor\n",
      "semaeval.engine.semant\n",
      "semaeval.engine.alchemy\n",
      "semaeval.engine.retresco\n",
      "semaeval.engine.simple\n",
      "\n",
      "semaeval.engine.meaningcloud\n",
      "semaeval.engine.txtrazor\n",
      "semaeval.engine.semant\n",
      "semaeval.engine.alchemy\n",
      "semaeval.engine.retresco"
     ]
    },
    {
     "name": "stderr",
     "output_type": "stream",
     "text": [
      "/usr/local/lib/python2.7/site-packages/requests/packages/urllib3/connectionpool.py:769: InsecureRequestWarning: Unverified HTTPS request is being made. Adding certificate verification is strongly advised. See: https://urllib3.readthedocs.org/en/latest/security.html\n",
      "  InsecureRequestWarning)\n",
      "/usr/local/lib/python2.7/site-packages/requests/packages/urllib3/connectionpool.py:769: InsecureRequestWarning: Unverified HTTPS request is being made. Adding certificate verification is strongly advised. See: https://urllib3.readthedocs.org/en/latest/security.html\n",
      "  InsecureRequestWarning)\n"
     ]
    },
    {
     "name": "stdout",
     "output_type": "stream",
     "text": [
      "\n",
      "semaeval.engine.simple\n",
      "\n",
      "semaeval.engine.meaningcloud\n",
      "semaeval.engine.txtrazor\n",
      "semaeval.engine.semant\n",
      "semaeval.engine.alchemy\n",
      "semaeval.engine.retresco\n",
      "semaeval.engine.simple\n",
      "\n",
      "semaeval.engine.meaningcloud\n",
      "semaeval.engine.txtrazor\n",
      "semaeval.engine.semant\n",
      "semaeval.engine.alchemy\n",
      "semaeval.engine.retresco"
     ]
    },
    {
     "name": "stderr",
     "output_type": "stream",
     "text": [
      "/usr/local/lib/python2.7/site-packages/requests/packages/urllib3/connectionpool.py:769: InsecureRequestWarning: Unverified HTTPS request is being made. Adding certificate verification is strongly advised. See: https://urllib3.readthedocs.org/en/latest/security.html\n",
      "  InsecureRequestWarning)\n",
      "/usr/local/lib/python2.7/site-packages/requests/packages/urllib3/connectionpool.py:769: InsecureRequestWarning: Unverified HTTPS request is being made. Adding certificate verification is strongly advised. See: https://urllib3.readthedocs.org/en/latest/security.html\n",
      "  InsecureRequestWarning)\n"
     ]
    },
    {
     "name": "stdout",
     "output_type": "stream",
     "text": [
      "\n",
      "semaeval.engine.simple\n",
      "\n",
      "semaeval.engine.meaningcloud\n",
      "semaeval.engine.txtrazor\n",
      "semaeval.engine.semant\n",
      "semaeval.engine.alchemy\n",
      "semaeval.engine.retresco\n",
      "semaeval.engine.simple\n",
      "\n",
      "semaeval.engine.meaningcloud\n",
      "semaeval.engine.txtrazor\n",
      "textrazor: [u'Device', u'InformationAppliance']\n",
      "semaeval.engine.semant\n",
      "semantria: Regex\n",
      "semantria: Regex\n",
      "semantria: Regex\n",
      "semaeval.engine.alchemy\n",
      "alchemy:"
     ]
    },
    {
     "name": "stderr",
     "output_type": "stream",
     "text": [
      "/usr/local/lib/python2.7/site-packages/requests/packages/urllib3/connectionpool.py:769: InsecureRequestWarning: Unverified HTTPS request is being made. Adding certificate verification is strongly advised. See: https://urllib3.readthedocs.org/en/latest/security.html\n",
      "  InsecureRequestWarning)\n",
      "/usr/local/lib/python2.7/site-packages/requests/packages/urllib3/connectionpool.py:769: InsecureRequestWarning: Unverified HTTPS request is being made. Adding certificate verification is strongly advised. See: https://urllib3.readthedocs.org/en/latest/security.html\n",
      "  InsecureRequestWarning)\n"
     ]
    },
    {
     "name": "stdout",
     "output_type": "stream",
     "text": [
      " OperatingSystem\n",
      "semaeval.engine.retresco\n",
      "semaeval.engine.simple\n",
      "\n",
      "semaeval.engine.meaningcloud\n",
      "semaeval.engine.txtrazor\n",
      "semaeval.engine.semant\n",
      "semaeval.engine.alchemy\n",
      "semaeval.engine.retresco\n",
      "semaeval.engine.simple\n",
      "\n",
      "semaeval.engine.meaningcloud\n",
      "semaeval.engine.txtrazor\n",
      "semaeval.engine.semant\n",
      "semaeval.engine.alchemy\n",
      "semaeval.engine.retresco"
     ]
    },
    {
     "name": "stderr",
     "output_type": "stream",
     "text": [
      "/usr/local/lib/python2.7/site-packages/requests/packages/urllib3/connectionpool.py:769: InsecureRequestWarning: Unverified HTTPS request is being made. Adding certificate verification is strongly advised. See: https://urllib3.readthedocs.org/en/latest/security.html\n",
      "  InsecureRequestWarning)\n",
      "/usr/local/lib/python2.7/site-packages/requests/packages/urllib3/connectionpool.py:769: InsecureRequestWarning: Unverified HTTPS request is being made. Adding certificate verification is strongly advised. See: https://urllib3.readthedocs.org/en/latest/security.html\n",
      "  InsecureRequestWarning)\n"
     ]
    },
    {
     "name": "stdout",
     "output_type": "stream",
     "text": [
      "\n",
      "semaeval.engine.simple\n",
      "\n",
      "semaeval.engine.meaningcloud\n",
      "semaeval.engine.txtrazor\n",
      "textrazor: [u'Device', u'InformationAppliance']\n",
      "semaeval.engine.semant\n",
      "semaeval.engine.alchemy\n",
      "alchemy: TelevisionShow\n",
      "semaeval.engine.retresco\n",
      "semaeval.engine.simple\n",
      "\n",
      "semaeval.engine.meaningcloud\n",
      "semaeval.engine.txtrazor\n",
      "textrazor: [u'Device', u'InformationAppliance']\n",
      "textrazor: [u'Device', u'InformationAppliance']\n",
      "semaeval.engine.semant\n",
      "semaeval.engine.alchemy\n",
      "semaeval.engine.retresco"
     ]
    },
    {
     "name": "stderr",
     "output_type": "stream",
     "text": [
      "/usr/local/lib/python2.7/site-packages/requests/packages/urllib3/connectionpool.py:769: InsecureRequestWarning: Unverified HTTPS request is being made. Adding certificate verification is strongly advised. See: https://urllib3.readthedocs.org/en/latest/security.html\n",
      "  InsecureRequestWarning)\n",
      "/usr/local/lib/python2.7/site-packages/requests/packages/urllib3/connectionpool.py:769: InsecureRequestWarning: Unverified HTTPS request is being made. Adding certificate verification is strongly advised. See: https://urllib3.readthedocs.org/en/latest/security.html\n",
      "  InsecureRequestWarning)\n"
     ]
    },
    {
     "name": "stdout",
     "output_type": "stream",
     "text": [
      "\n",
      "semaeval.engine.simple\n",
      "\n",
      "semaeval.engine.meaningcloud\n",
      "semaeval.engine.txtrazor\n",
      "semaeval.engine.semant\n",
      "semaeval.engine.alchemy\n",
      "semaeval.engine.retresco\n",
      "semaeval.engine.simple\n",
      "\n",
      "semaeval.engine.meaningcloud\n",
      "semaeval.engine.txtrazor\n",
      "semaeval.engine.semant\n",
      "semaeval.engine.alchemy\n",
      "semaeval.engine.retresco"
     ]
    },
    {
     "name": "stderr",
     "output_type": "stream",
     "text": [
      "/usr/local/lib/python2.7/site-packages/requests/packages/urllib3/connectionpool.py:769: InsecureRequestWarning: Unverified HTTPS request is being made. Adding certificate verification is strongly advised. See: https://urllib3.readthedocs.org/en/latest/security.html\n",
      "  InsecureRequestWarning)\n",
      "/usr/local/lib/python2.7/site-packages/requests/packages/urllib3/connectionpool.py:769: InsecureRequestWarning: Unverified HTTPS request is being made. Adding certificate verification is strongly advised. See: https://urllib3.readthedocs.org/en/latest/security.html\n",
      "  InsecureRequestWarning)\n"
     ]
    },
    {
     "name": "stdout",
     "output_type": "stream",
     "text": [
      "\n",
      "semaeval.engine.simple\n",
      "\n",
      "semaeval.engine.meaningcloud\n",
      "semaeval.engine.txtrazor\n",
      "semaeval.engine.semant\n",
      "semaeval.engine.alchemy\n",
      "alchemy: NaturalDisaster\n",
      "semaeval.engine.retresco\n",
      "semaeval.engine.simple\n",
      "\n",
      "semaeval.engine.meaningcloud\n",
      "semaeval.engine.txtrazor\n",
      "semaeval.engine.semant\n",
      "semaeval.engine.alchemy\n",
      "semaeval.engine.retresco"
     ]
    },
    {
     "name": "stderr",
     "output_type": "stream",
     "text": [
      "/usr/local/lib/python2.7/site-packages/requests/packages/urllib3/connectionpool.py:769: InsecureRequestWarning: Unverified HTTPS request is being made. Adding certificate verification is strongly advised. See: https://urllib3.readthedocs.org/en/latest/security.html\n",
      "  InsecureRequestWarning)\n",
      "/usr/local/lib/python2.7/site-packages/requests/packages/urllib3/connectionpool.py:769: InsecureRequestWarning: Unverified HTTPS request is being made. Adding certificate verification is strongly advised. See: https://urllib3.readthedocs.org/en/latest/security.html\n",
      "  InsecureRequestWarning)\n"
     ]
    },
    {
     "name": "stdout",
     "output_type": "stream",
     "text": [
      "\n",
      "semaeval.engine.simple\n",
      "\n",
      "semaeval.engine.meaningcloud\n",
      "semaeval.engine.txtrazor\n",
      "semaeval.engine.semant\n",
      "semantria: Regex\n",
      "semaeval.engine.alchemy\n",
      "semaeval.engine.retresco\n",
      "semaeval.engine.simple\n",
      "\n",
      "semaeval.engine.meaningcloud\n",
      "semaeval.engine.txtrazor\n",
      "semaeval.engine.semant\n",
      "semaeval.engine.alchemy\n",
      "alchemy:"
     ]
    },
    {
     "name": "stderr",
     "output_type": "stream",
     "text": [
      "/usr/local/lib/python2.7/site-packages/requests/packages/urllib3/connectionpool.py:769: InsecureRequestWarning: Unverified HTTPS request is being made. Adding certificate verification is strongly advised. See: https://urllib3.readthedocs.org/en/latest/security.html\n",
      "  InsecureRequestWarning)\n",
      "/usr/local/lib/python2.7/site-packages/requests/packages/urllib3/connectionpool.py:769: InsecureRequestWarning: Unverified HTTPS request is being made. Adding certificate verification is strongly advised. See: https://urllib3.readthedocs.org/en/latest/security.html\n",
      "  InsecureRequestWarning)\n"
     ]
    },
    {
     "name": "stdout",
     "output_type": "stream",
     "text": [
      " NaturalDisaster\n",
      "alchemy: TelevisionShow\n",
      "semaeval.engine.retresco\n",
      "semaeval.engine.simple\n",
      "\n",
      "semaeval.engine.meaningcloud\n",
      "semaeval.engine.txtrazor\n",
      "textrazor: [u'Instrument']\n",
      "semaeval.engine.semant\n",
      "semaeval.engine.alchemy\n",
      "semaeval.engine.retresco\n",
      "semaeval.engine.simple\n",
      "\n",
      "semaeval.engine.meaningcloud\n",
      "semaeval.engine.txtrazor\n",
      "semaeval.engine.semant\n",
      "semaeval.engine.alchemy\n",
      "alchemy:"
     ]
    },
    {
     "name": "stderr",
     "output_type": "stream",
     "text": [
      "/usr/local/lib/python2.7/site-packages/requests/packages/urllib3/connectionpool.py:769: InsecureRequestWarning: Unverified HTTPS request is being made. Adding certificate verification is strongly advised. See: https://urllib3.readthedocs.org/en/latest/security.html\n",
      "  InsecureRequestWarning)\n",
      "/usr/local/lib/python2.7/site-packages/requests/packages/urllib3/connectionpool.py:769: InsecureRequestWarning: Unverified HTTPS request is being made. Adding certificate verification is strongly advised. See: https://urllib3.readthedocs.org/en/latest/security.html\n",
      "  InsecureRequestWarning)\n"
     ]
    },
    {
     "name": "stdout",
     "output_type": "stream",
     "text": [
      " TelevisionShow\n",
      "semaeval.engine.retresco\n",
      "semaeval.engine.simple\n",
      "\n",
      "semaeval.engine.meaningcloud\n",
      "semaeval.engine.txtrazor\n",
      "semaeval.engine.semant\n",
      "semaeval.engine.alchemy\n",
      "semaeval.engine.retresco\n",
      "semaeval.engine.simple\n",
      "\n",
      "semaeval.engine.meaningcloud\n",
      "semaeval.engine.txtrazor\n",
      "semaeval.engine.semant\n",
      "semaeval.engine.alchemy\n",
      "alchemy:"
     ]
    },
    {
     "name": "stderr",
     "output_type": "stream",
     "text": [
      "/usr/local/lib/python2.7/site-packages/requests/packages/urllib3/connectionpool.py:769: InsecureRequestWarning: Unverified HTTPS request is being made. Adding certificate verification is strongly advised. See: https://urllib3.readthedocs.org/en/latest/security.html\n",
      "  InsecureRequestWarning)\n",
      "/usr/local/lib/python2.7/site-packages/requests/packages/urllib3/connectionpool.py:769: InsecureRequestWarning: Unverified HTTPS request is being made. Adding certificate verification is strongly advised. See: https://urllib3.readthedocs.org/en/latest/security.html\n",
      "  InsecureRequestWarning)\n"
     ]
    },
    {
     "name": "stdout",
     "output_type": "stream",
     "text": [
      " GeographicFeature\n",
      "semaeval.engine.retresco\n",
      "semaeval.engine.simple\n",
      "\n",
      "semaeval.engine.meaningcloud\n",
      "meaningcloud: Top>Product\n",
      "semaeval.engine.txtrazor\n",
      "textrazor: [u'Device', u'InformationAppliance']\n",
      "textrazor: [u'Device', u'InformationAppliance']\n",
      "semaeval.engine.semant\n",
      "semantria: Regex\n",
      "semaeval.engine.alchemy\n",
      "semaeval.engine.retresco\n",
      "semaeval.engine.simple\n",
      "\n",
      "semaeval.engine.meaningcloud\n",
      "semaeval.engine.txtrazor\n",
      "semaeval.engine.semant\n",
      "semaeval.engine.alchemy\n",
      "semaeval.engine.retresco"
     ]
    },
    {
     "name": "stderr",
     "output_type": "stream",
     "text": [
      "/usr/local/lib/python2.7/site-packages/requests/packages/urllib3/connectionpool.py:769: InsecureRequestWarning: Unverified HTTPS request is being made. Adding certificate verification is strongly advised. See: https://urllib3.readthedocs.org/en/latest/security.html\n",
      "  InsecureRequestWarning)\n",
      "/usr/local/lib/python2.7/site-packages/requests/packages/urllib3/connectionpool.py:769: InsecureRequestWarning: Unverified HTTPS request is being made. Adding certificate verification is strongly advised. See: https://urllib3.readthedocs.org/en/latest/security.html\n",
      "  InsecureRequestWarning)\n"
     ]
    },
    {
     "name": "stdout",
     "output_type": "stream",
     "text": [
      "\n",
      "semaeval.engine.simple\n",
      "\n",
      "semaeval.engine.meaningcloud\n",
      "semaeval.engine.txtrazor\n",
      "semaeval.engine.semant\n",
      "semaeval.engine.alchemy\n",
      "semaeval.engine.retresco\n",
      "semaeval.engine.simple\n",
      "\n",
      "semaeval.engine.meaningcloud\n",
      "semaeval.engine.txtrazor\n",
      "semaeval.engine.semant\n",
      "semaeval.engine.alchemy\n",
      "semaeval.engine.retresco"
     ]
    },
    {
     "name": "stderr",
     "output_type": "stream",
     "text": [
      "/usr/local/lib/python2.7/site-packages/requests/packages/urllib3/connectionpool.py:769: InsecureRequestWarning: Unverified HTTPS request is being made. Adding certificate verification is strongly advised. See: https://urllib3.readthedocs.org/en/latest/security.html\n",
      "  InsecureRequestWarning)\n",
      "/usr/local/lib/python2.7/site-packages/requests/packages/urllib3/connectionpool.py:769: InsecureRequestWarning: Unverified HTTPS request is being made. Adding certificate verification is strongly advised. See: https://urllib3.readthedocs.org/en/latest/security.html\n",
      "  InsecureRequestWarning)\n"
     ]
    },
    {
     "name": "stdout",
     "output_type": "stream",
     "text": [
      "\n",
      "semaeval.engine.simple\n",
      "\n",
      "semaeval.engine.meaningcloud\n",
      "semaeval.engine.txtrazor\n",
      "semaeval.engine.semant\n",
      "semaeval.engine.alchemy\n",
      "semaeval.engine.retresco\n",
      "semaeval.engine.simple\n",
      "\n",
      "semaeval.engine.meaningcloud\n",
      "semaeval.engine.txtrazor\n",
      "semaeval.engine.semant\n",
      "semaeval.engine.alchemy\n",
      "semaeval.engine.retresco"
     ]
    },
    {
     "name": "stderr",
     "output_type": "stream",
     "text": [
      "/usr/local/lib/python2.7/site-packages/requests/packages/urllib3/connectionpool.py:769: InsecureRequestWarning: Unverified HTTPS request is being made. Adding certificate verification is strongly advised. See: https://urllib3.readthedocs.org/en/latest/security.html\n",
      "  InsecureRequestWarning)\n",
      "/usr/local/lib/python2.7/site-packages/requests/packages/urllib3/connectionpool.py:769: InsecureRequestWarning: Unverified HTTPS request is being made. Adding certificate verification is strongly advised. See: https://urllib3.readthedocs.org/en/latest/security.html\n",
      "  InsecureRequestWarning)\n"
     ]
    },
    {
     "name": "stdout",
     "output_type": "stream",
     "text": [
      "\n",
      "semaeval.engine.simple\n",
      "\n",
      "semaeval.engine.meaningcloud\n",
      "semaeval.engine.txtrazor\n",
      "semaeval.engine.semant\n",
      "semaeval.engine.alchemy\n",
      "semaeval.engine.retresco\n",
      "semaeval.engine.simple\n",
      "\n",
      "semaeval.engine.meaningcloud\n",
      "semaeval.engine.txtrazor\n",
      "semaeval.engine.semant\n",
      "semaeval.engine.alchemy\n",
      "alchemy:"
     ]
    },
    {
     "name": "stderr",
     "output_type": "stream",
     "text": [
      "/usr/local/lib/python2.7/site-packages/requests/packages/urllib3/connectionpool.py:769: InsecureRequestWarning: Unverified HTTPS request is being made. Adding certificate verification is strongly advised. See: https://urllib3.readthedocs.org/en/latest/security.html\n",
      "  InsecureRequestWarning)\n",
      "/usr/local/lib/python2.7/site-packages/requests/packages/urllib3/connectionpool.py:769: InsecureRequestWarning: Unverified HTTPS request is being made. Adding certificate verification is strongly advised. See: https://urllib3.readthedocs.org/en/latest/security.html\n",
      "  InsecureRequestWarning)\n"
     ]
    },
    {
     "name": "stdout",
     "output_type": "stream",
     "text": [
      " TelevisionShow\n",
      "semaeval.engine.retresco\n",
      "semaeval.engine.simple\n",
      "\n",
      "semaeval.engine.meaningcloud\n",
      "semaeval.engine.txtrazor\n",
      "semaeval.engine.semant\n",
      "semaeval.engine.alchemy\n",
      "alchemy: TelevisionShow\n",
      "semaeval.engine.retresco\n",
      "semaeval.engine.simple\n",
      "\n",
      "semaeval.engine.meaningcloud\n",
      "semaeval.engine.txtrazor\n",
      "semaeval.engine.semant\n",
      "semaeval.engine.alchemy\n",
      "semaeval.engine.retresco"
     ]
    },
    {
     "name": "stderr",
     "output_type": "stream",
     "text": [
      "/usr/local/lib/python2.7/site-packages/requests/packages/urllib3/connectionpool.py:769: InsecureRequestWarning: Unverified HTTPS request is being made. Adding certificate verification is strongly advised. See: https://urllib3.readthedocs.org/en/latest/security.html\n",
      "  InsecureRequestWarning)\n",
      "/usr/local/lib/python2.7/site-packages/requests/packages/urllib3/connectionpool.py:769: InsecureRequestWarning: Unverified HTTPS request is being made. Adding certificate verification is strongly advised. See: https://urllib3.readthedocs.org/en/latest/security.html\n",
      "  InsecureRequestWarning)\n"
     ]
    },
    {
     "name": "stdout",
     "output_type": "stream",
     "text": [
      "\n",
      "semaeval.engine.simple\n",
      "\n",
      "semaeval.engine.meaningcloud\n",
      "meaningcloud: Top>OtherEntity>Rule\n",
      "semaeval.engine.txtrazor\n",
      "semaeval.engine.semant\n",
      "semaeval.engine.alchemy\n",
      "semaeval.engine.retresco\n",
      "semaeval.engine.simple\n",
      "\n",
      "semaeval.engine.meaningcloud\n",
      "semaeval.engine.txtrazor\n",
      "semaeval.engine.semant\n",
      "semaeval.engine.alchemy\n",
      "semaeval.engine.retresco"
     ]
    },
    {
     "name": "stderr",
     "output_type": "stream",
     "text": [
      "/usr/local/lib/python2.7/site-packages/requests/packages/urllib3/connectionpool.py:769: InsecureRequestWarning: Unverified HTTPS request is being made. Adding certificate verification is strongly advised. See: https://urllib3.readthedocs.org/en/latest/security.html\n",
      "  InsecureRequestWarning)\n",
      "/usr/local/lib/python2.7/site-packages/requests/packages/urllib3/connectionpool.py:769: InsecureRequestWarning: Unverified HTTPS request is being made. Adding certificate verification is strongly advised. See: https://urllib3.readthedocs.org/en/latest/security.html\n",
      "  InsecureRequestWarning)\n"
     ]
    },
    {
     "name": "stdout",
     "output_type": "stream",
     "text": [
      "\n",
      "semaeval.engine.simple\n",
      "\n",
      "semaeval.engine.meaningcloud\n",
      "semaeval.engine.txtrazor\n",
      "semaeval.engine.semant\n",
      "semaeval.engine.alchemy\n",
      "semaeval.engine.retresco\n",
      "semaeval.engine.simple\n",
      "\n",
      "semaeval.engine.meaningcloud\n",
      "semaeval.engine.txtrazor\n",
      "semaeval.engine.semant\n",
      "semaeval.engine.alchemy\n",
      "semaeval.engine.retresco"
     ]
    },
    {
     "name": "stderr",
     "output_type": "stream",
     "text": [
      "/usr/local/lib/python2.7/site-packages/requests/packages/urllib3/connectionpool.py:769: InsecureRequestWarning: Unverified HTTPS request is being made. Adding certificate verification is strongly advised. See: https://urllib3.readthedocs.org/en/latest/security.html\n",
      "  InsecureRequestWarning)\n",
      "/usr/local/lib/python2.7/site-packages/requests/packages/urllib3/connectionpool.py:769: InsecureRequestWarning: Unverified HTTPS request is being made. Adding certificate verification is strongly advised. See: https://urllib3.readthedocs.org/en/latest/security.html\n",
      "  InsecureRequestWarning)\n"
     ]
    },
    {
     "name": "stdout",
     "output_type": "stream",
     "text": [
      "\n",
      "semaeval.engine.simple\n",
      "\n",
      "semaeval.engine.meaningcloud\n",
      "semaeval.engine.txtrazor\n",
      "semaeval.engine.semant\n",
      "semaeval.engine.alchemy\n",
      "semaeval.engine.retresco\n",
      "semaeval.engine.simple\n",
      "\n",
      "semaeval.engine.meaningcloud\n",
      "semaeval.engine.txtrazor\n",
      "semaeval.engine.semant\n",
      "semaeval.engine.alchemy\n",
      "semaeval.engine.retresco"
     ]
    },
    {
     "name": "stderr",
     "output_type": "stream",
     "text": [
      "/usr/local/lib/python2.7/site-packages/requests/packages/urllib3/connectionpool.py:769: InsecureRequestWarning: Unverified HTTPS request is being made. Adding certificate verification is strongly advised. See: https://urllib3.readthedocs.org/en/latest/security.html\n",
      "  InsecureRequestWarning)\n",
      "/usr/local/lib/python2.7/site-packages/requests/packages/urllib3/connectionpool.py:769: InsecureRequestWarning: Unverified HTTPS request is being made. Adding certificate verification is strongly advised. See: https://urllib3.readthedocs.org/en/latest/security.html\n",
      "  InsecureRequestWarning)\n"
     ]
    },
    {
     "name": "stdout",
     "output_type": "stream",
     "text": [
      "\n",
      "semaeval.engine.simple\n"
     ]
    }
   ],
   "source": [
    "articles_enriched = eval.detect_entities(articles,\"fr\")"
   ]
  },
  {
   "cell_type": "code",
   "execution_count": 9,
   "metadata": {},
   "outputs": [
    {
     "name": "stdout",
     "output_type": "stream",
     "text": [
      "Storing file:  output/fr/pmematest_2415_txtrazor.yml\n",
      "Storing file:  output/fr/pmematest_2415_meaningcloud.yml\n",
      "Storing file:  output/fr/pmematest_2415_retresco.yml\n",
      "Storing file:  output/fr/pmematest_2415_semant.yml\n",
      "Storing file:  output/fr/pmematest_2415_simple.yml\n",
      "Storing file:  output/fr/pmematest_2415_alchemy.yml\n",
      "Storing file:  output/fr/pmematest_1794_txtrazor.yml\n",
      "Storing file:  output/fr/pmematest_1794_meaningcloud.yml\n",
      "Storing file:  output/fr/pmematest_1794_retresco.yml\n",
      "Storing file:  output/fr/pmematest_1794_semant.yml\n",
      "Storing file:  output/fr/pmematest_1794_simple.yml\n",
      "Storing file:  output/fr/pmematest_1794_alchemy.yml\n",
      "Storing file:  output/fr/pmematest_1609_txtrazor.yml\n",
      "Storing file:  output/fr/pmematest_1609_meaningcloud.yml\n",
      "Storing file:  output/fr/pmematest_1609_retresco.yml\n",
      "Storing file:  output/fr/pmematest_1609_semant.yml\n",
      "Storing file:  output/fr/pmematest_1609_simple.yml\n",
      "Storing file:  output/fr/pmematest_1609_alchemy.yml\n",
      "Storing file:  output/fr/pmematest_451_txtrazor.yml\n",
      "Storing file:  output/fr/pmematest_451_meaningcloud.yml\n",
      "Storing file:  output/fr/pmematest_451_retresco.yml\n",
      "Storing file:  output/fr/pmematest_451_semant.yml\n",
      "Storing file:  output/fr/pmematest_451_simple.yml\n",
      "Storing file:  output/fr/pmematest_451_alchemy.yml\n",
      "Storing file:  output/fr/pmematest_2569_txtrazor.yml\n",
      "Storing file:  output/fr/pmematest_2569_meaningcloud.yml\n",
      "Storing file:  output/fr/pmematest_2569_retresco.yml\n",
      "Storing file:  output/fr/pmematest_2569_semant.yml\n",
      "Storing file:  output/fr/pmematest_2569_simple.yml\n",
      "Storing file:  output/fr/pmematest_2569_alchemy.yml\n",
      "Storing file:  output/fr/pmematest_359_txtrazor.yml\n",
      "Storing file:  output/fr/pmematest_359_meaningcloud.yml\n",
      "Storing file:  output/fr/pmematest_359_retresco.yml\n",
      "Storing file:  output/fr/pmematest_359_semant.yml\n",
      "Storing file:  output/fr/pmematest_359_simple.yml\n",
      "Storing file:  output/fr/pmematest_359_alchemy.yml\n",
      "Storing file:  output/fr/pmematest_2528_txtrazor.yml\n",
      "Storing file:  output/fr/pmematest_2528_meaningcloud.yml\n",
      "Storing file:  output/fr/pmematest_2528_retresco.yml\n",
      "Storing file:  output/fr/pmematest_2528_semant.yml\n",
      "Storing file:  output/fr/pmematest_2528_simple.yml\n",
      "Storing file:  output/fr/pmematest_2528_alchemy.yml\n",
      "Storing file:  output/fr/pmematest_2429_txtrazor.yml\n",
      "Storing file:  output/fr/pmematest_2429_meaningcloud.yml\n",
      "Storing file:  output/fr/pmematest_2429_retresco.yml\n",
      "Storing file:  output/fr/pmematest_2429_semant.yml\n",
      "Storing file:  output/fr/pmematest_2429_simple.yml\n",
      "Storing file:  output/fr/pmematest_2429_alchemy.yml\n",
      "Storing file:  output/fr/pmematest_3469_txtrazor.yml\n",
      "Storing file:  output/fr/pmematest_3469_meaningcloud.yml\n",
      "Storing file:  output/fr/pmematest_3469_retresco.yml\n",
      "Storing file:  output/fr/pmematest_3469_semant.yml\n",
      "Storing file:  output/fr/pmematest_3469_simple.yml\n",
      "Storing file:  output/fr/pmematest_3469_alchemy.yml\n",
      "Storing file:  output/fr/pmematest_1971_txtrazor.yml\n",
      "Storing file:  output/fr/pmematest_1971_meaningcloud.yml\n",
      "Storing file:  output/fr/pmematest_1971_retresco.yml\n",
      "Storing file:  output/fr/pmematest_1971_semant.yml\n",
      "Storing file:  output/fr/pmematest_1971_simple.yml\n",
      "Storing file:  output/fr/pmematest_1971_alchemy.yml\n",
      "Storing file:  output/fr/pmematest_630_txtrazor.yml\n",
      "Storing file:  output/fr/pmematest_630_meaningcloud.yml\n",
      "Storing file:  output/fr/pmematest_630_retresco.yml\n",
      "Storing file:  output/fr/pmematest_630_semant.yml\n",
      "Storing file:  output/fr/pmematest_630_simple.yml\n",
      "Storing file:  output/fr/pmematest_630_alchemy.yml\n",
      "Storing file:  output/fr/pmematest_2294_txtrazor.yml\n",
      "Storing file:  output/fr/pmematest_2294_meaningcloud.yml\n",
      "Storing file:  output/fr/pmematest_2294_retresco.yml\n",
      "Storing file:  output/fr/pmematest_2294_semant.yml\n",
      "Storing file:  output/fr/pmematest_2294_simple.yml\n",
      "Storing file:  output/fr/pmematest_2294_alchemy.yml\n",
      "Storing file:  output/fr/pmematest_511_txtrazor.yml\n",
      "Storing file:  output/fr/pmematest_511_meaningcloud.yml\n",
      "Storing file:  output/fr/pmematest_511_retresco.yml\n",
      "Storing file:  output/fr/pmematest_511_semant.yml\n",
      "Storing file:  output/fr/pmematest_511_simple.yml\n",
      "Storing file:  output/fr/pmematest_511_alchemy.yml\n",
      "Storing file:  output/fr/pmematest_140_txtrazor.yml\n",
      "Storing file:  output/fr/pmematest_140_meaningcloud.yml\n",
      "Storing file:  output/fr/pmematest_140_retresco.yml\n",
      "Storing file:  output/fr/pmematest_140_semant.yml\n",
      "Storing file:  output/fr/pmematest_140_simple.yml\n",
      "Storing file:  output/fr/pmematest_140_alchemy.yml\n",
      "Storing file:  output/fr/pmematest_2605_txtrazor.yml\n",
      "Storing file:  output/fr/pmematest_2605_meaningcloud.yml\n",
      "Storing file:  output/fr/pmematest_2605_retresco.yml\n",
      "Storing file:  output/fr/pmematest_2605_semant.yml\n",
      "Storing file:  output/fr/pmematest_2605_simple.yml\n",
      "Storing file:  output/fr/pmematest_2605_alchemy.yml\n",
      "Storing file:  output/fr/pmematest_1625_txtrazor.yml\n",
      "Storing file:  output/fr/pmematest_1625_meaningcloud.yml\n",
      "Storing file:  output/fr/pmematest_1625_retresco.yml\n",
      "Storing file:  output/fr/pmematest_1625_semant.yml\n",
      "Storing file:  output/fr/pmematest_1625_simple.yml\n",
      "Storing file:  output/fr/pmematest_1625_alchemy.yml\n",
      "Storing file:  output/fr/pmematest_1747_txtrazor.yml\n",
      "Storing file:  output/fr/pmematest_1747_meaningcloud.yml\n",
      "Storing file:  output/fr/pmematest_1747_retresco.yml\n",
      "Storing file:  output/fr/pmematest_1747_semant.yml\n",
      "Storing file:  output/fr/pmematest_1747_simple.yml\n",
      "Storing file:  output/fr/pmematest_1747_alchemy.yml\n",
      "Storing file:  output/fr/pmematest_494_txtrazor.yml\n",
      "Storing file:  output/fr/pmematest_494_meaningcloud.yml\n",
      "Storing file:  output/fr/pmematest_494_retresco.yml\n",
      "Storing file:  output/fr/pmematest_494_semant.yml\n",
      "Storing file:  output/fr/pmematest_494_simple.yml\n",
      "Storing file:  output/fr/pmematest_494_alchemy.yml\n",
      "Storing file:  output/fr/pmematest_1185_txtrazor.yml\n",
      "Storing file:  output/fr/pmematest_1185_meaningcloud.yml\n",
      "Storing file:  output/fr/pmematest_1185_retresco.yml\n",
      "Storing file:  output/fr/pmematest_1185_semant.yml\n",
      "Storing file:  output/fr/pmematest_1185_simple.yml\n",
      "Storing file:  output/fr/pmematest_1185_alchemy.yml\n",
      "Storing file:  output/fr/pmematest_2372_txtrazor.yml\n",
      "Storing file:  output/fr/pmematest_2372_meaningcloud.yml\n",
      "Storing file:  output/fr/pmematest_2372_retresco.yml\n",
      "Storing file:  output/fr/pmematest_2372_semant.yml\n",
      "Storing file:  output/fr/pmematest_2372_simple.yml\n",
      "Storing file:  output/fr/pmematest_2372_alchemy.yml\n",
      "Storing file:  output/fr/pmematest_1405_txtrazor.yml\n",
      "Storing file:  output/fr/pmematest_1405_meaningcloud.yml\n",
      "Storing file:  output/fr/pmematest_1405_retresco.yml\n",
      "Storing file:  output/fr/pmematest_1405_semant.yml\n",
      "Storing file:  output/fr/pmematest_1405_simple.yml\n",
      "Storing file:  output/fr/pmematest_1405_alchemy.yml\n",
      "Storing file:  output/fr/pmematest_2772_txtrazor.yml\n",
      "Storing file:  output/fr/pmematest_2772_meaningcloud.yml\n",
      "Storing file:  output/fr/pmematest_2772_retresco.yml\n",
      "Storing file:  output/fr/pmematest_2772_semant.yml\n",
      "Storing file:  output/fr/pmematest_2772_simple.yml\n",
      "Storing file:  output/fr/pmematest_2772_alchemy.yml\n",
      "Storing file:  output/fr/pmematest_3099_txtrazor.yml\n",
      "Storing file:  output/fr/pmematest_3099_meaningcloud.yml\n",
      "Storing file:  output/fr/pmematest_3099_retresco.yml\n",
      "Storing file:  output/fr/pmematest_3099_semant.yml\n",
      "Storing file:  output/fr/pmematest_3099_simple.yml\n",
      "Storing file:  output/fr/pmematest_3099_alchemy.yml\n",
      "Storing file:  output/fr/pmematest_2635_txtrazor.yml\n",
      "Storing file:  output/fr/pmematest_2635_meaningcloud.yml\n",
      "Storing file:  output/fr/pmematest_2635_retresco.yml\n",
      "Storing file:  output/fr/pmematest_2635_semant.yml\n",
      "Storing file:  output/fr/pmematest_2635_simple.yml\n",
      "Storing file:  output/fr/pmematest_2635_alchemy.yml\n",
      "Storing file:  output/fr/pmematest_1716_txtrazor.yml\n",
      "Storing file:  output/fr/pmematest_1716_meaningcloud.yml\n",
      "Storing file:  output/fr/pmematest_1716_retresco.yml\n",
      "Storing file:  output/fr/pmematest_1716_semant.yml\n",
      "Storing file:  output/fr/pmematest_1716_simple.yml\n",
      "Storing file:  output/fr/pmematest_1716_alchemy.yml\n",
      "Storing file:  output/fr/pmematest_3374_txtrazor.yml\n",
      "Storing file:  output/fr/pmematest_3374_meaningcloud.yml\n",
      "Storing file:  output/fr/pmematest_3374_retresco.yml\n",
      "Storing file:  output/fr/pmematest_3374_semant.yml\n",
      "Storing file:  output/fr/pmematest_3374_simple.yml\n",
      "Storing file:  output/fr/pmematest_3374_alchemy.yml\n",
      "Storing file:  output/fr/pmematest_3391_txtrazor.yml\n",
      "Storing file:  output/fr/pmematest_3391_meaningcloud.yml\n",
      "Storing file:  output/fr/pmematest_3391_retresco.yml\n",
      "Storing file:  output/fr/pmematest_3391_semant.yml\n",
      "Storing file:  output/fr/pmematest_3391_simple.yml\n",
      "Storing file:  output/fr/pmematest_3391_alchemy.yml\n",
      "Storing file:  output/fr/pmematest_1583_txtrazor.yml\n",
      "Storing file:  output/fr/pmematest_1583_meaningcloud.yml\n",
      "Storing file:  output/fr/pmematest_1583_retresco.yml\n",
      "Storing file:  output/fr/pmematest_1583_semant.yml\n",
      "Storing file:  output/fr/pmematest_1583_simple.yml\n",
      "Storing file:  output/fr/pmematest_1583_alchemy.yml\n",
      "Storing file:  output/fr/pmematest_1113_txtrazor.yml\n",
      "Storing file:  output/fr/pmematest_1113_meaningcloud.yml\n",
      "Storing file:  output/fr/pmematest_1113_retresco.yml\n",
      "Storing file:  output/fr/pmematest_1113_semant.yml\n",
      "Storing file:  output/fr/pmematest_1113_simple.yml\n",
      "Storing file:  output/fr/pmematest_1113_alchemy.yml\n",
      "Storing file:  output/fr/pmematest_1539_txtrazor.yml\n",
      "Storing file:  output/fr/pmematest_1539_meaningcloud.yml\n",
      "Storing file:  output/fr/pmematest_1539_retresco.yml\n",
      "Storing file:  output/fr/pmematest_1539_semant.yml\n",
      "Storing file:  output/fr/pmematest_1539_simple.yml\n",
      "Storing file:  output/fr/pmematest_1539_alchemy.yml\n",
      "Storing file:  output/fr/pmematest_3077_txtrazor.yml\n",
      "Storing file:  output/fr/pmematest_3077_meaningcloud.yml\n",
      "Storing file:  output/fr/pmematest_3077_retresco.yml\n",
      "Storing file:  output/fr/pmematest_3077_semant.yml\n",
      "Storing file:  output/fr/pmematest_3077_simple.yml\n",
      "Storing file:  output/fr/pmematest_3077_alchemy.yml\n",
      "Storing file:  output/fr/pmematest_1165_txtrazor.yml\n",
      "Storing file:  output/fr/pmematest_1165_meaningcloud.yml\n",
      "Storing file:  output/fr/pmematest_1165_retresco.yml\n",
      "Storing file:  output/fr/pmematest_1165_semant.yml\n",
      "Storing file:  output/fr/pmematest_1165_simple.yml\n",
      "Storing file:  output/fr/pmematest_1165_alchemy.yml\n",
      "Storing file:  output/fr/pmematest_2777_txtrazor.yml\n",
      "Storing file:  output/fr/pmematest_2777_meaningcloud.yml\n",
      "Storing file:  output/fr/pmematest_2777_retresco.yml\n",
      "Storing file:  output/fr/pmematest_2777_semant.yml\n",
      "Storing file:  output/fr/pmematest_2777_simple.yml\n",
      "Storing file:  output/fr/pmematest_2777_alchemy.yml\n",
      "Storing file:  output/fr/pmematest_2869_txtrazor.yml\n",
      "Storing file:  output/fr/pmematest_2869_meaningcloud.yml\n",
      "Storing file:  output/fr/pmematest_2869_retresco.yml\n",
      "Storing file:  output/fr/pmematest_2869_semant.yml\n",
      "Storing file:  output/fr/pmematest_2869_simple.yml\n",
      "Storing file:  output/fr/pmematest_2869_alchemy.yml\n",
      "Storing file:  output/fr/pmematest_2513_txtrazor.yml\n",
      "Storing file:  output/fr/pmematest_2513_meaningcloud.yml\n",
      "Storing file:  output/fr/pmematest_2513_retresco.yml\n",
      "Storing file:  output/fr/pmematest_2513_semant.yml\n",
      "Storing file:  output/fr/pmematest_2513_simple.yml\n",
      "Storing file:  output/fr/pmematest_2513_alchemy.yml\n",
      "Storing file:  output/fr/pmematest_2633_txtrazor.yml\n",
      "Storing file:  output/fr/pmematest_2633_meaningcloud.yml\n",
      "Storing file:  output/fr/pmematest_2633_retresco.yml\n",
      "Storing file:  output/fr/pmematest_2633_semant.yml\n",
      "Storing file:  output/fr/pmematest_2633_simple.yml\n",
      "Storing file:  output/fr/pmematest_2633_alchemy.yml\n",
      "Storing file:  output/fr/pmematest_3375_txtrazor.yml\n",
      "Storing file:  output/fr/pmematest_3375_meaningcloud.yml\n",
      "Storing file:  output/fr/pmematest_3375_retresco.yml\n",
      "Storing file:  output/fr/pmematest_3375_semant.yml\n",
      "Storing file:  output/fr/pmematest_3375_simple.yml\n",
      "Storing file:  output/fr/pmematest_3375_alchemy.yml\n",
      "Storing file:  output/fr/pmematest_1854_txtrazor.yml\n",
      "Storing file:  output/fr/pmematest_1854_meaningcloud.yml\n",
      "Storing file:  output/fr/pmematest_1854_retresco.yml\n",
      "Storing file:  output/fr/pmematest_1854_semant.yml\n",
      "Storing file:  output/fr/pmematest_1854_simple.yml\n",
      "Storing file:  output/fr/pmematest_1854_alchemy.yml\n",
      "Storing file:  output/fr/pmematest_399_txtrazor.yml\n",
      "Storing file:  output/fr/pmematest_399_meaningcloud.yml\n",
      "Storing file:  output/fr/pmematest_399_retresco.yml\n",
      "Storing file:  output/fr/pmematest_399_semant.yml\n",
      "Storing file:  output/fr/pmematest_399_simple.yml\n",
      "Storing file:  output/fr/pmematest_399_alchemy.yml\n",
      "Storing file:  output/fr/pmematest_1372_txtrazor.yml\n",
      "Storing file:  output/fr/pmematest_1372_meaningcloud.yml\n",
      "Storing file:  output/fr/pmematest_1372_retresco.yml\n",
      "Storing file:  output/fr/pmematest_1372_semant.yml\n",
      "Storing file:  output/fr/pmematest_1372_simple.yml\n",
      "Storing file:  output/fr/pmematest_1372_alchemy.yml\n",
      "Storing file:  output/fr/pmematest_1212_txtrazor.yml\n",
      "Storing file:  output/fr/pmematest_1212_meaningcloud.yml\n",
      "Storing file:  output/fr/pmematest_1212_retresco.yml\n",
      "Storing file:  output/fr/pmematest_1212_semant.yml\n",
      "Storing file:  output/fr/pmematest_1212_simple.yml\n",
      "Storing file:  output/fr/pmematest_1212_alchemy.yml\n",
      "Storing file:  output/fr/pmematest_637_txtrazor.yml\n",
      "Storing file:  output/fr/pmematest_637_meaningcloud.yml\n",
      "Storing file:  output/fr/pmematest_637_retresco.yml\n",
      "Storing file:  output/fr/pmematest_637_semant.yml\n",
      "Storing file:  output/fr/pmematest_637_simple.yml\n",
      "Storing file:  output/fr/pmematest_637_alchemy.yml\n",
      "Storing file:  output/fr/pmematest_652_txtrazor.yml\n",
      "Storing file:  output/fr/pmematest_652_meaningcloud.yml\n",
      "Storing file:  output/fr/pmematest_652_retresco.yml\n",
      "Storing file:  output/fr/pmematest_652_semant.yml\n",
      "Storing file:  output/fr/pmematest_652_simple.yml\n",
      "Storing file:  output/fr/pmematest_652_alchemy.yml\n",
      "Storing file:  output/fr/pmematest_2877_txtrazor.yml\n",
      "Storing file:  output/fr/pmematest_2877_meaningcloud.yml\n",
      "Storing file:  output/fr/pmematest_2877_retresco.yml\n",
      "Storing file:  output/fr/pmematest_2877_semant.yml\n",
      "Storing file:  output/fr/pmematest_2877_simple.yml\n",
      "Storing file:  output/fr/pmematest_2877_alchemy.yml\n",
      "Storing file:  output/fr/pmematest_3185_txtrazor.yml\n",
      "Storing file:  output/fr/pmematest_3185_meaningcloud.yml\n",
      "Storing file:  output/fr/pmematest_3185_retresco.yml\n",
      "Storing file:  output/fr/pmematest_3185_semant.yml\n",
      "Storing file:  output/fr/pmematest_3185_simple.yml\n",
      "Storing file:  output/fr/pmematest_3185_alchemy.yml\n",
      "Storing file:  output/fr/pmematest_2902_txtrazor.yml\n",
      "Storing file:  output/fr/pmematest_2902_meaningcloud.yml\n",
      "Storing file:  output/fr/pmematest_2902_retresco.yml\n",
      "Storing file:  output/fr/pmematest_2902_semant.yml\n",
      "Storing file:  output/fr/pmematest_2902_simple.yml\n",
      "Storing file:  output/fr/pmematest_2902_alchemy.yml\n",
      "Storing file:  output/fr/pmematest_1890_txtrazor.yml\n",
      "Storing file:  output/fr/pmematest_1890_meaningcloud.yml\n",
      "Storing file:  output/fr/pmematest_1890_retresco.yml\n",
      "Storing file:  output/fr/pmematest_1890_semant.yml\n",
      "Storing file:  output/fr/pmematest_1890_simple.yml\n",
      "Storing file:  output/fr/pmematest_1890_alchemy.yml\n",
      "Storing file:  output/fr/pmematest_3354_txtrazor.yml\n",
      "Storing file:  output/fr/pmematest_3354_meaningcloud.yml\n",
      "Storing file:  output/fr/pmematest_3354_retresco.yml\n",
      "Storing file:  output/fr/pmematest_3354_semant.yml\n",
      "Storing file:  output/fr/pmematest_3354_simple.yml\n",
      "Storing file:  output/fr/pmematest_3354_alchemy.yml\n",
      "Storing file:  output/fr/pmematest_886_txtrazor.yml\n",
      "Storing file:  output/fr/pmematest_886_meaningcloud.yml\n",
      "Storing file:  output/fr/pmematest_886_retresco.yml\n",
      "Storing file:  output/fr/pmematest_886_semant.yml\n",
      "Storing file:  output/fr/pmematest_886_simple.yml\n",
      "Storing file:  output/fr/pmematest_886_alchemy.yml\n",
      "Storing file:  output/fr/pmematest_891_txtrazor.yml\n",
      "Storing file:  output/fr/pmematest_891_meaningcloud.yml\n",
      "Storing file:  output/fr/pmematest_891_retresco.yml\n",
      "Storing file:  output/fr/pmematest_891_semant.yml\n",
      "Storing file:  output/fr/pmematest_891_simple.yml\n",
      "Storing file:  output/fr/pmematest_891_alchemy.yml\n"
     ]
    }
   ],
   "source": [
    "eval.store_articles(articles_enriched,\"fr\")"
   ]
  },
  {
   "cell_type": "code",
   "execution_count": 10,
   "metadata": {},
   "outputs": [],
   "source": [
    "import semaeval.statistics as stats"
   ]
  },
  {
   "cell_type": "code",
   "execution_count": 11,
   "metadata": {},
   "outputs": [],
   "source": [
    "data=stats.collect_data(articles_enriched)"
   ]
  },
  {
   "cell_type": "code",
   "execution_count": 12,
   "metadata": {},
   "outputs": [],
   "source": [
    "results=stats.aggregate_result(data)"
   ]
  },
  {
   "cell_type": "code",
   "execution_count": 13,
   "metadata": {},
   "outputs": [],
   "source": [
    "results.extend(stats.compute_total(results))"
   ]
  },
  {
   "cell_type": "code",
   "execution_count": 14,
   "metadata": {},
   "outputs": [],
   "source": [
    "%matplotlib inline"
   ]
  },
  {
   "cell_type": "code",
   "execution_count": 15,
   "metadata": {},
   "outputs": [
    {
     "data": {
      "image/png": "[encoded data removed]"
     },
     "output_type": "display_data",
     "metadata": {}
    }
   ],
   "source": [
    "stats.plot_results(results)"
   ]
  },
  {
   "cell_type": "code",
   "metadata": {},
   "outputs": [],
   "source": [
    ""
   ]
  }
 ],
 "metadata": {
  "kernelspec": {
   "display_name": "Python 2",
   "language": "python",
   "name": "python2"
  },
  "language_info": {
   "codemirror_mode": {
    "name": "ipython",
    "version": 2.0
   },
   "file_extension": ".py",
   "mimetype": "text/x-python",
   "name": "python",
   "nbconvert_exporter": "python",
   "pygments_lexer": "ipython2",
   "version": "2.7.9"
  }
 },
 "nbformat": 4,
 "nbformat_minor": 0
}