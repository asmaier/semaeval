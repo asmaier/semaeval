{
 "cells": [
  {
   "cell_type": "code",
   "execution_count": 1,
   "metadata": {},
   "outputs": [
    {
     "name": "stdout",
     "output_type": "stream",
     "text": [
      "Deleting: input/de/en\n",
      "Deleting: output/de/en\n"
     ]
    }
   ],
   "source": [
    "import semaeval.util as util\n",
    "util.clean_storage(\"de\")"
   ]
  },
  {
   "cell_type": "code",
   "execution_count": 2,
   "metadata": {},
   "outputs": [],
   "source": [
    "import semaeval.source.welt as welt"
   ]
  },
  {
   "cell_type": "code",
   "execution_count": 3,
   "metadata": {},
   "outputs": [],
   "source": [
    "urls = open(\"urls_welt_de.txt\").readlines()"
   ]
  },
  {
   "cell_type": "code",
   "execution_count": 4,
   "metadata": {},
   "outputs": [],
   "source": [
    "articles = []\n",
    "for url in urls:\n",
    "    articles.append(welt.article_from_url(url))"
   ]
  },
  {
   "cell_type": "code",
   "execution_count": 5,
   "metadata": {},
   "outputs": [
    {
     "data": {
      "text/plain": [
       "50"
      ]
     },
     "execution_count": 5,
     "output_type": "execute_result",
     "metadata": {}
    }
   ],
   "source": [
    "len(articles)"
   ]
  },
  {
   "cell_type": "code",
   "execution_count": 6,
   "metadata": {},
   "outputs": [
    {
     "name": "stdout",
     "output_type": "stream",
     "text": [
      "Storing file:  input/de/article125423592.yml\n",
      "Storing file:  input/de/article125423156.yml\n",
      "Storing file:  input/de/article125423712.yml\n",
      "Storing file:  input/de/article125423641.yml\n",
      "Storing file:  input/de/article125424107.yml\n",
      "Storing file:  input/de/article125422595.yml\n",
      "Storing file:  input/de/article125422405.yml\n",
      "Storing file:  input/de/article125418383.yml\n",
      "Storing file:  input/de/article125411892.yml\n",
      "Storing file:  input/de/article125423635.yml\n",
      "Storing file:  input/de/article125421480.yml\n",
      "Storing file:  input/de/article125422572.yml\n",
      "Storing file:  input/de/article125419459.yml\n",
      "Storing file:  input/de/article125421093.yml\n",
      "Storing file:  input/de/article125419006.yml\n",
      "Storing file:  input/de/article125419838.yml\n",
      "Storing file:  input/de/article125420088.yml\n",
      "Storing file:  input/de/article125419555.yml\n",
      "Storing file:  input/de/article125419734.yml\n",
      "Storing file:  input/de/article125419949.yml\n",
      "Storing file:  input/de/article125411523.yml\n",
      "Storing file:  input/de/article125418264.yml\n",
      "Storing file:  input/de/article125417594.yml\n",
      "Storing file:  input/de/article125416040.yml\n",
      "Storing file:  input/de/article125416743.yml\n",
      "Storing file:  input/de/article125416433.yml\n",
      "Storing file:  input/de/article125414274.yml\n",
      "Storing file:  input/de/article125414811.yml\n",
      "Storing file:  input/de/article125411879.yml\n",
      "Storing file:  input/de/article125414637.yml\n",
      "Storing file:  input/de/article125411855.yml\n",
      "Storing file:  input/de/article125414830.yml\n",
      "Storing file:  input/de/article125412072.yml\n",
      "Storing file:  input/de/article125414913.yml\n",
      "Storing file:  input/de/article125413715.yml\n",
      "Storing file:  input/de/article125413599.yml\n",
      "Storing file:  input/de/article125412900.yml\n",
      "Storing file:  input/de/article125407288.yml\n",
      "Storing file:  input/de/article125412733.yml\n",
      "Storing file:  input/de/article125411758.yml\n",
      "Storing file:  input/de/article125412598.yml\n",
      "Storing file:  input/de/article125412309.yml\n",
      "Storing file:  input/de/article125397600.yml\n",
      "Storing file:  input/de/article125411133.yml\n",
      "Storing file:  input/de/article125410849.yml\n",
      "Storing file:  input/de/article125409377.yml\n",
      "Storing file:  input/de/article125410611.yml\n",
      "Storing file:  input/de/article125410545.yml\n",
      "Storing file:  input/de/article125410683.yml\n",
      "Storing file:  input/de/article125410701.yml\n"
     ]
    }
   ],
   "source": [
    "welt.store_articles(articles,\"de\")"
   ]
  },
  {
   "cell_type": "code",
   "execution_count": 7,
   "metadata": {},
   "outputs": [],
   "source": [
    "import semaeval.evaluate as eval"
   ]
  },
  {
   "cell_type": "code",
   "execution_count": 8,
   "metadata": {},
   "outputs": [
    {
     "name": "stdout",
     "output_type": "stream",
     "text": [
      "http://www.welt.de/regionales/koeln/article125423592/Wie-Deutschland-andere-Menschen-zum-Hungern-bringt.html\n",
      "\n",
      "semaeval.engine.meaningcloud\n",
      "semaeval.engine.txtrazor\n",
      "semaeval.engine.semant\n",
      "semaeval.engine.alchemy\n",
      "semaeval.engine.retresco\n",
      "semaeval.engine.simple\n",
      "http://www.welt.de/wirtschaft/webwelt/article125423156/Google-Sea-View-zeigt-neue-spektakulaere-Aufnahmen.html\n",
      "\n",
      "semaeval.engine.meaningcloud\n",
      "semaeval.engine.txtrazor\n",
      "semaeval.engine.semant\n",
      "semaeval.engine.alchemy\n",
      "semaeval.engine.retresco"
     ]
    },
    {
     "name": "stderr",
     "output_type": "stream",
     "text": [
      "/usr/local/lib/python2.7/site-packages/requests/packages/urllib3/connectionpool.py:769: InsecureRequestWarning: Unverified HTTPS request is being made. Adding certificate verification is strongly advised. See: https://urllib3.readthedocs.org/en/latest/security.html\n",
      "  InsecureRequestWarning)\n",
      "/usr/local/lib/python2.7/site-packages/requests/packages/urllib3/connectionpool.py:769: InsecureRequestWarning: Unverified HTTPS request is being made. Adding certificate verification is strongly advised. See: https://urllib3.readthedocs.org/en/latest/security.html\n",
      "  InsecureRequestWarning)\n"
     ]
    },
    {
     "name": "stdout",
     "output_type": "stream",
     "text": [
      "\n",
      "semaeval.engine.simple\n",
      "http://www.welt.de/wirtschaft/webwelt/article125423712/Europaeische-Suchmaschine-verspricht-Datenschutz.html\n",
      "\n",
      "semaeval.engine.meaningcloud\n",
      "semaeval.engine.txtrazor\n",
      "semaeval.engine.semant\n",
      "semaeval.engine.alchemy\n",
      "semaeval.engine.retresco\n",
      "semaeval.engine.simple\n",
      "http://www.welt.de/motor/article125423641/Boese-Schlappe-fuer-BMW-bei-der-Autowahl.html\n",
      "\n",
      "semaeval.engine.meaningcloud\n",
      "semaeval.engine.txtrazor\n",
      "semaeval.engine.semant\n",
      "semaeval.engine.alchemy\n",
      "semaeval.engine.retresco"
     ]
    },
    {
     "name": "stderr",
     "output_type": "stream",
     "text": [
      "/usr/local/lib/python2.7/site-packages/requests/packages/urllib3/connectionpool.py:769: InsecureRequestWarning: Unverified HTTPS request is being made. Adding certificate verification is strongly advised. See: https://urllib3.readthedocs.org/en/latest/security.html\n",
      "  InsecureRequestWarning)\n",
      "/usr/local/lib/python2.7/site-packages/requests/packages/urllib3/connectionpool.py:769: InsecureRequestWarning: Unverified HTTPS request is being made. Adding certificate verification is strongly advised. See: https://urllib3.readthedocs.org/en/latest/security.html\n",
      "  InsecureRequestWarning)\n"
     ]
    },
    {
     "name": "stdout",
     "output_type": "stream",
     "text": [
      "\n",
      "semaeval.engine.simple\n",
      "http://www.welt.de/vermischtes/weltgeschehen/article125424107/Zehntausende-krank-nach-Waldbraenden-auf-Sumatra.html\n",
      "\n",
      "semaeval.engine.meaningcloud\n",
      "semaeval.engine.txtrazor\n",
      "semaeval.engine.semant\n",
      "semaeval.engine.alchemy\n",
      "semaeval.engine.retresco\n",
      "semaeval.engine.simple\n",
      "http://www.welt.de/sport/article125422595/Ein-Sportfest-nur-450-km-von-der-Krim-enfernt.html\n",
      "\n",
      "semaeval.engine.meaningcloud\n",
      "semaeval.engine.txtrazor\n",
      "semaeval.engine.semant\n",
      "semaeval.engine.alchemy\n",
      "semaeval.engine.retresco"
     ]
    },
    {
     "name": "stderr",
     "output_type": "stream",
     "text": [
      "/usr/local/lib/python2.7/site-packages/requests/packages/urllib3/connectionpool.py:769: InsecureRequestWarning: Unverified HTTPS request is being made. Adding certificate verification is strongly advised. See: https://urllib3.readthedocs.org/en/latest/security.html\n",
      "  InsecureRequestWarning)\n",
      "/usr/local/lib/python2.7/site-packages/requests/packages/urllib3/connectionpool.py:769: InsecureRequestWarning: Unverified HTTPS request is being made. Adding certificate verification is strongly advised. See: https://urllib3.readthedocs.org/en/latest/security.html\n",
      "  InsecureRequestWarning)\n"
     ]
    },
    {
     "name": "stdout",
     "output_type": "stream",
     "text": [
      "\n",
      "semaeval.engine.simple\n",
      "http://www.welt.de/reise/staedtereisen/article125422405/Naechster-Stopp-1966-ein-Besuch-im-Geisterbahnhof.html\n",
      "\n",
      "semaeval.engine.meaningcloud\n",
      "semaeval.engine.txtrazor\n",
      "semaeval.engine.semant\n",
      "semaeval.engine.alchemy\n",
      "semaeval.engine.retresco\n",
      "semaeval.engine.simple\n",
      "http://www.welt.de/regionales/duesseldorf/article125418383/Ministerpraesidentin-Kraft-zu-Besuch-in-Israel.html\n",
      "\n",
      "semaeval.engine.meaningcloud\n",
      "semaeval.engine.txtrazor\n",
      "semaeval.engine.semant\n",
      "semaeval.engine.alchemy\n",
      "semaeval.engine.retresco"
     ]
    },
    {
     "name": "stderr",
     "output_type": "stream",
     "text": [
      "/usr/local/lib/python2.7/site-packages/requests/packages/urllib3/connectionpool.py:769: InsecureRequestWarning: Unverified HTTPS request is being made. Adding certificate verification is strongly advised. See: https://urllib3.readthedocs.org/en/latest/security.html\n",
      "  InsecureRequestWarning)\n",
      "/usr/local/lib/python2.7/site-packages/requests/packages/urllib3/connectionpool.py:769: InsecureRequestWarning: Unverified HTTPS request is being made. Adding certificate verification is strongly advised. See: https://urllib3.readthedocs.org/en/latest/security.html\n",
      "  InsecureRequestWarning)\n"
     ]
    },
    {
     "name": "stdout",
     "output_type": "stream",
     "text": [
      "\n",
      "semaeval.engine.simple\n",
      "http://www.welt.de/sport/fitness/article125411892/Maenner-duerfen-mehr-Fleisch-essen-Frauen-nicht.html\n",
      "\n",
      "semaeval.engine.meaningcloud\n",
      "semaeval.engine.txtrazor\n",
      "semaeval.engine.semant\n",
      "semaeval.engine.alchemy\n",
      "semaeval.engine.retresco\n",
      "semaeval.engine.simple\n",
      "http://www.welt.de/sport/boxen/article125423635/Abraham-kuemmert-sich-um-benachteiligte-Jugendliche.html\n",
      "\n",
      "semaeval.engine.meaningcloud\n",
      "semaeval.engine.txtrazor\n",
      "semaeval.engine.semant\n",
      "semaeval.engine.alchemy\n",
      "semaeval.engine.retresco"
     ]
    },
    {
     "name": "stderr",
     "output_type": "stream",
     "text": [
      "/usr/local/lib/python2.7/site-packages/requests/packages/urllib3/connectionpool.py:769: InsecureRequestWarning: Unverified HTTPS request is being made. Adding certificate verification is strongly advised. See: https://urllib3.readthedocs.org/en/latest/security.html\n",
      "  InsecureRequestWarning)\n",
      "/usr/local/lib/python2.7/site-packages/requests/packages/urllib3/connectionpool.py:769: InsecureRequestWarning: Unverified HTTPS request is being made. Adding certificate verification is strongly advised. See: https://urllib3.readthedocs.org/en/latest/security.html\n",
      "  InsecureRequestWarning)\n"
     ]
    },
    {
     "name": "stdout",
     "output_type": "stream",
     "text": [
      "\n",
      "semaeval.engine.simple\n",
      "http://www.welt.de/debatte/kommentare/article125421480/Warum-wir-Despoten-staendig-unterschaetzen.html\n",
      "\n",
      "semaeval.engine.meaningcloud\n",
      "semaeval.engine.txtrazor\n",
      "semaeval.engine.semant\n",
      "semaeval.engine.alchemy\n",
      "semaeval.engine.retresco\n",
      "semaeval.engine.simple\n",
      "http://www.welt.de/debatte/kommentare/article125422572/Wo-bleibt-die-deutsche-Friedensbewegung.html\n",
      "\n",
      "semaeval.engine.meaningcloud\n",
      "semaeval.engine.txtrazor\n",
      "semaeval.engine.semant\n",
      "semaeval.engine.alchemy\n",
      "semaeval.engine.retresco"
     ]
    },
    {
     "name": "stderr",
     "output_type": "stream",
     "text": [
      "/usr/local/lib/python2.7/site-packages/requests/packages/urllib3/connectionpool.py:769: InsecureRequestWarning: Unverified HTTPS request is being made. Adding certificate verification is strongly advised. See: https://urllib3.readthedocs.org/en/latest/security.html\n",
      "  InsecureRequestWarning)\n",
      "/usr/local/lib/python2.7/site-packages/requests/packages/urllib3/connectionpool.py:769: InsecureRequestWarning: Unverified HTTPS request is being made. Adding certificate verification is strongly advised. See: https://urllib3.readthedocs.org/en/latest/security.html\n",
      "  InsecureRequestWarning)\n"
     ]
    },
    {
     "name": "stdout",
     "output_type": "stream",
     "text": [
      "\n",
      "semaeval.engine.simple\n",
      "http://www.welt.de/regionales/duesseldorf/article125419459/Toetete-Yanqing-T-drei-Menschen-aus-Geldnot.html\n",
      "\n",
      "semaeval.engine.meaningcloud\n",
      "semaeval.engine.txtrazor\n",
      "semaeval.engine.semant\n",
      "semaeval.engine.alchemy\n",
      "semaeval.engine.retresco\n",
      "semaeval.engine.simple\n",
      "http://www.welt.de/wirtschaft/webwelt/article125421093/Schweiz-will-kuenftig-Daten-statt-Geld-bunkern.html\n",
      "\n",
      "semaeval.engine.meaningcloud\n",
      "semaeval.engine.txtrazor\n",
      "semaeval.engine.semant\n",
      "semaeval.engine.alchemy\n",
      "alchemy:"
     ]
    },
    {
     "name": "stderr",
     "output_type": "stream",
     "text": [
      "/usr/local/lib/python2.7/site-packages/requests/packages/urllib3/connectionpool.py:769: InsecureRequestWarning: Unverified HTTPS request is being made. Adding certificate verification is strongly advised. See: https://urllib3.readthedocs.org/en/latest/security.html\n",
      "  InsecureRequestWarning)\n",
      "/usr/local/lib/python2.7/site-packages/requests/packages/urllib3/connectionpool.py:769: InsecureRequestWarning: Unverified HTTPS request is being made. Adding certificate verification is strongly advised. See: https://urllib3.readthedocs.org/en/latest/security.html\n",
      "  InsecureRequestWarning)\n"
     ]
    },
    {
     "name": "stdout",
     "output_type": "stream",
     "text": [
      " GeographicFeature\n",
      "alchemy: FinancialMarketIndex\n",
      "semaeval.engine.retresco\n",
      "semaeval.engine.simple\n",
      "http://www.welt.de/vermischtes/article125419006/Miley-Cyrus-droht-israelischem-Soldaten-mit-Klage.html\n",
      "\n",
      "semaeval.engine.meaningcloud\n",
      "semaeval.engine.txtrazor\n",
      "semaeval.engine.semant\n",
      "semaeval.engine.alchemy\n",
      "semaeval.engine.retresco\n",
      "semaeval.engine.simple\n",
      "http://www.welt.de/sport/fussball/wm-2014/article125419838/Loew-hat-noch-acht-Plaetze-im-WM-Kader-frei.html\n",
      "\n",
      "semaeval.engine.meaningcloud\n",
      "semaeval.engine.txtrazor\n",
      "semaeval.engine.semant\n",
      "semaeval.engine.alchemy\n",
      "semaeval.engine.retresco"
     ]
    },
    {
     "name": "stderr",
     "output_type": "stream",
     "text": [
      "/usr/local/lib/python2.7/site-packages/requests/packages/urllib3/connectionpool.py:769: InsecureRequestWarning: Unverified HTTPS request is being made. Adding certificate verification is strongly advised. See: https://urllib3.readthedocs.org/en/latest/security.html\n",
      "  InsecureRequestWarning)\n",
      "/usr/local/lib/python2.7/site-packages/requests/packages/urllib3/connectionpool.py:769: InsecureRequestWarning: Unverified HTTPS request is being made. Adding certificate verification is strongly advised. See: https://urllib3.readthedocs.org/en/latest/security.html\n",
      "  InsecureRequestWarning)\n"
     ]
    },
    {
     "name": "stdout",
     "output_type": "stream",
     "text": [
      "\n",
      "semaeval.engine.simple\n",
      "http://www.welt.de/spiele/article125420088/Dracula-kehrt-in-Castlevania-als-Hauptfigur-zurueck.html\n",
      "\n",
      "semaeval.engine.meaningcloud\n",
      "semaeval.engine.txtrazor\n",
      "semaeval.engine.semant\n",
      "semaeval.engine.alchemy\n",
      "semaeval.engine.retresco\n",
      "semaeval.engine.simple\n",
      "http://www.welt.de/politik/deutschland/article125419555/Langzeitarbeitslose-werden-kaum-vermittelbar.html\n",
      "\n",
      "semaeval.engine.meaningcloud\n",
      "semaeval.engine.txtrazor\n",
      "semaeval.engine.semant\n",
      "semaeval.engine.alchemy\n",
      "semaeval.engine.retresco"
     ]
    },
    {
     "name": "stderr",
     "output_type": "stream",
     "text": [
      "/usr/local/lib/python2.7/site-packages/requests/packages/urllib3/connectionpool.py:769: InsecureRequestWarning: Unverified HTTPS request is being made. Adding certificate verification is strongly advised. See: https://urllib3.readthedocs.org/en/latest/security.html\n",
      "  InsecureRequestWarning)\n",
      "/usr/local/lib/python2.7/site-packages/requests/packages/urllib3/connectionpool.py:769: InsecureRequestWarning: Unverified HTTPS request is being made. Adding certificate verification is strongly advised. See: https://urllib3.readthedocs.org/en/latest/security.html\n",
      "  InsecureRequestWarning)\n"
     ]
    },
    {
     "name": "stdout",
     "output_type": "stream",
     "text": [
      "\n",
      "semaeval.engine.simple\n",
      "http://www.welt.de/sport/fussball/article125419734/In-der-Bundesliga-bricht-der-Trainer-Notstand-aus.html\n",
      "\n",
      "semaeval.engine.meaningcloud\n",
      "semaeval.engine.txtrazor\n",
      "semaeval.engine.semant\n",
      "semaeval.engine.alchemy\n",
      "semaeval.engine.retresco\n",
      "semaeval.engine.simple\n",
      "http://www.welt.de/vermischtes/prominente/article125419949/Pistorius-Schreie-klingen-wie-die-einer-Frau.html\n",
      "\n",
      "semaeval.engine.meaningcloud\n",
      "semaeval.engine.txtrazor\n",
      "semaeval.engine.semant\n",
      "semaeval.engine.alchemy\n",
      "semaeval.engine.retresco"
     ]
    },
    {
     "name": "stderr",
     "output_type": "stream",
     "text": [
      "/usr/local/lib/python2.7/site-packages/requests/packages/urllib3/connectionpool.py:769: InsecureRequestWarning: Unverified HTTPS request is being made. Adding certificate verification is strongly advised. See: https://urllib3.readthedocs.org/en/latest/security.html\n",
      "  InsecureRequestWarning)\n",
      "/usr/local/lib/python2.7/site-packages/requests/packages/urllib3/connectionpool.py:769: InsecureRequestWarning: Unverified HTTPS request is being made. Adding certificate verification is strongly advised. See: https://urllib3.readthedocs.org/en/latest/security.html\n",
      "  InsecureRequestWarning)\n"
     ]
    },
    {
     "name": "stdout",
     "output_type": "stream",
     "text": [
      "\n",
      "semaeval.engine.simple\n",
      "http://www.welt.de/wirtschaft/article125411523/Oekonomen-warnen-vor-Zeitalter-des-Protektionismus.html\n",
      "\n",
      "semaeval.engine.meaningcloud\n",
      "semaeval.engine.txtrazor\n",
      "semaeval.engine.semant\n",
      "semaeval.engine.alchemy\n",
      "alchemy: GeographicFeature\n",
      "semaeval.engine.retresco\n",
      "semaeval.engine.simple\n",
      "http://www.welt.de/politik/ausland/article125418264/Moderatorin-im-russischen-TV-verurteilt-Krim-Besetzung.html\n",
      "\n",
      "semaeval.engine.meaningcloud\n",
      "semaeval.engine.txtrazor\n",
      "semaeval.engine.semant\n",
      "semaeval.engine.alchemy\n",
      "semaeval.engine.retresco"
     ]
    },
    {
     "name": "stderr",
     "output_type": "stream",
     "text": [
      "/usr/local/lib/python2.7/site-packages/requests/packages/urllib3/connectionpool.py:769: InsecureRequestWarning: Unverified HTTPS request is being made. Adding certificate verification is strongly advised. See: https://urllib3.readthedocs.org/en/latest/security.html\n",
      "  InsecureRequestWarning)\n",
      "/usr/local/lib/python2.7/site-packages/requests/packages/urllib3/connectionpool.py:769: InsecureRequestWarning: Unverified HTTPS request is being made. Adding certificate verification is strongly advised. See: https://urllib3.readthedocs.org/en/latest/security.html\n",
      "  InsecureRequestWarning)\n"
     ]
    },
    {
     "name": "stdout",
     "output_type": "stream",
     "text": [
      "\n",
      "semaeval.engine.simple\n",
      "http://www.welt.de/politik/ausland/article125417594/Putin-will-Russen-mit-allen-Mitteln-schuetzen.html\n",
      "\n",
      "semaeval.engine.meaningcloud\n",
      "semaeval.engine.txtrazor\n",
      "semaeval.engine.semant\n",
      "semaeval.engine.alchemy\n",
      "semaeval.engine.retresco\n",
      "semaeval.engine.simple\n",
      "http://www.welt.de/wissenschaft/umwelt/article125416040/Plattwurm-aus-Asien-erstmals-in-der-EU-aufgetaucht.html\n",
      "\n",
      "semaeval.engine.meaningcloud\n",
      "semaeval.engine.txtrazor\n",
      "semaeval.engine.semant\n",
      "semaeval.engine.alchemy\n",
      "semaeval.engine.retresco"
     ]
    },
    {
     "name": "stderr",
     "output_type": "stream",
     "text": [
      "/usr/local/lib/python2.7/site-packages/requests/packages/urllib3/connectionpool.py:769: InsecureRequestWarning: Unverified HTTPS request is being made. Adding certificate verification is strongly advised. See: https://urllib3.readthedocs.org/en/latest/security.html\n",
      "  InsecureRequestWarning)\n",
      "/usr/local/lib/python2.7/site-packages/requests/packages/urllib3/connectionpool.py:769: InsecureRequestWarning: Unverified HTTPS request is being made. Adding certificate verification is strongly advised. See: https://urllib3.readthedocs.org/en/latest/security.html\n",
      "  InsecureRequestWarning)\n"
     ]
    },
    {
     "name": "stdout",
     "output_type": "stream",
     "text": [
      "\n",
      "semaeval.engine.simple\n",
      "http://www.welt.de/motor/news/article125416743/Genfer-Automobilsalon-2014.html\n",
      "\n",
      "semaeval.engine.meaningcloud\n",
      "semaeval.engine.txtrazor\n",
      "semaeval.engine.semant\n",
      "semantria: Fahrzeug\n",
      "semantria: Fahrzeug\n",
      "semaeval.engine.alchemy\n",
      "semaeval.engine.retresco\n",
      "semaeval.engine.simple\n",
      "http://www.welt.de/wirtschaft/article125416433/Beiersdorf-enttaeuscht-Aktionaere-trotz-Gewinnsprung.html\n",
      "\n",
      "semaeval.engine.meaningcloud\n",
      "semaeval.engine.txtrazor\n",
      "semaeval.engine.semant\n",
      "semaeval.engine.alchemy\n",
      "semaeval.engine.retresco"
     ]
    },
    {
     "name": "stderr",
     "output_type": "stream",
     "text": [
      "/usr/local/lib/python2.7/site-packages/requests/packages/urllib3/connectionpool.py:769: InsecureRequestWarning: Unverified HTTPS request is being made. Adding certificate verification is strongly advised. See: https://urllib3.readthedocs.org/en/latest/security.html\n",
      "  InsecureRequestWarning)\n",
      "/usr/local/lib/python2.7/site-packages/requests/packages/urllib3/connectionpool.py:769: InsecureRequestWarning: Unverified HTTPS request is being made. Adding certificate verification is strongly advised. See: https://urllib3.readthedocs.org/en/latest/security.html\n",
      "  InsecureRequestWarning)\n"
     ]
    },
    {
     "name": "stdout",
     "output_type": "stream",
     "text": [
      "\n",
      "semaeval.engine.simple\n",
      "http://www.welt.de/regionales/duesseldorf/article125414274/Wind-erfasst-Auto-und-schleudert-es-gegen-Bus.html\n",
      "\n",
      "semaeval.engine.meaningcloud\n",
      "semaeval.engine.txtrazor\n",
      "semaeval.engine.semant\n",
      "semaeval.engine.alchemy\n",
      "semaeval.engine.retresco\n",
      "semaeval.engine.simple\n",
      "http://www.welt.de/regionales/duesseldorf/article125414811/Absaetze-an-Kinderfuessen-sind-nicht-verhandelbar.html\n",
      "\n",
      "semaeval.engine.meaningcloud\n",
      "semaeval.engine.txtrazor\n",
      "semaeval.engine.semant\n",
      "semaeval.engine.alchemy\n",
      "semaeval.engine.retresco"
     ]
    },
    {
     "name": "stderr",
     "output_type": "stream",
     "text": [
      "/usr/local/lib/python2.7/site-packages/requests/packages/urllib3/connectionpool.py:769: InsecureRequestWarning: Unverified HTTPS request is being made. Adding certificate verification is strongly advised. See: https://urllib3.readthedocs.org/en/latest/security.html\n",
      "  InsecureRequestWarning)\n",
      "/usr/local/lib/python2.7/site-packages/requests/packages/urllib3/connectionpool.py:769: InsecureRequestWarning: Unverified HTTPS request is being made. Adding certificate verification is strongly advised. See: https://urllib3.readthedocs.org/en/latest/security.html\n",
      "  InsecureRequestWarning)\n"
     ]
    },
    {
     "name": "stdout",
     "output_type": "stream",
     "text": [
      "\n",
      "semaeval.engine.simple\n",
      "http://www.welt.de/politik/deutschland/article125411879/Das-hat-Tebartz-van-Elst-nicht-verdient.html\n",
      "\n",
      "semaeval.engine.meaningcloud\n",
      "semaeval.engine.txtrazor\n",
      "semaeval.engine.semant\n",
      "semaeval.engine.alchemy\n",
      "semaeval.engine.retresco\n",
      "semaeval.engine.simple\n",
      "http://www.welt.de/wissenschaft/umwelt/article125414637/Viele-Arten-fluechten-aus-dem-Aequator-Gebiet.html\n",
      "\n",
      "semaeval.engine.meaningcloud\n",
      "semaeval.engine.txtrazor\n",
      "semaeval.engine.semant\n",
      "semaeval.engine.alchemy\n",
      "alchemy:"
     ]
    },
    {
     "name": "stderr",
     "output_type": "stream",
     "text": [
      "/usr/local/lib/python2.7/site-packages/requests/packages/urllib3/connectionpool.py:769: InsecureRequestWarning: Unverified HTTPS request is being made. Adding certificate verification is strongly advised. See: https://urllib3.readthedocs.org/en/latest/security.html\n",
      "  InsecureRequestWarning)\n",
      "/usr/local/lib/python2.7/site-packages/requests/packages/urllib3/connectionpool.py:769: InsecureRequestWarning: Unverified HTTPS request is being made. Adding certificate verification is strongly advised. See: https://urllib3.readthedocs.org/en/latest/security.html\n",
      "  InsecureRequestWarning)\n"
     ]
    },
    {
     "name": "stdout",
     "output_type": "stream",
     "text": [
      " GeographicFeature\n",
      "alchemy: GeographicFeature\n",
      "semaeval.engine.retresco\n",
      "semaeval.engine.simple\n",
      "http://www.welt.de/regionales/koeln/article125411855/Diese-Apps-machen-uns-zum-glaesernen-Menschen.html\n",
      "\n",
      "semaeval.engine.meaningcloud\n",
      "semaeval.engine.txtrazor\n",
      "semaeval.engine.semant\n",
      "semaeval.engine.alchemy\n",
      "semaeval.engine.retresco\n",
      "semaeval.engine.simple\n",
      "http://www.welt.de/gesundheit/article125414830/Bei-Laktose-Intoleranz-Verdacht-zum-Arzt-gehen.html\n",
      "\n",
      "semaeval.engine.meaningcloud\n",
      "semaeval.engine.txtrazor\n",
      "semaeval.engine.semant\n",
      "semaeval.engine.alchemy\n",
      "semaeval.engine.retresco"
     ]
    },
    {
     "name": "stderr",
     "output_type": "stream",
     "text": [
      "/usr/local/lib/python2.7/site-packages/requests/packages/urllib3/connectionpool.py:769: InsecureRequestWarning: Unverified HTTPS request is being made. Adding certificate verification is strongly advised. See: https://urllib3.readthedocs.org/en/latest/security.html\n",
      "  InsecureRequestWarning)\n",
      "/usr/local/lib/python2.7/site-packages/requests/packages/urllib3/connectionpool.py:769: InsecureRequestWarning: Unverified HTTPS request is being made. Adding certificate verification is strongly advised. See: https://urllib3.readthedocs.org/en/latest/security.html\n",
      "  InsecureRequestWarning)\n"
     ]
    },
    {
     "name": "stdout",
     "output_type": "stream",
     "text": [
      "\n",
      "semaeval.engine.simple\n",
      "http://www.welt.de/gesundheit/article125412072/Die-kleinen-Viren-Schleudern-aus-der-Kita.html\n",
      "\n",
      "semaeval.engine.meaningcloud\n",
      "semaeval.engine.txtrazor\n",
      "semaeval.engine.semant\n",
      "semaeval.engine.alchemy\n",
      "semaeval.engine.retresco\n",
      "semaeval.engine.simple\n",
      "http://www.welt.de/motor/boote-yachten/article125414913/Wer-wird-das-Bayern-Muenchen-der-Segler.html\n",
      "\n",
      "semaeval.engine.meaningcloud\n",
      "semaeval.engine.txtrazor\n",
      "semaeval.engine.semant\n",
      "semaeval.engine.alchemy\n",
      "semaeval.engine.retresco"
     ]
    },
    {
     "name": "stderr",
     "output_type": "stream",
     "text": [
      "/usr/local/lib/python2.7/site-packages/requests/packages/urllib3/connectionpool.py:769: InsecureRequestWarning: Unverified HTTPS request is being made. Adding certificate verification is strongly advised. See: https://urllib3.readthedocs.org/en/latest/security.html\n",
      "  InsecureRequestWarning)\n",
      "/usr/local/lib/python2.7/site-packages/requests/packages/urllib3/connectionpool.py:769: InsecureRequestWarning: Unverified HTTPS request is being made. Adding certificate verification is strongly advised. See: https://urllib3.readthedocs.org/en/latest/security.html\n",
      "  InsecureRequestWarning)\n"
     ]
    },
    {
     "name": "stdout",
     "output_type": "stream",
     "text": [
      "\n",
      "semaeval.engine.simple\n",
      "http://www.welt.de/regionales/muenchen/article125413715/Fuenf-Backstreet-Boys-auf-Tour-durch-Deutschland.html\n",
      "\n",
      "semaeval.engine.meaningcloud\n",
      "semaeval.engine.txtrazor\n",
      "semaeval.engine.semant\n",
      "semaeval.engine.alchemy\n",
      "semaeval.engine.retresco\n",
      "semaeval.engine.simple\n",
      "http://www.welt.de/wirtschaft/article125413599/Feinstaubbelastung-seit-2005-um-ein-Fuenftel-gefallen.html\n",
      "\n",
      "semaeval.engine.meaningcloud\n",
      "semaeval.engine.txtrazor\n",
      "semaeval.engine.semant\n",
      "semaeval.engine.alchemy\n",
      "semaeval.engine.retresco"
     ]
    },
    {
     "name": "stderr",
     "output_type": "stream",
     "text": [
      "/usr/local/lib/python2.7/site-packages/requests/packages/urllib3/connectionpool.py:769: InsecureRequestWarning: Unverified HTTPS request is being made. Adding certificate verification is strongly advised. See: https://urllib3.readthedocs.org/en/latest/security.html\n",
      "  InsecureRequestWarning)\n",
      "/usr/local/lib/python2.7/site-packages/requests/packages/urllib3/connectionpool.py:769: InsecureRequestWarning: Unverified HTTPS request is being made. Adding certificate verification is strongly advised. See: https://urllib3.readthedocs.org/en/latest/security.html\n",
      "  InsecureRequestWarning)\n"
     ]
    },
    {
     "name": "stdout",
     "output_type": "stream",
     "text": [
      "\n",
      "semaeval.engine.simple\n",
      "http://www.welt.de/politik/ausland/article125412900/Steinmeier-warnt-vor-neuem-Blutvergiessen.html\n",
      "\n",
      "semaeval.engine.meaningcloud\n",
      "semaeval.engine.txtrazor\n",
      "semaeval.engine.semant\n",
      "semaeval.engine.alchemy\n",
      "alchemy: GeographicFeature\n",
      "semaeval.engine.retresco\n",
      "semaeval.engine.simple\n",
      "http://www.welt.de/gesundheit/article125407288/Finden-Sie-die-beste-Therapie-bei-schwerer-Krankheit.html\n",
      "\n",
      "semaeval.engine.meaningcloud\n",
      "semaeval.engine.txtrazor\n",
      "semaeval.engine.semant\n",
      "semaeval.engine.alchemy\n",
      "alchemy:"
     ]
    },
    {
     "name": "stderr",
     "output_type": "stream",
     "text": [
      "/usr/local/lib/python2.7/site-packages/requests/packages/urllib3/connectionpool.py:769: InsecureRequestWarning: Unverified HTTPS request is being made. Adding certificate verification is strongly advised. See: https://urllib3.readthedocs.org/en/latest/security.html\n",
      "  InsecureRequestWarning)\n",
      "/usr/local/lib/python2.7/site-packages/requests/packages/urllib3/connectionpool.py:769: InsecureRequestWarning: Unverified HTTPS request is being made. Adding certificate verification is strongly advised. See: https://urllib3.readthedocs.org/en/latest/security.html\n",
      "  InsecureRequestWarning)\n"
     ]
    },
    {
     "name": "stdout",
     "output_type": "stream",
     "text": [
      " GeographicFeature\n",
      "semaeval.engine.retresco\n",
      "semaeval.engine.simple\n",
      "http://www.welt.de/kultur/kunst-und-architektur/article125412733/Er-war-der-Forrest-Gump-der-Fotografie.html\n",
      "\n",
      "semaeval.engine.meaningcloud\n",
      "semaeval.engine.txtrazor\n",
      "semaeval.engine.semant\n",
      "semaeval.engine.alchemy\n",
      "semaeval.engine.retresco\n",
      "semaeval.engine.simple\n",
      "http://www.welt.de/wirtschaft/article125411758/Krankmeldungen-auf-hoechstem-Stand-seit-1999.html\n",
      "\n",
      "semaeval.engine.meaningcloud\n",
      "semaeval.engine.txtrazor\n",
      "semaeval.engine.semant\n",
      "semaeval.engine.alchemy\n",
      "semaeval.engine.retresco"
     ]
    },
    {
     "name": "stderr",
     "output_type": "stream",
     "text": [
      "/usr/local/lib/python2.7/site-packages/requests/packages/urllib3/connectionpool.py:769: InsecureRequestWarning: Unverified HTTPS request is being made. Adding certificate verification is strongly advised. See: https://urllib3.readthedocs.org/en/latest/security.html\n",
      "  InsecureRequestWarning)\n",
      "/usr/local/lib/python2.7/site-packages/requests/packages/urllib3/connectionpool.py:769: InsecureRequestWarning: Unverified HTTPS request is being made. Adding certificate verification is strongly advised. See: https://urllib3.readthedocs.org/en/latest/security.html\n",
      "  InsecureRequestWarning)\n"
     ]
    },
    {
     "name": "stdout",
     "output_type": "stream",
     "text": [
      "\n",
      "semaeval.engine.simple\n",
      "http://www.welt.de/kultur/kunst-und-architektur/article125412598/Es-gibt-ein-Leben-nach-der-Waldschloesschenbruecke.html\n",
      "\n",
      "semaeval.engine.meaningcloud\n",
      "semaeval.engine.txtrazor\n",
      "semaeval.engine.semant\n",
      "semaeval.engine.alchemy\n",
      "alchemy: GeographicFeature\n",
      "semaeval.engine.retresco\n",
      "semaeval.engine.simple\n",
      "http://www.welt.de/motor/news/article125412309/Facelift-fuer-den-Nissan-Juke.html\n",
      "\n",
      "semaeval.engine.meaningcloud\n",
      "semaeval.engine.txtrazor\n",
      "semaeval.engine.semant\n",
      "semaeval.engine.alchemy\n",
      "semaeval.engine.retresco"
     ]
    },
    {
     "name": "stderr",
     "output_type": "stream",
     "text": [
      "/usr/local/lib/python2.7/site-packages/requests/packages/urllib3/connectionpool.py:769: InsecureRequestWarning: Unverified HTTPS request is being made. Adding certificate verification is strongly advised. See: https://urllib3.readthedocs.org/en/latest/security.html\n",
      "  InsecureRequestWarning)\n",
      "/usr/local/lib/python2.7/site-packages/requests/packages/urllib3/connectionpool.py:769: InsecureRequestWarning: Unverified HTTPS request is being made. Adding certificate verification is strongly advised. See: https://urllib3.readthedocs.org/en/latest/security.html\n",
      "  InsecureRequestWarning)\n"
     ]
    },
    {
     "name": "stdout",
     "output_type": "stream",
     "text": [
      "\n",
      "semaeval.engine.simple\n",
      "http://www.welt.de/sport/fussball/bundesliga/1-fsv-mainz/article125397600/Mainzer-Karnevalslied-wurde-deutsche-Fussballhymne.html\n",
      "\n",
      "semaeval.engine.meaningcloud\n",
      "semaeval.engine.txtrazor\n",
      "semaeval.engine.semant\n",
      "semaeval.engine.alchemy\n",
      "alchemy: Movie\n",
      "semaeval.engine.retresco\n",
      "semaeval.engine.simple\n",
      "http://www.welt.de/sport/formel1/article125411133/Weltmeister-Vettel-rechnet-mit-einem-Debakel.html\n",
      "\n",
      "semaeval.engine.meaningcloud\n",
      "semaeval.engine.txtrazor\n",
      "semaeval.engine.semant\n",
      "semaeval.engine.alchemy\n",
      "alchemy:"
     ]
    },
    {
     "name": "stderr",
     "output_type": "stream",
     "text": [
      "/usr/local/lib/python2.7/site-packages/requests/packages/urllib3/connectionpool.py:769: InsecureRequestWarning: Unverified HTTPS request is being made. Adding certificate verification is strongly advised. See: https://urllib3.readthedocs.org/en/latest/security.html\n",
      "  InsecureRequestWarning)\n",
      "/usr/local/lib/python2.7/site-packages/requests/packages/urllib3/connectionpool.py:769: InsecureRequestWarning: Unverified HTTPS request is being made. Adding certificate verification is strongly advised. See: https://urllib3.readthedocs.org/en/latest/security.html\n",
      "  InsecureRequestWarning)\n"
     ]
    },
    {
     "name": "stdout",
     "output_type": "stream",
     "text": [
      " Product\n",
      "semaeval.engine.retresco\n",
      "semaeval.engine.simple\n",
      "http://www.welt.de/reise/Fern/article125410849/Vorstoss-im-Kampf-gegen-die-welthoechste-Muellkippe.html\n",
      "\n",
      "semaeval.engine.meaningcloud\n",
      "semaeval.engine.txtrazor\n",
      "semaeval.engine.semant\n",
      "semaeval.engine.alchemy\n",
      "alchemy: GeographicFeature\n",
      "alchemy: GeographicFeature\n",
      "semaeval.engine.retresco\n",
      "semaeval.engine.simple\n",
      "http://www.welt.de/wirtschaft/article125409377/Arbeitslosigkeit-in-Spanien-sinkt-erstmals-seit-2007.html\n",
      "\n",
      "semaeval.engine.meaningcloud\n",
      "semaeval.engine.txtrazor\n",
      "semaeval.engine.semant\n",
      "semaeval.engine.alchemy\n",
      "semaeval.engine.retresco"
     ]
    },
    {
     "name": "stderr",
     "output_type": "stream",
     "text": [
      "/usr/local/lib/python2.7/site-packages/requests/packages/urllib3/connectionpool.py:769: InsecureRequestWarning: Unverified HTTPS request is being made. Adding certificate verification is strongly advised. See: https://urllib3.readthedocs.org/en/latest/security.html\n",
      "  InsecureRequestWarning)\n",
      "/usr/local/lib/python2.7/site-packages/requests/packages/urllib3/connectionpool.py:769: InsecureRequestWarning: Unverified HTTPS request is being made. Adding certificate verification is strongly advised. See: https://urllib3.readthedocs.org/en/latest/security.html\n",
      "  InsecureRequestWarning)\n"
     ]
    },
    {
     "name": "stdout",
     "output_type": "stream",
     "text": [
      "\n",
      "semaeval.engine.simple\n",
      "http://www.welt.de/vermischtes/article125410611/Polizeiauto-umgekippt-Gefangener-schwer-verletzt.html\n",
      "\n",
      "semaeval.engine.meaningcloud\n",
      "semaeval.engine.txtrazor\n",
      "semaeval.engine.semant\n",
      "semaeval.engine.alchemy\n",
      "semaeval.engine.retresco\n",
      "semaeval.engine.simple\n",
      "http://www.welt.de/vermischtes/article125410545/Das-Dorf-der-ausgestossenen-Sexualverbrecher.html\n",
      "\n",
      "semaeval.engine.meaningcloud\n",
      "semaeval.engine.txtrazor\n",
      "semaeval.engine.semant\n",
      "semaeval.engine.alchemy\n",
      "semaeval.engine.retresco"
     ]
    },
    {
     "name": "stderr",
     "output_type": "stream",
     "text": [
      "/usr/local/lib/python2.7/site-packages/requests/packages/urllib3/connectionpool.py:769: InsecureRequestWarning: Unverified HTTPS request is being made. Adding certificate verification is strongly advised. See: https://urllib3.readthedocs.org/en/latest/security.html\n",
      "  InsecureRequestWarning)\n",
      "/usr/local/lib/python2.7/site-packages/requests/packages/urllib3/connectionpool.py:769: InsecureRequestWarning: Unverified HTTPS request is being made. Adding certificate verification is strongly advised. See: https://urllib3.readthedocs.org/en/latest/security.html\n",
      "  InsecureRequestWarning)\n"
     ]
    },
    {
     "name": "stdout",
     "output_type": "stream",
     "text": [
      "\n",
      "semaeval.engine.simple\n",
      "http://www.welt.de/vermischtes/article125410683/Riesiger-Schneemann-als-Denkmal-fuer-harten-Winter.html\n",
      "\n",
      "semaeval.engine.meaningcloud\n",
      "semaeval.engine.txtrazor\n",
      "semaeval.engine.semant\n",
      "semaeval.engine.alchemy\n",
      "semaeval.engine.retresco\n",
      "semaeval.engine.simple\n",
      "http://www.welt.de/motor/news/article125410701/Mazda-Hazumi.html\n",
      "\n",
      "semaeval.engine.meaningcloud\n",
      "semaeval.engine.txtrazor\n",
      "semaeval.engine.semant\n",
      "semaeval.engine.alchemy\n",
      "semaeval.engine.retresco"
     ]
    },
    {
     "name": "stderr",
     "output_type": "stream",
     "text": [
      "/usr/local/lib/python2.7/site-packages/requests/packages/urllib3/connectionpool.py:769: InsecureRequestWarning: Unverified HTTPS request is being made. Adding certificate verification is strongly advised. See: https://urllib3.readthedocs.org/en/latest/security.html\n",
      "  InsecureRequestWarning)\n",
      "/usr/local/lib/python2.7/site-packages/requests/packages/urllib3/connectionpool.py:769: InsecureRequestWarning: Unverified HTTPS request is being made. Adding certificate verification is strongly advised. See: https://urllib3.readthedocs.org/en/latest/security.html\n",
      "  InsecureRequestWarning)\n"
     ]
    },
    {
     "name": "stdout",
     "output_type": "stream",
     "text": [
      "\n",
      "semaeval.engine.simple\n"
     ]
    }
   ],
   "source": [
    "articles_enriched = eval.detect_entities(articles, \"de\")"
   ]
  },
  {
   "cell_type": "code",
   "execution_count": 9,
   "metadata": {},
   "outputs": [
    {
     "name": "stdout",
     "output_type": "stream",
     "text": [
      "Storing file:  output/de/article125423592_meaningcloud.yml\n",
      "Storing file:  output/de/article125423592_retresco.yml\n",
      "Storing file:  output/de/article125423592_alchemy.yml\n",
      "Storing file:  output/de/article125423592_simple.yml\n",
      "Storing file:  output/de/article125423592_txtrazor.yml\n",
      "Storing file:  output/de/article125423592_semant.yml\n",
      "Storing file:  output/de/article125423156_meaningcloud.yml\n",
      "Storing file:  output/de/article125423156_retresco.yml\n",
      "Storing file:  output/de/article125423156_alchemy.yml\n",
      "Storing file:  output/de/article125423156_simple.yml\n",
      "Storing file:  output/de/article125423156_txtrazor.yml\n",
      "Storing file:  output/de/article125423156_semant.yml\n",
      "Storing file:  output/de/article125423712_meaningcloud.yml\n",
      "Storing file:  output/de/article125423712_retresco.yml\n",
      "Storing file:  output/de/article125423712_alchemy.yml\n",
      "Storing file:  output/de/article125423712_simple.yml\n",
      "Storing file:  output/de/article125423712_txtrazor.yml\n",
      "Storing file:  output/de/article125423712_semant.yml\n",
      "Storing file:  output/de/article125423641_meaningcloud.yml\n",
      "Storing file:  output/de/article125423641_retresco.yml\n",
      "Storing file:  output/de/article125423641_alchemy.yml\n",
      "Storing file:  output/de/article125423641_simple.yml\n",
      "Storing file:  output/de/article125423641_txtrazor.yml\n",
      "Storing file:  output/de/article125423641_semant.yml\n",
      "Storing file:  output/de/article125424107_meaningcloud.yml\n",
      "Storing file:  output/de/article125424107_retresco.yml\n",
      "Storing file:  output/de/article125424107_alchemy.yml\n",
      "Storing file:  output/de/article125424107_simple.yml\n",
      "Storing file:  output/de/article125424107_txtrazor.yml\n",
      "Storing file:  output/de/article125424107_semant.yml\n",
      "Storing file:  output/de/article125422595_meaningcloud.yml\n",
      "Storing file:  output/de/article125422595_retresco.yml\n",
      "Storing file:  output/de/article125422595_alchemy.yml\n",
      "Storing file:  output/de/article125422595_simple.yml\n",
      "Storing file:  output/de/article125422595_txtrazor.yml\n",
      "Storing file:  output/de/article125422595_semant.yml\n",
      "Storing file:  output/de/article125422405_meaningcloud.yml\n",
      "Storing file:  output/de/article125422405_retresco.yml\n",
      "Storing file:  output/de/article125422405_alchemy.yml\n",
      "Storing file:  output/de/article125422405_simple.yml\n",
      "Storing file:  output/de/article125422405_txtrazor.yml\n",
      "Storing file:  output/de/article125422405_semant.yml\n",
      "Storing file:  output/de/article125418383_meaningcloud.yml\n",
      "Storing file:  output/de/article125418383_retresco.yml\n",
      "Storing file:  output/de/article125418383_alchemy.yml\n",
      "Storing file:  output/de/article125418383_simple.yml\n",
      "Storing file:  output/de/article125418383_txtrazor.yml\n",
      "Storing file:  output/de/article125418383_semant.yml\n",
      "Storing file:  output/de/article125411892_meaningcloud.yml\n",
      "Storing file:  output/de/article125411892_retresco.yml\n",
      "Storing file:  output/de/article125411892_alchemy.yml\n",
      "Storing file:  output/de/article125411892_simple.yml\n",
      "Storing file:  output/de/article125411892_txtrazor.yml\n",
      "Storing file:  output/de/article125411892_semant.yml\n",
      "Storing file:  output/de/article125423635_meaningcloud.yml\n",
      "Storing file:  output/de/article125423635_retresco.yml\n",
      "Storing file:  output/de/article125423635_alchemy.yml\n",
      "Storing file:  output/de/article125423635_simple.yml\n",
      "Storing file:  output/de/article125423635_txtrazor.yml\n",
      "Storing file:  output/de/article125423635_semant.yml\n",
      "Storing file:  output/de/article125421480_meaningcloud.yml\n",
      "Storing file:  output/de/article125421480_retresco.yml\n",
      "Storing file:  output/de/article125421480_alchemy.yml\n",
      "Storing file:  output/de/article125421480_simple.yml\n",
      "Storing file:  output/de/article125421480_txtrazor.yml\n",
      "Storing file:  output/de/article125421480_semant.yml\n",
      "Storing file:  output/de/article125422572_meaningcloud.yml\n",
      "Storing file:  output/de/article125422572_retresco.yml\n",
      "Storing file:  output/de/article125422572_alchemy.yml\n",
      "Storing file:  output/de/article125422572_simple.yml\n",
      "Storing file:  output/de/article125422572_txtrazor.yml\n",
      "Storing file:  output/de/article125422572_semant.yml\n",
      "Storing file:  output/de/article125419459_meaningcloud.yml\n",
      "Storing file:  output/de/article125419459_retresco.yml\n",
      "Storing file:  output/de/article125419459_alchemy.yml\n",
      "Storing file:  output/de/article125419459_simple.yml\n",
      "Storing file:  output/de/article125419459_txtrazor.yml\n",
      "Storing file:  output/de/article125419459_semant.yml\n",
      "Storing file:  output/de/article125421093_meaningcloud.yml\n",
      "Storing file:  output/de/article125421093_retresco.yml\n",
      "Storing file:  output/de/article125421093_alchemy.yml\n",
      "Storing file:  output/de/article125421093_simple.yml\n",
      "Storing file:  output/de/article125421093_txtrazor.yml\n",
      "Storing file:  output/de/article125421093_semant.yml\n",
      "Storing file:  output/de/article125419006_meaningcloud.yml\n",
      "Storing file:  output/de/article125419006_retresco.yml\n",
      "Storing file:  output/de/article125419006_alchemy.yml\n",
      "Storing file:  output/de/article125419006_simple.yml\n",
      "Storing file:  output/de/article125419006_txtrazor.yml\n",
      "Storing file:  output/de/article125419006_semant.yml\n",
      "Storing file:  output/de/article125419838_meaningcloud.yml\n",
      "Storing file:  output/de/article125419838_retresco.yml\n",
      "Storing file:  output/de/article125419838_alchemy.yml\n",
      "Storing file:  output/de/article125419838_simple.yml\n",
      "Storing file:  output/de/article125419838_txtrazor.yml\n",
      "Storing file:  output/de/article125419838_semant.yml\n",
      "Storing file:  output/de/article125420088_meaningcloud.yml\n",
      "Storing file:  output/de/article125420088_retresco.yml\n",
      "Storing file:  output/de/article125420088_alchemy.yml\n",
      "Storing file:  output/de/article125420088_simple.yml\n",
      "Storing file:  output/de/article125420088_txtrazor.yml\n",
      "Storing file:  output/de/article125420088_semant.yml\n",
      "Storing file:  output/de/article125419555_meaningcloud.yml\n",
      "Storing file:  output/de/article125419555_retresco.yml\n",
      "Storing file:  output/de/article125419555_alchemy.yml\n",
      "Storing file:  output/de/article125419555_simple.yml\n",
      "Storing file:  output/de/article125419555_txtrazor.yml\n",
      "Storing file:  output/de/article125419555_semant.yml\n",
      "Storing file:  output/de/article125419734_meaningcloud.yml\n",
      "Storing file:  output/de/article125419734_retresco.yml\n",
      "Storing file:  output/de/article125419734_alchemy.yml\n",
      "Storing file:  output/de/article125419734_simple.yml\n",
      "Storing file:  output/de/article125419734_txtrazor.yml\n",
      "Storing file:  output/de/article125419734_semant.yml\n",
      "Storing file:  output/de/article125419949_meaningcloud.yml\n",
      "Storing file:  output/de/article125419949_retresco.yml\n",
      "Storing file:  output/de/article125419949_alchemy.yml\n",
      "Storing file:  output/de/article125419949_simple.yml\n",
      "Storing file:  output/de/article125419949_txtrazor.yml\n",
      "Storing file:  output/de/article125419949_semant.yml\n",
      "Storing file:  output/de/article125411523_meaningcloud.yml\n",
      "Storing file:  output/de/article125411523_retresco.yml\n",
      "Storing file:  output/de/article125411523_alchemy.yml\n",
      "Storing file:  output/de/article125411523_simple.yml\n",
      "Storing file:  output/de/article125411523_txtrazor.yml\n",
      "Storing file:  output/de/article125411523_semant.yml\n",
      "Storing file:  output/de/article125418264_meaningcloud.yml\n",
      "Storing file:  output/de/article125418264_retresco.yml\n",
      "Storing file:  output/de/article125418264_alchemy.yml\n",
      "Storing file:  output/de/article125418264_simple.yml\n",
      "Storing file:  output/de/article125418264_txtrazor.yml\n",
      "Storing file:  output/de/article125418264_semant.yml\n",
      "Storing file:  output/de/article125417594_meaningcloud.yml\n",
      "Storing file:  output/de/article125417594_retresco.yml\n",
      "Storing file:  output/de/article125417594_alchemy.yml\n",
      "Storing file:  output/de/article125417594_simple.yml\n",
      "Storing file:  output/de/article125417594_txtrazor.yml\n",
      "Storing file:  output/de/article125417594_semant.yml\n",
      "Storing file:  output/de/article125416040_meaningcloud.yml\n",
      "Storing file:  output/de/article125416040_retresco.yml\n",
      "Storing file:  output/de/article125416040_alchemy.yml\n",
      "Storing file:  output/de/article125416040_simple.yml\n",
      "Storing file:  output/de/article125416040_txtrazor.yml\n",
      "Storing file:  output/de/article125416040_semant.yml\n",
      "Storing file:  output/de/article125416743_meaningcloud.yml\n",
      "Storing file:  output/de/article125416743_retresco.yml\n",
      "Storing file:  output/de/article125416743_alchemy.yml\n",
      "Storing file:  output/de/article125416743_simple.yml\n",
      "Storing file:  output/de/article125416743_txtrazor.yml\n",
      "Storing file:  output/de/article125416743_semant.yml\n",
      "Storing file:  output/de/article125416433_meaningcloud.yml\n",
      "Storing file:  output/de/article125416433_retresco.yml\n",
      "Storing file:  output/de/article125416433_alchemy.yml\n",
      "Storing file:  output/de/article125416433_simple.yml\n",
      "Storing file:  output/de/article125416433_txtrazor.yml\n",
      "Storing file:  output/de/article125416433_semant.yml\n",
      "Storing file:  output/de/article125414274_meaningcloud.yml\n",
      "Storing file:  output/de/article125414274_retresco.yml\n",
      "Storing file:  output/de/article125414274_alchemy.yml\n",
      "Storing file:  output/de/article125414274_simple.yml\n",
      "Storing file:  output/de/article125414274_txtrazor.yml\n",
      "Storing file:  output/de/article125414274_semant.yml\n",
      "Storing file:  output/de/article125414811_meaningcloud.yml\n",
      "Storing file:  output/de/article125414811_retresco.yml\n",
      "Storing file:  output/de/article125414811_alchemy.yml\n",
      "Storing file:  output/de/article125414811_simple.yml\n",
      "Storing file:  output/de/article125414811_txtrazor.yml\n",
      "Storing file:  output/de/article125414811_semant.yml\n",
      "Storing file:  output/de/article125411879_meaningcloud.yml\n",
      "Storing file:  output/de/article125411879_retresco.yml\n",
      "Storing file:  output/de/article125411879_alchemy.yml\n",
      "Storing file:  output/de/article125411879_simple.yml\n",
      "Storing file:  output/de/article125411879_txtrazor.yml\n",
      "Storing file:  output/de/article125411879_semant.yml\n",
      "Storing file:  output/de/article125414637_meaningcloud.yml\n",
      "Storing file:  output/de/article125414637_retresco.yml\n",
      "Storing file:  output/de/article125414637_alchemy.yml\n",
      "Storing file:  output/de/article125414637_simple.yml\n",
      "Storing file:  output/de/article125414637_txtrazor.yml\n",
      "Storing file:  output/de/article125414637_semant.yml\n",
      "Storing file:  output/de/article125411855_meaningcloud.yml\n",
      "Storing file:  output/de/article125411855_retresco.yml\n",
      "Storing file:  output/de/article125411855_alchemy.yml\n",
      "Storing file:  output/de/article125411855_simple.yml\n",
      "Storing file:  output/de/article125411855_txtrazor.yml\n",
      "Storing file:  output/de/article125411855_semant.yml\n",
      "Storing file:  output/de/article125414830_meaningcloud.yml\n",
      "Storing file:  output/de/article125414830_retresco.yml\n",
      "Storing file:  output/de/article125414830_alchemy.yml\n",
      "Storing file:  output/de/article125414830_simple.yml\n",
      "Storing file:  output/de/article125414830_txtrazor.yml\n",
      "Storing file:  output/de/article125414830_semant.yml\n",
      "Storing file:  output/de/article125412072_meaningcloud.yml\n",
      "Storing file:  output/de/article125412072_retresco.yml\n",
      "Storing file:  output/de/article125412072_alchemy.yml\n",
      "Storing file:  output/de/article125412072_simple.yml\n",
      "Storing file:  output/de/article125412072_txtrazor.yml\n",
      "Storing file:  output/de/article125412072_semant.yml\n",
      "Storing file:  output/de/article125414913_meaningcloud.yml\n",
      "Storing file:  output/de/article125414913_retresco.yml\n",
      "Storing file:  output/de/article125414913_alchemy.yml\n",
      "Storing file:  output/de/article125414913_simple.yml\n",
      "Storing file:  output/de/article125414913_txtrazor.yml\n",
      "Storing file:  output/de/article125414913_semant.yml\n",
      "Storing file:  output/de/article125413715_meaningcloud.yml\n",
      "Storing file:  output/de/article125413715_retresco.yml\n",
      "Storing file:  output/de/article125413715_alchemy.yml\n",
      "Storing file:  output/de/article125413715_simple.yml\n",
      "Storing file:  output/de/article125413715_txtrazor.yml\n",
      "Storing file:  output/de/article125413715_semant.yml\n",
      "Storing file:  output/de/article125413599_meaningcloud.yml\n",
      "Storing file:  output/de/article125413599_retresco.yml\n",
      "Storing file:  output/de/article125413599_alchemy.yml\n",
      "Storing file:  output/de/article125413599_simple.yml\n",
      "Storing file:  output/de/article125413599_txtrazor.yml\n",
      "Storing file:  output/de/article125413599_semant.yml\n",
      "Storing file:  output/de/article125412900_meaningcloud.yml\n",
      "Storing file:  output/de/article125412900_retresco.yml\n",
      "Storing file:  output/de/article125412900_alchemy.yml\n",
      "Storing file:  output/de/article125412900_simple.yml\n",
      "Storing file:  output/de/article125412900_txtrazor.yml\n",
      "Storing file:  output/de/article125412900_semant.yml\n",
      "Storing file:  output/de/article125407288_meaningcloud.yml\n",
      "Storing file:  output/de/article125407288_retresco.yml\n",
      "Storing file:  output/de/article125407288_alchemy.yml\n",
      "Storing file:  output/de/article125407288_simple.yml\n",
      "Storing file:  output/de/article125407288_txtrazor.yml\n",
      "Storing file:  output/de/article125407288_semant.yml\n",
      "Storing file:  output/de/article125412733_meaningcloud.yml\n",
      "Storing file:  output/de/article125412733_retresco.yml\n",
      "Storing file:  output/de/article125412733_alchemy.yml\n",
      "Storing file:  output/de/article125412733_simple.yml\n",
      "Storing file:  output/de/article125412733_txtrazor.yml\n",
      "Storing file:  output/de/article125412733_semant.yml\n",
      "Storing file:  output/de/article125411758_meaningcloud.yml\n",
      "Storing file:  output/de/article125411758_retresco.yml\n",
      "Storing file:  output/de/article125411758_alchemy.yml\n",
      "Storing file:  output/de/article125411758_simple.yml\n",
      "Storing file:  output/de/article125411758_txtrazor.yml\n",
      "Storing file:  output/de/article125411758_semant.yml\n",
      "Storing file:  output/de/article125412598_meaningcloud.yml\n",
      "Storing file:  output/de/article125412598_retresco.yml\n",
      "Storing file:  output/de/article125412598_alchemy.yml\n",
      "Storing file:  output/de/article125412598_simple.yml\n",
      "Storing file:  output/de/article125412598_txtrazor.yml\n",
      "Storing file:  output/de/article125412598_semant.yml\n",
      "Storing file:  output/de/article125412309_meaningcloud.yml\n",
      "Storing file:  output/de/article125412309_retresco.yml\n",
      "Storing file:  output/de/article125412309_alchemy.yml\n",
      "Storing file:  output/de/article125412309_simple.yml\n",
      "Storing file:  output/de/article125412309_txtrazor.yml\n",
      "Storing file:  output/de/article125412309_semant.yml\n",
      "Storing file:  output/de/article125397600_meaningcloud.yml\n",
      "Storing file:  output/de/article125397600_retresco.yml\n",
      "Storing file:  output/de/article125397600_alchemy.yml\n",
      "Storing file:  output/de/article125397600_simple.yml\n",
      "Storing file:  output/de/article125397600_txtrazor.yml\n",
      "Storing file:  output/de/article125397600_semant.yml\n",
      "Storing file:  output/de/article125411133_meaningcloud.yml\n",
      "Storing file:  output/de/article125411133_retresco.yml\n",
      "Storing file:  output/de/article125411133_alchemy.yml\n",
      "Storing file:  output/de/article125411133_simple.yml\n",
      "Storing file:  output/de/article125411133_txtrazor.yml\n",
      "Storing file:  output/de/article125411133_semant.yml\n",
      "Storing file:  output/de/article125410849_meaningcloud.yml\n",
      "Storing file:  output/de/article125410849_retresco.yml\n",
      "Storing file:  output/de/article125410849_alchemy.yml\n",
      "Storing file:  output/de/article125410849_simple.yml\n",
      "Storing file:  output/de/article125410849_txtrazor.yml\n",
      "Storing file:  output/de/article125410849_semant.yml\n",
      "Storing file:  output/de/article125409377_meaningcloud.yml\n",
      "Storing file:  output/de/article125409377_retresco.yml\n",
      "Storing file:  output/de/article125409377_alchemy.yml\n",
      "Storing file:  output/de/article125409377_simple.yml\n",
      "Storing file:  output/de/article125409377_txtrazor.yml\n",
      "Storing file:  output/de/article125409377_semant.yml\n",
      "Storing file:  output/de/article125410611_meaningcloud.yml\n",
      "Storing file:  output/de/article125410611_retresco.yml\n",
      "Storing file:  output/de/article125410611_alchemy.yml\n",
      "Storing file:  output/de/article125410611_simple.yml\n",
      "Storing file:  output/de/article125410611_txtrazor.yml\n",
      "Storing file:  output/de/article125410611_semant.yml\n",
      "Storing file:  output/de/article125410545_meaningcloud.yml\n",
      "Storing file:  output/de/article125410545_retresco.yml\n",
      "Storing file:  output/de/article125410545_alchemy.yml\n",
      "Storing file:  output/de/article125410545_simple.yml\n",
      "Storing file:  output/de/article125410545_txtrazor.yml\n",
      "Storing file:  output/de/article125410545_semant.yml\n",
      "Storing file:  output/de/article125410683_meaningcloud.yml\n",
      "Storing file:  output/de/article125410683_retresco.yml\n",
      "Storing file:  output/de/article125410683_alchemy.yml\n",
      "Storing file:  output/de/article125410683_simple.yml\n",
      "Storing file:  output/de/article125410683_txtrazor.yml\n",
      "Storing file:  output/de/article125410683_semant.yml\n",
      "Storing file:  output/de/article125410701_meaningcloud.yml\n",
      "Storing file:  output/de/article125410701_retresco.yml\n",
      "Storing file:  output/de/article125410701_alchemy.yml\n",
      "Storing file:  output/de/article125410701_simple.yml\n",
      "Storing file:  output/de/article125410701_txtrazor.yml\n",
      "Storing file:  output/de/article125410701_semant.yml\n"
     ]
    }
   ],
   "source": [
    "eval.store_articles(articles_enriched, \"de\")"
   ]
  },
  {
   "cell_type": "code",
   "execution_count": 10,
   "metadata": {},
   "outputs": [],
   "source": [
    "import semaeval.statistics as stats"
   ]
  },
  {
   "cell_type": "code",
   "execution_count": 11,
   "metadata": {},
   "outputs": [],
   "source": [
    "articles=stats.load_articles(\"de\")"
   ]
  },
  {
   "cell_type": "code",
   "execution_count": 12,
   "metadata": {},
   "outputs": [],
   "source": [
    "data=stats.collect_data(articles)"
   ]
  },
  {
   "cell_type": "code",
   "execution_count": 13,
   "metadata": {},
   "outputs": [],
   "source": [
    "results=stats.aggregate_result(data)"
   ]
  },
  {
   "cell_type": "code",
   "execution_count": 14,
   "metadata": {},
   "outputs": [],
   "source": [
    "results.extend(stats.compute_total(results))"
   ]
  },
  {
   "cell_type": "code",
   "execution_count": 15,
   "metadata": {},
   "outputs": [],
   "source": [
    "%matplotlib inline"
   ]
  },
  {
   "cell_type": "code",
   "execution_count": 16,
   "metadata": {},
   "outputs": [
    {
     "data": {
      "image/png": "[encoded data removed]"
     },
     "output_type": "display_data",
     "metadata": {}
    }
   ],
   "source": [
    "stats.plot_results(results)"
   ]
  }
 ],
 "metadata": {
  "kernelspec": {
   "display_name": "Python 2",
   "language": "python",
   "name": "python2"
  },
  "language_info": {
   "codemirror_mode": {
    "name": "ipython",
    "version": 2.0
   },
   "file_extension": ".py",
   "mimetype": "text/x-python",
   "name": "python",
   "nbconvert_exporter": "python",
   "pygments_lexer": "ipython2",
   "version": "2.7.9"
  }
 },
 "nbformat": 4,
 "nbformat_minor": 0
}